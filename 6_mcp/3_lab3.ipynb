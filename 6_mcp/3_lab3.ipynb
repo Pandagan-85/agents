{
 "cells": [
  {
   "cell_type": "markdown",
   "metadata": {},
   "source": [
    "### Welcome to Week 6 Day 3!\n",
    "\n",
    "Let's experiment with a bunch more MCP Servers"
   ]
  },
  {
   "cell_type": "code",
   "execution_count": 14,
   "metadata": {},
   "outputs": [
    {
     "data": {
      "text/plain": [
       "True"
      ]
     },
     "execution_count": 14,
     "metadata": {},
     "output_type": "execute_result"
    }
   ],
   "source": [
    "from dotenv import load_dotenv\n",
    "from agents import Agent, Runner, trace\n",
    "from agents.mcp import MCPServerStdio\n",
    "import os\n",
    "from IPython.display import Markdown, display\n",
    "from datetime import datetime\n",
    "load_dotenv(override=True)"
   ]
  },
  {
   "cell_type": "markdown",
   "metadata": {},
   "source": [
    "### The first type of MCP Server: runs locally, everything local\n",
    "\n",
    "Here's a really interesting one: a knowledge-graph based memory.\n",
    "\n",
    "It's a persistent memory store of entities, observations about them, and relationships between them.\n",
    "\n",
    "https://github.com/modelcontextprotocol/servers/tree/main/src/memory\n"
   ]
  },
  {
   "cell_type": "code",
   "execution_count": 2,
   "metadata": {},
   "outputs": [
    {
     "data": {
      "text/plain": [
       "[Tool(name='create_entities', description='Create new entities with observations and optional embeddings', inputSchema={'$schema': 'http://json-schema.org/draft-07/schema#', 'type': 'object', 'properties': {'entities': {'type': 'array', 'items': {'type': 'object', 'properties': {'name': {'type': 'string'}, 'entityType': {'type': 'string'}, 'observations': {'type': 'array', 'items': {'type': 'string'}}, 'embedding': {'type': 'array', 'items': {'type': 'number'}}}, 'required': ['name', 'entityType', 'observations']}}}, 'required': ['entities']}, annotations=None, title='Create new entities with observations and optional embeddings'),\n",
       " Tool(name='search_nodes', description='Search for entities and their relations using text or vector similarity', inputSchema={'$schema': 'http://json-schema.org/draft-07/schema#', 'type': 'object', 'properties': {'query': {'anyOf': [{'type': 'string'}, {'type': 'array', 'items': {'type': 'number'}}]}}, 'required': ['query']}, annotations=None, title='Search for entities and their relations using text or vector similarity'),\n",
       " Tool(name='read_graph', description='Get recent entities and their relations', inputSchema={'type': 'object', 'properties': {}}, annotations=None, title='Get recent entities and their relations'),\n",
       " Tool(name='create_relations', description='Create relations between entities', inputSchema={'$schema': 'http://json-schema.org/draft-07/schema#', 'type': 'object', 'properties': {'relations': {'type': 'array', 'items': {'type': 'object', 'properties': {'source': {'type': 'string'}, 'target': {'type': 'string'}, 'type': {'type': 'string'}}, 'required': ['source', 'target', 'type']}}}, 'required': ['relations']}, annotations=None, title='Create relations between entities'),\n",
       " Tool(name='delete_entity', description='Delete an entity and all its associated data (observations and relations)', inputSchema={'$schema': 'http://json-schema.org/draft-07/schema#', 'type': 'object', 'properties': {'name': {'type': 'string'}}, 'required': ['name']}, annotations=None, title='Delete an entity and all its associated data (observations and relations)'),\n",
       " Tool(name='delete_relation', description='Delete a specific relation between entities', inputSchema={'$schema': 'http://json-schema.org/draft-07/schema#', 'type': 'object', 'properties': {'source': {'type': 'string'}, 'target': {'type': 'string'}, 'type': {'type': 'string'}}, 'required': ['source', 'target', 'type']}, annotations=None, title='Delete a specific relation between entities')]"
      ]
     },
     "execution_count": 2,
     "metadata": {},
     "output_type": "execute_result"
    }
   ],
   "source": [
    "params = {\"command\": \"npx\",\"args\": [\"-y\", \"mcp-memory-libsql\"],\"env\": {\"LIBSQL_URL\": \"file:./memory/ed.db\"}}\n",
    "\n",
    "async with MCPServerStdio(params=params, client_session_timeout_seconds=30) as server:\n",
    "    mcp_tools = await server.list_tools()\n",
    "\n",
    "mcp_tools"
   ]
  },
  {
   "cell_type": "code",
   "execution_count": 3,
   "metadata": {},
   "outputs": [],
   "source": [
    "instructions = \"You use your entity tools as a persistent memory to store and recall information about your conversations.\"\n",
    "request = \"My name's Ed. I'm an LLM engineer. I'm teaching a course about AI Agents, including the incredible MCP protocol. \\\n",
    "MCP is a protocol for connecting agents with tools, resources and prompt templates, and makes it easy to integrate AI agents with capabilities.\"\n",
    "model = \"gpt-4.1-mini\""
   ]
  },
  {
   "cell_type": "code",
   "execution_count": 4,
   "metadata": {},
   "outputs": [
    {
     "data": {
      "text/markdown": [
       "Nice to meet you, Ed! It sounds like you're working on some fascinating topics with AI Agents and the MCP protocol. If you'd like, I can help you with information, resources, or brainstorming ideas related to your course or the MCP protocol. Just let me know!"
      ],
      "text/plain": [
       "<IPython.core.display.Markdown object>"
      ]
     },
     "metadata": {},
     "output_type": "display_data"
    }
   ],
   "source": [
    "async with MCPServerStdio(params=params, client_session_timeout_seconds=30) as mcp_server:\n",
    "    agent = Agent(name=\"agent\", instructions=instructions, model=model, mcp_servers=[mcp_server])\n",
    "    with trace(\"conversation\"):\n",
    "        result = await Runner.run(agent, request)\n",
    "    display(Markdown(result.final_output))"
   ]
  },
  {
   "cell_type": "code",
   "execution_count": 5,
   "metadata": {},
   "outputs": [
    {
     "data": {
      "text/markdown": [
       "I know that you are Ed, an LLM engineer. You are also teaching a course about AI Agents, and you include teaching about the MCP protocol in your course. Is there anything specific you'd like to share or update about yourself?"
      ],
      "text/plain": [
       "<IPython.core.display.Markdown object>"
      ]
     },
     "metadata": {},
     "output_type": "display_data"
    }
   ],
   "source": [
    "async with MCPServerStdio(params=params, client_session_timeout_seconds=30) as mcp_server:\n",
    "    agent = Agent(name=\"agent\", instructions=instructions, model=model, mcp_servers=[mcp_server])\n",
    "    with trace(\"conversation\"):\n",
    "        result = await Runner.run(agent, \"My name's Ed. What do you know about me?\")\n",
    "    display(Markdown(result.final_output))"
   ]
  },
  {
   "cell_type": "markdown",
   "metadata": {},
   "source": [
    "### Check the trace:\n",
    "\n",
    "https://platform.openai.com/traces"
   ]
  },
  {
   "cell_type": "markdown",
   "metadata": {},
   "source": [
    "### The 2nd type of MCP server - runs locally, calls a web service\n",
    "\n",
    "### Brave Search - apologies - this will need another API key! But it's free again.\n",
    "\n",
    "https://brave.com/search/api/\n",
    "\n",
    "Set up your account, and put your key in the .env under `BRAVE_API_KEY`"
   ]
  },
  {
   "cell_type": "code",
   "execution_count": 15,
   "metadata": {},
   "outputs": [
    {
     "data": {
      "text/plain": [
       "[Tool(name='brave_web_search', description='Performs a web search using the Brave Search API, ideal for general queries, news, articles, and online content. Use this for broad information gathering, recent events, or when you need diverse web sources. Supports pagination, content filtering, and freshness controls. Maximum 20 results per request, with offset for pagination. ', inputSchema={'type': 'object', 'properties': {'query': {'type': 'string', 'description': 'Search query (max 400 chars, 50 words)'}, 'count': {'type': 'number', 'description': 'Number of results (1-20, default 10)', 'default': 10}, 'offset': {'type': 'number', 'description': 'Pagination offset (max 9, default 0)', 'default': 0}}, 'required': ['query']}, annotations=None),\n",
       " Tool(name='brave_local_search', description=\"Searches for local businesses and places using Brave's Local Search API. Best for queries related to physical locations, businesses, restaurants, services, etc. Returns detailed information including:\\n- Business names and addresses\\n- Ratings and review counts\\n- Phone numbers and opening hours\\nUse this when the query implies 'near me' or mentions specific locations. Automatically falls back to web search if no local results are found.\", inputSchema={'type': 'object', 'properties': {'query': {'type': 'string', 'description': \"Local search query (e.g. 'pizza near Central Park')\"}, 'count': {'type': 'number', 'description': 'Number of results (1-20, default 5)', 'default': 5}}, 'required': ['query']}, annotations=None)]"
      ]
     },
     "execution_count": 15,
     "metadata": {},
     "output_type": "execute_result"
    }
   ],
   "source": [
    "env = {\"BRAVE_API_KEY\": os.getenv(\"BRAVE_API_KEY\")}\n",
    "params = {\"command\": \"npx\", \"args\": [\"-y\", \"@modelcontextprotocol/server-brave-search\"], \"env\": env}\n",
    "\n",
    "async with MCPServerStdio(params=params) as server:\n",
    "    mcp_tools = await server.list_tools()\n",
    "\n",
    "mcp_tools"
   ]
  },
  {
   "cell_type": "code",
   "execution_count": 16,
   "metadata": {},
   "outputs": [],
   "source": [
    "instructions = \"You are able to search the web for information and briefly summarize the takeaways.\"\n",
    "request = f\"Please research the latest news on Amazon stock price and briefly summarize its outlook. \\\n",
    "For context, the current date is {datetime.now().strftime('%Y-%m-%d')}\"\n",
    "model = \"gpt-4o-mini\""
   ]
  },
  {
   "cell_type": "code",
   "execution_count": 10,
   "metadata": {},
   "outputs": [
    {
     "data": {
      "text/markdown": [
       "### Amazon Stock Price Outlook as of October 2025\n",
       "\n",
       "1. **Current Price and Targets**:\n",
       "   - As of October 8, 2025, Amazon's stock (AMZN) is experiencing a potential upside with a median one-year price target set at **$267.88**, representing about **20.01%** upside from its current trading price.\n",
       "\n",
       "2. **Monthly Forecast**:\n",
       "   - Estimates for October 2025 suggest the stock will start around **$221**, with projected fluctuations between a maximum of **$251** and a minimum of **$199**, stabilizing around an average of **$222**.\n",
       "\n",
       "3. **Long-term Projections**:\n",
       "   - Analysts are optimistic about growth, forecasting that Amazon could reach approximately **$354.36 by 2030**. Revenues are expected to rise significantly, from **$710 billion in 2025** to an estimated **$1.153 trillion by 2030**.\n",
       "\n",
       "In summary, while the short-term outlook indicates moderate volatility, the long-term projections are bullish, suggesting continued growth and investment potential in Amazon's business."
      ],
      "text/plain": [
       "<IPython.core.display.Markdown object>"
      ]
     },
     "metadata": {},
     "output_type": "display_data"
    }
   ],
   "source": [
    "async with MCPServerStdio(params=params, client_session_timeout_seconds=30) as mcp_server:\n",
    "    agent = Agent(name=\"agent\", instructions=instructions, model=model, mcp_servers=[mcp_server])\n",
    "    with trace(\"conversation\"):\n",
    "        result = await Runner.run(agent, request)\n",
    "    display(Markdown(result.final_output))"
   ]
  },
  {
   "cell_type": "markdown",
   "metadata": {},
   "source": [
    "### As usual, check out the trace:\n",
    "\n",
    "https://platform.openai.com/traces"
   ]
  },
  {
   "cell_type": "markdown",
   "metadata": {},
   "source": [
    "## And now the third type: running remotely\n",
    "\n",
    "It's actually really hard to find a \"remote MCP server\" aka \"hosted MCP server\" aka \"managed MCP server\".\n",
    "\n",
    "It's not a common model for using or sharing MCP servers, and there isn't a standard way to discover remote MCP servers.\n",
    "\n",
    "Anthropic lists some remote MCP servers, but these are for paid applications with business users:\n",
    "\n",
    "https://docs.anthropic.com/en/docs/agents-and-tools/remote-mcp-servers\n",
    "\n",
    "CloudFlare has tooling for you to create and deploy your own remote MCP servers, but this does not seem to be a common practice:\n",
    "\n",
    "https://developers.cloudflare.com/agents/guides/remote-mcp-server/\n"
   ]
  },
  {
   "cell_type": "markdown",
   "metadata": {},
   "source": [
    "# And back to the 2nd type: the Polygon.io MCP Server"
   ]
  },
  {
   "cell_type": "markdown",
   "metadata": {},
   "source": [
    "<table style=\"margin: 0; text-align: left; width:100%\">\n",
    "    <tr>\n",
    "        <td style=\"width: 150px; height: 150px; vertical-align: middle;\">\n",
    "            <img src=\"../assets/stop.png\" width=\"150\" height=\"150\" style=\"display: block;\" />\n",
    "        </td>\n",
    "        <td>\n",
    "            <h2 style=\"color:#ff7800;\">PLEASE READ!!-</h2>\n",
    "            <span style=\"color:#ff7800;\">This service for financial market data has both a FREE plan and a PAID plan, and we can use either depending on your appetite.\n",
    "            </span>\n",
    "        </td>\n",
    "    </tr>\n",
    "</table>"
   ]
  },
  {
   "cell_type": "markdown",
   "metadata": {},
   "source": [
    "## NEW SECTION: Introducing polygon.io\n",
    "\n",
    "Polygon.io is a hugely popular financial data provider. It has a free plan and a paid plan. And it also has an MCP Server!\n",
    "\n",
    "First, read up on polygon.io on their excellent website, including looking at their pricing:\n",
    "\n",
    "https://polygon.io\n",
    "\n",
    "### Polygon.io Part 1: Polygon.io free service (the paid will be totally optional, of course!)\n",
    "\n",
    "1. Please sign up for polygon.io (top right)  \n",
    "2. Once signed in, please select \"Keys\" in the left hand navigation\n",
    "3. Press the blue \"New Key\" button\n",
    "4. Copy the key name\n",
    "5. Edit your .env file and add the row:\n",
    "\n",
    "`POLYGON_API_KEY=xxxx`"
   ]
  },
  {
   "cell_type": "code",
   "execution_count": 17,
   "metadata": {},
   "outputs": [],
   "source": [
    "load_dotenv(override=True)\n",
    "polygon_api_key = os.getenv(\"POLYGON_API_KEY\")\n",
    "if not polygon_api_key:\n",
    "    print(\"POLYGON_API_KEY is not set\")"
   ]
  },
  {
   "cell_type": "code",
   "execution_count": 18,
   "metadata": {},
   "outputs": [
    {
     "data": {
      "text/plain": [
       "PreviousCloseAgg(ticker='AAPL', close=254.04, high=258, low=253.14, open=257.805, timestamp=1760040000000, volume=38322012.0, vwap=254.5102)"
      ]
     },
     "execution_count": 18,
     "metadata": {},
     "output_type": "execute_result"
    }
   ],
   "source": [
    "from polygon import RESTClient\n",
    "client = RESTClient(polygon_api_key)\n",
    "client.get_previous_close_agg(\"AAPL\")[0]"
   ]
  },
  {
   "cell_type": "markdown",
   "metadata": {},
   "source": [
    "### Wrapped into a python module that caches end of day prices\n",
    "\n",
    "I've made a python module `market.py` that uses this API to look up share prices.\n",
    "\n",
    "But the free API is quite heavily rate limited - so I've been a bit sneaky; when you ask for a share price, this function retrieves the entire end-of-day equity market, and caches it in our database.\n"
   ]
  },
  {
   "cell_type": "code",
   "execution_count": 19,
   "metadata": {},
   "outputs": [
    {
     "data": {
      "text/plain": [
       "254.04"
      ]
     },
     "execution_count": 19,
     "metadata": {},
     "output_type": "execute_result"
    }
   ],
   "source": [
    "from market import get_share_price\n",
    "get_share_price(\"AAPL\")"
   ]
  },
  {
   "cell_type": "code",
   "execution_count": 20,
   "metadata": {},
   "outputs": [
    {
     "data": {
      "text/plain": [
       "254.04"
      ]
     },
     "execution_count": 20,
     "metadata": {},
     "output_type": "execute_result"
    }
   ],
   "source": [
    "# no rate limiting concerns!\n",
    "\n",
    "for i in range(1000):\n",
    "    get_share_price(\"AAPL\")\n",
    "get_share_price(\"AAPL\")"
   ]
  },
  {
   "cell_type": "markdown",
   "metadata": {},
   "source": [
    "### And I've made this into an MCP Server\n",
    "\n",
    "Just as we did with accounts.py; see `market_server.py`"
   ]
  },
  {
   "cell_type": "code",
   "execution_count": 21,
   "metadata": {},
   "outputs": [
    {
     "data": {
      "text/plain": [
       "[Tool(name='lookup_share_price', description='This tool provides the current price of the given stock symbol.\\n\\n    Args:\\n        symbol: the symbol of the stock\\n    ', inputSchema={'properties': {'symbol': {'title': 'Symbol', 'type': 'string'}}, 'required': ['symbol'], 'title': 'lookup_share_priceArguments', 'type': 'object'}, annotations=None)]"
      ]
     },
     "execution_count": 21,
     "metadata": {},
     "output_type": "execute_result"
    }
   ],
   "source": [
    "params = {\"command\": \"uv\", \"args\": [\"run\", \"market_server.py\"]}\n",
    "async with MCPServerStdio(params=params) as server:\n",
    "    mcp_tools = await server.list_tools()\n",
    "mcp_tools"
   ]
  },
  {
   "cell_type": "markdown",
   "metadata": {},
   "source": [
    "### Let's try it out!\n",
    "\n",
    "Hopefully gpt-4o-mini is smart enough to know that the symbol for Apple is AAPL"
   ]
  },
  {
   "cell_type": "code",
   "execution_count": 22,
   "metadata": {},
   "outputs": [
    {
     "data": {
      "text/markdown": [
       "The current share price of Apple (AAPL) is $254.04."
      ],
      "text/plain": [
       "<IPython.core.display.Markdown object>"
      ]
     },
     "metadata": {},
     "output_type": "display_data"
    }
   ],
   "source": [
    "instructions = \"You answer questions about the stock market.\"\n",
    "request = \"What's the share price of Apple?\"\n",
    "model = \"gpt-4.1-mini\"\n",
    "\n",
    "async with MCPServerStdio(params=params) as mcp_server:\n",
    "    agent = Agent(name=\"agent\", instructions=instructions, model=model, mcp_servers=[mcp_server])\n",
    "    with trace(\"conversation\"):\n",
    "        result = await Runner.run(agent, request)\n",
    "    display(Markdown(result.final_output))"
   ]
  },
  {
   "cell_type": "markdown",
   "metadata": {},
   "source": [
    "## Polygon.io Part 2: Paid Plan - Totally Optional!\n",
    "\n",
    "If you are interested, you can subscribe to the monthly plan to get more up to date market data, and unlimited API calls.\n",
    "\n",
    "If you do wish to do this, then it also makes sense to use the full MCP server that Polygon.io has released, to take advantage of all their functionality.\n",
    "\n"
   ]
  },
  {
   "cell_type": "code",
   "execution_count": 24,
   "metadata": {},
   "outputs": [
    {
     "data": {
      "text/plain": [
       "[Tool(name='get_aggs', description='\\nList aggregate bars for a ticker over a given date range in custom time window sizes.\\n', inputSchema={'properties': {'ticker': {'title': 'Ticker', 'type': 'string'}, 'multiplier': {'title': 'Multiplier', 'type': 'integer'}, 'timespan': {'title': 'Timespan', 'type': 'string'}, 'from_': {'anyOf': [{'type': 'string'}, {'type': 'integer'}, {'format': 'date-time', 'type': 'string'}, {'format': 'date', 'type': 'string'}], 'title': 'From'}, 'to': {'anyOf': [{'type': 'string'}, {'type': 'integer'}, {'format': 'date-time', 'type': 'string'}, {'format': 'date', 'type': 'string'}], 'title': 'To'}, 'adjusted': {'anyOf': [{'type': 'boolean'}, {'type': 'null'}], 'default': None, 'title': 'Adjusted'}, 'sort': {'anyOf': [{'type': 'string'}, {'type': 'null'}], 'default': None, 'title': 'Sort'}, 'limit': {'anyOf': [{'type': 'integer'}, {'type': 'null'}], 'default': None, 'title': 'Limit'}, 'params': {'anyOf': [{'additionalProperties': True, 'type': 'object'}, {'type': 'null'}], 'default': None, 'title': 'Params'}}, 'required': ['ticker', 'multiplier', 'timespan', 'from_', 'to'], 'title': 'get_aggsArguments', 'type': 'object'}, annotations=ToolAnnotations(title=None, readOnlyHint=True, destructiveHint=None, idempotentHint=None, openWorldHint=None), outputSchema={'properties': {'result': {'additionalProperties': True, 'title': 'Result', 'type': 'object'}}, 'required': ['result'], 'title': 'get_aggsOutput', 'type': 'object'}),\n",
       " Tool(name='list_aggs', description='\\nIterate through aggregate bars for a ticker over a given date range.\\n', inputSchema={'properties': {'ticker': {'title': 'Ticker', 'type': 'string'}, 'multiplier': {'title': 'Multiplier', 'type': 'integer'}, 'timespan': {'title': 'Timespan', 'type': 'string'}, 'from_': {'anyOf': [{'type': 'string'}, {'type': 'integer'}, {'format': 'date-time', 'type': 'string'}, {'format': 'date', 'type': 'string'}], 'title': 'From'}, 'to': {'anyOf': [{'type': 'string'}, {'type': 'integer'}, {'format': 'date-time', 'type': 'string'}, {'format': 'date', 'type': 'string'}], 'title': 'To'}, 'adjusted': {'anyOf': [{'type': 'boolean'}, {'type': 'null'}], 'default': None, 'title': 'Adjusted'}, 'sort': {'anyOf': [{'type': 'string'}, {'type': 'null'}], 'default': None, 'title': 'Sort'}, 'limit': {'anyOf': [{'type': 'integer'}, {'type': 'null'}], 'default': None, 'title': 'Limit'}, 'params': {'anyOf': [{'additionalProperties': True, 'type': 'object'}, {'type': 'null'}], 'default': None, 'title': 'Params'}}, 'required': ['ticker', 'multiplier', 'timespan', 'from_', 'to'], 'title': 'list_aggsArguments', 'type': 'object'}, annotations=ToolAnnotations(title=None, readOnlyHint=True, destructiveHint=None, idempotentHint=None, openWorldHint=None), outputSchema={'properties': {'result': {'additionalProperties': True, 'title': 'Result', 'type': 'object'}}, 'required': ['result'], 'title': 'list_aggsOutput', 'type': 'object'}),\n",
       " Tool(name='get_grouped_daily_aggs', description='\\nGet grouped daily bars for entire market for a specific date.\\n', inputSchema={'properties': {'date': {'title': 'Date', 'type': 'string'}, 'adjusted': {'anyOf': [{'type': 'boolean'}, {'type': 'null'}], 'default': None, 'title': 'Adjusted'}, 'include_otc': {'anyOf': [{'type': 'boolean'}, {'type': 'null'}], 'default': None, 'title': 'Include Otc'}, 'locale': {'anyOf': [{'type': 'string'}, {'type': 'null'}], 'default': None, 'title': 'Locale'}, 'market_type': {'anyOf': [{'type': 'string'}, {'type': 'null'}], 'default': None, 'title': 'Market Type'}, 'params': {'anyOf': [{'additionalProperties': True, 'type': 'object'}, {'type': 'null'}], 'default': None, 'title': 'Params'}}, 'required': ['date'], 'title': 'get_grouped_daily_aggsArguments', 'type': 'object'}, annotations=ToolAnnotations(title=None, readOnlyHint=True, destructiveHint=None, idempotentHint=None, openWorldHint=None), outputSchema={'properties': {'result': {'additionalProperties': True, 'title': 'Result', 'type': 'object'}}, 'required': ['result'], 'title': 'get_grouped_daily_aggsOutput', 'type': 'object'}),\n",
       " Tool(name='get_daily_open_close_agg', description='\\nGet daily open, close, high, and low for a specific ticker and date.\\n', inputSchema={'properties': {'ticker': {'title': 'Ticker', 'type': 'string'}, 'date': {'title': 'Date', 'type': 'string'}, 'adjusted': {'anyOf': [{'type': 'boolean'}, {'type': 'null'}], 'default': None, 'title': 'Adjusted'}, 'params': {'anyOf': [{'additionalProperties': True, 'type': 'object'}, {'type': 'null'}], 'default': None, 'title': 'Params'}}, 'required': ['ticker', 'date'], 'title': 'get_daily_open_close_aggArguments', 'type': 'object'}, annotations=ToolAnnotations(title=None, readOnlyHint=True, destructiveHint=None, idempotentHint=None, openWorldHint=None), outputSchema={'properties': {'result': {'additionalProperties': True, 'title': 'Result', 'type': 'object'}}, 'required': ['result'], 'title': 'get_daily_open_close_aggOutput', 'type': 'object'}),\n",
       " Tool(name='get_previous_close_agg', description=\"\\nGet previous day's open, close, high, and low for a specific ticker.\\n\", inputSchema={'properties': {'ticker': {'title': 'Ticker', 'type': 'string'}, 'adjusted': {'anyOf': [{'type': 'boolean'}, {'type': 'null'}], 'default': None, 'title': 'Adjusted'}, 'params': {'anyOf': [{'additionalProperties': True, 'type': 'object'}, {'type': 'null'}], 'default': None, 'title': 'Params'}}, 'required': ['ticker'], 'title': 'get_previous_close_aggArguments', 'type': 'object'}, annotations=ToolAnnotations(title=None, readOnlyHint=True, destructiveHint=None, idempotentHint=None, openWorldHint=None), outputSchema={'properties': {'result': {'additionalProperties': True, 'title': 'Result', 'type': 'object'}}, 'required': ['result'], 'title': 'get_previous_close_aggOutput', 'type': 'object'}),\n",
       " Tool(name='list_trades', description='\\nGet trades for a ticker symbol.\\n', inputSchema={'properties': {'ticker': {'title': 'Ticker', 'type': 'string'}, 'timestamp': {'anyOf': [{'type': 'string'}, {'type': 'integer'}, {'format': 'date-time', 'type': 'string'}, {'format': 'date', 'type': 'string'}, {'type': 'null'}], 'default': None, 'title': 'Timestamp'}, 'timestamp_lt': {'anyOf': [{'type': 'string'}, {'type': 'integer'}, {'format': 'date-time', 'type': 'string'}, {'format': 'date', 'type': 'string'}, {'type': 'null'}], 'default': None, 'title': 'Timestamp Lt'}, 'timestamp_lte': {'anyOf': [{'type': 'string'}, {'type': 'integer'}, {'format': 'date-time', 'type': 'string'}, {'format': 'date', 'type': 'string'}, {'type': 'null'}], 'default': None, 'title': 'Timestamp Lte'}, 'timestamp_gt': {'anyOf': [{'type': 'string'}, {'type': 'integer'}, {'format': 'date-time', 'type': 'string'}, {'format': 'date', 'type': 'string'}, {'type': 'null'}], 'default': None, 'title': 'Timestamp Gt'}, 'timestamp_gte': {'anyOf': [{'type': 'string'}, {'type': 'integer'}, {'format': 'date-time', 'type': 'string'}, {'format': 'date', 'type': 'string'}, {'type': 'null'}], 'default': None, 'title': 'Timestamp Gte'}, 'limit': {'anyOf': [{'type': 'integer'}, {'type': 'null'}], 'default': None, 'title': 'Limit'}, 'sort': {'anyOf': [{'type': 'string'}, {'type': 'null'}], 'default': None, 'title': 'Sort'}, 'order': {'anyOf': [{'type': 'string'}, {'type': 'null'}], 'default': None, 'title': 'Order'}, 'params': {'anyOf': [{'additionalProperties': True, 'type': 'object'}, {'type': 'null'}], 'default': None, 'title': 'Params'}}, 'required': ['ticker'], 'title': 'list_tradesArguments', 'type': 'object'}, annotations=ToolAnnotations(title=None, readOnlyHint=True, destructiveHint=None, idempotentHint=None, openWorldHint=None), outputSchema={'properties': {'result': {'additionalProperties': True, 'title': 'Result', 'type': 'object'}}, 'required': ['result'], 'title': 'list_tradesOutput', 'type': 'object'}),\n",
       " Tool(name='get_last_trade', description='\\nGet the most recent trade for a ticker symbol.\\n', inputSchema={'properties': {'ticker': {'title': 'Ticker', 'type': 'string'}, 'params': {'anyOf': [{'additionalProperties': True, 'type': 'object'}, {'type': 'null'}], 'default': None, 'title': 'Params'}}, 'required': ['ticker'], 'title': 'get_last_tradeArguments', 'type': 'object'}, annotations=ToolAnnotations(title=None, readOnlyHint=True, destructiveHint=None, idempotentHint=None, openWorldHint=None), outputSchema={'properties': {'result': {'additionalProperties': True, 'title': 'Result', 'type': 'object'}}, 'required': ['result'], 'title': 'get_last_tradeOutput', 'type': 'object'}),\n",
       " Tool(name='get_last_crypto_trade', description='\\nGet the most recent trade for a crypto pair.\\n', inputSchema={'properties': {'from_': {'title': 'From', 'type': 'string'}, 'to': {'title': 'To', 'type': 'string'}, 'params': {'anyOf': [{'additionalProperties': True, 'type': 'object'}, {'type': 'null'}], 'default': None, 'title': 'Params'}}, 'required': ['from_', 'to'], 'title': 'get_last_crypto_tradeArguments', 'type': 'object'}, annotations=ToolAnnotations(title=None, readOnlyHint=True, destructiveHint=None, idempotentHint=None, openWorldHint=None), outputSchema={'properties': {'result': {'additionalProperties': True, 'title': 'Result', 'type': 'object'}}, 'required': ['result'], 'title': 'get_last_crypto_tradeOutput', 'type': 'object'}),\n",
       " Tool(name='list_quotes', description='\\nGet quotes for a ticker symbol.\\n', inputSchema={'properties': {'ticker': {'title': 'Ticker', 'type': 'string'}, 'timestamp': {'anyOf': [{'type': 'string'}, {'type': 'integer'}, {'format': 'date-time', 'type': 'string'}, {'format': 'date', 'type': 'string'}, {'type': 'null'}], 'default': None, 'title': 'Timestamp'}, 'timestamp_lt': {'anyOf': [{'type': 'string'}, {'type': 'integer'}, {'format': 'date-time', 'type': 'string'}, {'format': 'date', 'type': 'string'}, {'type': 'null'}], 'default': None, 'title': 'Timestamp Lt'}, 'timestamp_lte': {'anyOf': [{'type': 'string'}, {'type': 'integer'}, {'format': 'date-time', 'type': 'string'}, {'format': 'date', 'type': 'string'}, {'type': 'null'}], 'default': None, 'title': 'Timestamp Lte'}, 'timestamp_gt': {'anyOf': [{'type': 'string'}, {'type': 'integer'}, {'format': 'date-time', 'type': 'string'}, {'format': 'date', 'type': 'string'}, {'type': 'null'}], 'default': None, 'title': 'Timestamp Gt'}, 'timestamp_gte': {'anyOf': [{'type': 'string'}, {'type': 'integer'}, {'format': 'date-time', 'type': 'string'}, {'format': 'date', 'type': 'string'}, {'type': 'null'}], 'default': None, 'title': 'Timestamp Gte'}, 'limit': {'anyOf': [{'type': 'integer'}, {'type': 'null'}], 'default': None, 'title': 'Limit'}, 'sort': {'anyOf': [{'type': 'string'}, {'type': 'null'}], 'default': None, 'title': 'Sort'}, 'order': {'anyOf': [{'type': 'string'}, {'type': 'null'}], 'default': None, 'title': 'Order'}, 'params': {'anyOf': [{'additionalProperties': True, 'type': 'object'}, {'type': 'null'}], 'default': None, 'title': 'Params'}}, 'required': ['ticker'], 'title': 'list_quotesArguments', 'type': 'object'}, annotations=ToolAnnotations(title=None, readOnlyHint=True, destructiveHint=None, idempotentHint=None, openWorldHint=None), outputSchema={'properties': {'result': {'additionalProperties': True, 'title': 'Result', 'type': 'object'}}, 'required': ['result'], 'title': 'list_quotesOutput', 'type': 'object'}),\n",
       " Tool(name='get_last_quote', description='\\nGet the most recent quote for a ticker symbol.\\n', inputSchema={'properties': {'ticker': {'title': 'Ticker', 'type': 'string'}, 'params': {'anyOf': [{'additionalProperties': True, 'type': 'object'}, {'type': 'null'}], 'default': None, 'title': 'Params'}}, 'required': ['ticker'], 'title': 'get_last_quoteArguments', 'type': 'object'}, annotations=ToolAnnotations(title=None, readOnlyHint=True, destructiveHint=None, idempotentHint=None, openWorldHint=None), outputSchema={'properties': {'result': {'additionalProperties': True, 'title': 'Result', 'type': 'object'}}, 'required': ['result'], 'title': 'get_last_quoteOutput', 'type': 'object'}),\n",
       " Tool(name='get_last_forex_quote', description='\\nGet the most recent forex quote.\\n', inputSchema={'properties': {'from_': {'title': 'From', 'type': 'string'}, 'to': {'title': 'To', 'type': 'string'}, 'params': {'anyOf': [{'additionalProperties': True, 'type': 'object'}, {'type': 'null'}], 'default': None, 'title': 'Params'}}, 'required': ['from_', 'to'], 'title': 'get_last_forex_quoteArguments', 'type': 'object'}, annotations=ToolAnnotations(title=None, readOnlyHint=True, destructiveHint=None, idempotentHint=None, openWorldHint=None), outputSchema={'properties': {'result': {'additionalProperties': True, 'title': 'Result', 'type': 'object'}}, 'required': ['result'], 'title': 'get_last_forex_quoteOutput', 'type': 'object'}),\n",
       " Tool(name='get_real_time_currency_conversion', description='\\nGet real-time currency conversion.\\n', inputSchema={'properties': {'from_': {'title': 'From', 'type': 'string'}, 'to': {'title': 'To', 'type': 'string'}, 'amount': {'anyOf': [{'type': 'number'}, {'type': 'null'}], 'default': None, 'title': 'Amount'}, 'precision': {'anyOf': [{'type': 'integer'}, {'type': 'null'}], 'default': None, 'title': 'Precision'}, 'params': {'anyOf': [{'additionalProperties': True, 'type': 'object'}, {'type': 'null'}], 'default': None, 'title': 'Params'}}, 'required': ['from_', 'to'], 'title': 'get_real_time_currency_conversionArguments', 'type': 'object'}, annotations=ToolAnnotations(title=None, readOnlyHint=True, destructiveHint=None, idempotentHint=None, openWorldHint=None), outputSchema={'properties': {'result': {'additionalProperties': True, 'title': 'Result', 'type': 'object'}}, 'required': ['result'], 'title': 'get_real_time_currency_conversionOutput', 'type': 'object'}),\n",
       " Tool(name='list_universal_snapshots', description='\\nGet universal snapshots for multiple assets of a specific type.\\n', inputSchema={'properties': {'type': {'title': 'Type', 'type': 'string'}, 'ticker_any_of': {'anyOf': [{'items': {'type': 'string'}, 'type': 'array'}, {'type': 'null'}], 'default': None, 'title': 'Ticker Any Of'}, 'order': {'anyOf': [{'type': 'string'}, {'type': 'null'}], 'default': None, 'title': 'Order'}, 'limit': {'anyOf': [{'type': 'integer'}, {'type': 'null'}], 'default': None, 'title': 'Limit'}, 'sort': {'anyOf': [{'type': 'string'}, {'type': 'null'}], 'default': None, 'title': 'Sort'}, 'params': {'anyOf': [{'additionalProperties': True, 'type': 'object'}, {'type': 'null'}], 'default': None, 'title': 'Params'}}, 'required': ['type'], 'title': 'list_universal_snapshotsArguments', 'type': 'object'}, annotations=ToolAnnotations(title=None, readOnlyHint=True, destructiveHint=None, idempotentHint=None, openWorldHint=None), outputSchema={'properties': {'result': {'additionalProperties': True, 'title': 'Result', 'type': 'object'}}, 'required': ['result'], 'title': 'list_universal_snapshotsOutput', 'type': 'object'}),\n",
       " Tool(name='get_snapshot_all', description='\\nGet a snapshot of all tickers in a market.\\n', inputSchema={'properties': {'market_type': {'title': 'Market Type', 'type': 'string'}, 'tickers': {'anyOf': [{'items': {'type': 'string'}, 'type': 'array'}, {'type': 'null'}], 'default': None, 'title': 'Tickers'}, 'include_otc': {'anyOf': [{'type': 'boolean'}, {'type': 'null'}], 'default': None, 'title': 'Include Otc'}, 'params': {'anyOf': [{'additionalProperties': True, 'type': 'object'}, {'type': 'null'}], 'default': None, 'title': 'Params'}}, 'required': ['market_type'], 'title': 'get_snapshot_allArguments', 'type': 'object'}, annotations=ToolAnnotations(title=None, readOnlyHint=True, destructiveHint=None, idempotentHint=None, openWorldHint=None), outputSchema={'properties': {'result': {'additionalProperties': True, 'title': 'Result', 'type': 'object'}}, 'required': ['result'], 'title': 'get_snapshot_allOutput', 'type': 'object'}),\n",
       " Tool(name='get_snapshot_direction', description='\\nGet gainers or losers for a market.\\n', inputSchema={'properties': {'market_type': {'title': 'Market Type', 'type': 'string'}, 'direction': {'title': 'Direction', 'type': 'string'}, 'include_otc': {'anyOf': [{'type': 'boolean'}, {'type': 'null'}], 'default': None, 'title': 'Include Otc'}, 'params': {'anyOf': [{'additionalProperties': True, 'type': 'object'}, {'type': 'null'}], 'default': None, 'title': 'Params'}}, 'required': ['market_type', 'direction'], 'title': 'get_snapshot_directionArguments', 'type': 'object'}, annotations=ToolAnnotations(title=None, readOnlyHint=True, destructiveHint=None, idempotentHint=None, openWorldHint=None), outputSchema={'properties': {'result': {'additionalProperties': True, 'title': 'Result', 'type': 'object'}}, 'required': ['result'], 'title': 'get_snapshot_directionOutput', 'type': 'object'}),\n",
       " Tool(name='get_snapshot_ticker', description='\\nGet snapshot for a specific ticker.\\n', inputSchema={'properties': {'market_type': {'title': 'Market Type', 'type': 'string'}, 'ticker': {'title': 'Ticker', 'type': 'string'}, 'params': {'anyOf': [{'additionalProperties': True, 'type': 'object'}, {'type': 'null'}], 'default': None, 'title': 'Params'}}, 'required': ['market_type', 'ticker'], 'title': 'get_snapshot_tickerArguments', 'type': 'object'}, annotations=ToolAnnotations(title=None, readOnlyHint=True, destructiveHint=None, idempotentHint=None, openWorldHint=None), outputSchema={'properties': {'result': {'additionalProperties': True, 'title': 'Result', 'type': 'object'}}, 'required': ['result'], 'title': 'get_snapshot_tickerOutput', 'type': 'object'}),\n",
       " Tool(name='get_snapshot_option', description='\\nGet snapshot for a specific option contract.\\n', inputSchema={'properties': {'underlying_asset': {'title': 'Underlying Asset', 'type': 'string'}, 'option_contract': {'title': 'Option Contract', 'type': 'string'}, 'params': {'anyOf': [{'additionalProperties': True, 'type': 'object'}, {'type': 'null'}], 'default': None, 'title': 'Params'}}, 'required': ['underlying_asset', 'option_contract'], 'title': 'get_snapshot_optionArguments', 'type': 'object'}, annotations=ToolAnnotations(title=None, readOnlyHint=True, destructiveHint=None, idempotentHint=None, openWorldHint=None), outputSchema={'properties': {'result': {'additionalProperties': True, 'title': 'Result', 'type': 'object'}}, 'required': ['result'], 'title': 'get_snapshot_optionOutput', 'type': 'object'}),\n",
       " Tool(name='get_snapshot_crypto_book', description=\"\\nGet snapshot for a crypto ticker's order book.\\n\", inputSchema={'properties': {'ticker': {'title': 'Ticker', 'type': 'string'}, 'params': {'anyOf': [{'additionalProperties': True, 'type': 'object'}, {'type': 'null'}], 'default': None, 'title': 'Params'}}, 'required': ['ticker'], 'title': 'get_snapshot_crypto_bookArguments', 'type': 'object'}, annotations=ToolAnnotations(title=None, readOnlyHint=True, destructiveHint=None, idempotentHint=None, openWorldHint=None), outputSchema={'properties': {'result': {'additionalProperties': True, 'title': 'Result', 'type': 'object'}}, 'required': ['result'], 'title': 'get_snapshot_crypto_bookOutput', 'type': 'object'}),\n",
       " Tool(name='get_market_holidays', description='\\nGet upcoming market holidays and their open/close times.\\n', inputSchema={'properties': {'params': {'anyOf': [{'additionalProperties': True, 'type': 'object'}, {'type': 'null'}], 'default': None, 'title': 'Params'}}, 'title': 'get_market_holidaysArguments', 'type': 'object'}, annotations=ToolAnnotations(title=None, readOnlyHint=True, destructiveHint=None, idempotentHint=None, openWorldHint=None), outputSchema={'properties': {'result': {'additionalProperties': True, 'title': 'Result', 'type': 'object'}}, 'required': ['result'], 'title': 'get_market_holidaysOutput', 'type': 'object'}),\n",
       " Tool(name='get_market_status', description='\\nGet current trading status of exchanges and financial markets.\\n', inputSchema={'properties': {'params': {'anyOf': [{'additionalProperties': True, 'type': 'object'}, {'type': 'null'}], 'default': None, 'title': 'Params'}}, 'title': 'get_market_statusArguments', 'type': 'object'}, annotations=ToolAnnotations(title=None, readOnlyHint=True, destructiveHint=None, idempotentHint=None, openWorldHint=None), outputSchema={'properties': {'result': {'additionalProperties': True, 'title': 'Result', 'type': 'object'}}, 'required': ['result'], 'title': 'get_market_statusOutput', 'type': 'object'}),\n",
       " Tool(name='list_tickers', description='\\nQuery supported ticker symbols across stocks, indices, forex, and crypto.\\n', inputSchema={'properties': {'ticker': {'anyOf': [{'type': 'string'}, {'type': 'null'}], 'default': None, 'title': 'Ticker'}, 'type': {'anyOf': [{'type': 'string'}, {'type': 'null'}], 'default': None, 'title': 'Type'}, 'market': {'anyOf': [{'type': 'string'}, {'type': 'null'}], 'default': None, 'title': 'Market'}, 'exchange': {'anyOf': [{'type': 'string'}, {'type': 'null'}], 'default': None, 'title': 'Exchange'}, 'cusip': {'anyOf': [{'type': 'string'}, {'type': 'null'}], 'default': None, 'title': 'Cusip'}, 'cik': {'anyOf': [{'type': 'string'}, {'type': 'null'}], 'default': None, 'title': 'Cik'}, 'date': {'anyOf': [{'type': 'string'}, {'format': 'date-time', 'type': 'string'}, {'format': 'date', 'type': 'string'}, {'type': 'null'}], 'default': None, 'title': 'Date'}, 'search': {'anyOf': [{'type': 'string'}, {'type': 'null'}], 'default': None, 'title': 'Search'}, 'active': {'anyOf': [{'type': 'boolean'}, {'type': 'null'}], 'default': None, 'title': 'Active'}, 'sort': {'anyOf': [{'type': 'string'}, {'type': 'null'}], 'default': None, 'title': 'Sort'}, 'order': {'anyOf': [{'type': 'string'}, {'type': 'null'}], 'default': None, 'title': 'Order'}, 'limit': {'anyOf': [{'type': 'integer'}, {'type': 'null'}], 'default': None, 'title': 'Limit'}, 'params': {'anyOf': [{'additionalProperties': True, 'type': 'object'}, {'type': 'null'}], 'default': None, 'title': 'Params'}}, 'title': 'list_tickersArguments', 'type': 'object'}, annotations=ToolAnnotations(title=None, readOnlyHint=True, destructiveHint=None, idempotentHint=None, openWorldHint=None), outputSchema={'properties': {'result': {'additionalProperties': True, 'title': 'Result', 'type': 'object'}}, 'required': ['result'], 'title': 'list_tickersOutput', 'type': 'object'}),\n",
       " Tool(name='get_ticker_details', description='\\nGet detailed information about a specific ticker.\\n', inputSchema={'properties': {'ticker': {'title': 'Ticker', 'type': 'string'}, 'date': {'anyOf': [{'type': 'string'}, {'format': 'date-time', 'type': 'string'}, {'format': 'date', 'type': 'string'}, {'type': 'null'}], 'default': None, 'title': 'Date'}, 'params': {'anyOf': [{'additionalProperties': True, 'type': 'object'}, {'type': 'null'}], 'default': None, 'title': 'Params'}}, 'required': ['ticker'], 'title': 'get_ticker_detailsArguments', 'type': 'object'}, annotations=ToolAnnotations(title=None, readOnlyHint=True, destructiveHint=None, idempotentHint=None, openWorldHint=None), outputSchema={'properties': {'result': {'additionalProperties': True, 'title': 'Result', 'type': 'object'}}, 'required': ['result'], 'title': 'get_ticker_detailsOutput', 'type': 'object'}),\n",
       " Tool(name='list_ticker_news', description='\\nGet recent news articles for a stock ticker.\\n', inputSchema={'properties': {'ticker': {'anyOf': [{'type': 'string'}, {'type': 'null'}], 'default': None, 'title': 'Ticker'}, 'published_utc': {'anyOf': [{'type': 'string'}, {'format': 'date-time', 'type': 'string'}, {'format': 'date', 'type': 'string'}, {'type': 'null'}], 'default': None, 'title': 'Published Utc'}, 'limit': {'anyOf': [{'type': 'integer'}, {'type': 'null'}], 'default': None, 'title': 'Limit'}, 'sort': {'anyOf': [{'type': 'string'}, {'type': 'null'}], 'default': None, 'title': 'Sort'}, 'order': {'anyOf': [{'type': 'string'}, {'type': 'null'}], 'default': None, 'title': 'Order'}, 'params': {'anyOf': [{'additionalProperties': True, 'type': 'object'}, {'type': 'null'}], 'default': None, 'title': 'Params'}}, 'title': 'list_ticker_newsArguments', 'type': 'object'}, annotations=ToolAnnotations(title=None, readOnlyHint=True, destructiveHint=None, idempotentHint=None, openWorldHint=None), outputSchema={'properties': {'result': {'additionalProperties': True, 'title': 'Result', 'type': 'object'}}, 'required': ['result'], 'title': 'list_ticker_newsOutput', 'type': 'object'}),\n",
       " Tool(name='get_ticker_types', description='\\nList all ticker types supported by Polygon.io.\\n', inputSchema={'properties': {'asset_class': {'anyOf': [{'type': 'string'}, {'type': 'null'}], 'default': None, 'title': 'Asset Class'}, 'locale': {'anyOf': [{'type': 'string'}, {'type': 'null'}], 'default': None, 'title': 'Locale'}, 'params': {'anyOf': [{'additionalProperties': True, 'type': 'object'}, {'type': 'null'}], 'default': None, 'title': 'Params'}}, 'title': 'get_ticker_typesArguments', 'type': 'object'}, annotations=ToolAnnotations(title=None, readOnlyHint=True, destructiveHint=None, idempotentHint=None, openWorldHint=None), outputSchema={'properties': {'result': {'additionalProperties': True, 'title': 'Result', 'type': 'object'}}, 'required': ['result'], 'title': 'get_ticker_typesOutput', 'type': 'object'}),\n",
       " Tool(name='list_splits', description='\\nGet historical stock splits.\\n', inputSchema={'properties': {'ticker': {'anyOf': [{'type': 'string'}, {'type': 'null'}], 'default': None, 'title': 'Ticker'}, 'execution_date': {'anyOf': [{'type': 'string'}, {'format': 'date-time', 'type': 'string'}, {'format': 'date', 'type': 'string'}, {'type': 'null'}], 'default': None, 'title': 'Execution Date'}, 'reverse_split': {'anyOf': [{'type': 'boolean'}, {'type': 'null'}], 'default': None, 'title': 'Reverse Split'}, 'limit': {'anyOf': [{'type': 'integer'}, {'type': 'null'}], 'default': None, 'title': 'Limit'}, 'params': {'anyOf': [{'additionalProperties': True, 'type': 'object'}, {'type': 'null'}], 'default': None, 'title': 'Params'}}, 'title': 'list_splitsArguments', 'type': 'object'}, annotations=ToolAnnotations(title=None, readOnlyHint=True, destructiveHint=None, idempotentHint=None, openWorldHint=None), outputSchema={'properties': {'result': {'additionalProperties': True, 'title': 'Result', 'type': 'object'}}, 'required': ['result'], 'title': 'list_splitsOutput', 'type': 'object'}),\n",
       " Tool(name='list_dividends', description='\\nGet historical cash dividends.\\n', inputSchema={'properties': {'ticker': {'anyOf': [{'type': 'string'}, {'type': 'null'}], 'default': None, 'title': 'Ticker'}, 'ex_dividend_date': {'anyOf': [{'type': 'string'}, {'format': 'date-time', 'type': 'string'}, {'format': 'date', 'type': 'string'}, {'type': 'null'}], 'default': None, 'title': 'Ex Dividend Date'}, 'frequency': {'anyOf': [{'type': 'integer'}, {'type': 'null'}], 'default': None, 'title': 'Frequency'}, 'dividend_type': {'anyOf': [{'type': 'string'}, {'type': 'null'}], 'default': None, 'title': 'Dividend Type'}, 'limit': {'anyOf': [{'type': 'integer'}, {'type': 'null'}], 'default': None, 'title': 'Limit'}, 'params': {'anyOf': [{'additionalProperties': True, 'type': 'object'}, {'type': 'null'}], 'default': None, 'title': 'Params'}}, 'title': 'list_dividendsArguments', 'type': 'object'}, annotations=ToolAnnotations(title=None, readOnlyHint=True, destructiveHint=None, idempotentHint=None, openWorldHint=None), outputSchema={'properties': {'result': {'additionalProperties': True, 'title': 'Result', 'type': 'object'}}, 'required': ['result'], 'title': 'list_dividendsOutput', 'type': 'object'}),\n",
       " Tool(name='list_conditions', description='\\nList conditions used by Polygon.io.\\n', inputSchema={'properties': {'asset_class': {'anyOf': [{'type': 'string'}, {'type': 'null'}], 'default': None, 'title': 'Asset Class'}, 'data_type': {'anyOf': [{'type': 'string'}, {'type': 'null'}], 'default': None, 'title': 'Data Type'}, 'id': {'anyOf': [{'type': 'integer'}, {'type': 'null'}], 'default': None, 'title': 'Id'}, 'sip': {'anyOf': [{'type': 'string'}, {'type': 'null'}], 'default': None, 'title': 'Sip'}, 'params': {'anyOf': [{'additionalProperties': True, 'type': 'object'}, {'type': 'null'}], 'default': None, 'title': 'Params'}}, 'title': 'list_conditionsArguments', 'type': 'object'}, annotations=ToolAnnotations(title=None, readOnlyHint=True, destructiveHint=None, idempotentHint=None, openWorldHint=None), outputSchema={'properties': {'result': {'additionalProperties': True, 'title': 'Result', 'type': 'object'}}, 'required': ['result'], 'title': 'list_conditionsOutput', 'type': 'object'}),\n",
       " Tool(name='get_exchanges', description='\\nList exchanges known by Polygon.io.\\n', inputSchema={'properties': {'asset_class': {'anyOf': [{'type': 'string'}, {'type': 'null'}], 'default': None, 'title': 'Asset Class'}, 'locale': {'anyOf': [{'type': 'string'}, {'type': 'null'}], 'default': None, 'title': 'Locale'}, 'params': {'anyOf': [{'additionalProperties': True, 'type': 'object'}, {'type': 'null'}], 'default': None, 'title': 'Params'}}, 'title': 'get_exchangesArguments', 'type': 'object'}, annotations=ToolAnnotations(title=None, readOnlyHint=True, destructiveHint=None, idempotentHint=None, openWorldHint=None), outputSchema={'properties': {'result': {'additionalProperties': True, 'title': 'Result', 'type': 'object'}}, 'required': ['result'], 'title': 'get_exchangesOutput', 'type': 'object'}),\n",
       " Tool(name='list_stock_financials', description='\\nGet fundamental financial data for companies.\\n', inputSchema={'properties': {'ticker': {'anyOf': [{'type': 'string'}, {'type': 'null'}], 'default': None, 'title': 'Ticker'}, 'cik': {'anyOf': [{'type': 'string'}, {'type': 'null'}], 'default': None, 'title': 'Cik'}, 'company_name': {'anyOf': [{'type': 'string'}, {'type': 'null'}], 'default': None, 'title': 'Company Name'}, 'company_name_search': {'anyOf': [{'type': 'string'}, {'type': 'null'}], 'default': None, 'title': 'Company Name Search'}, 'sic': {'anyOf': [{'type': 'string'}, {'type': 'null'}], 'default': None, 'title': 'Sic'}, 'filing_date': {'anyOf': [{'type': 'string'}, {'format': 'date-time', 'type': 'string'}, {'format': 'date', 'type': 'string'}, {'type': 'null'}], 'default': None, 'title': 'Filing Date'}, 'filing_date_lt': {'anyOf': [{'type': 'string'}, {'format': 'date-time', 'type': 'string'}, {'format': 'date', 'type': 'string'}, {'type': 'null'}], 'default': None, 'title': 'Filing Date Lt'}, 'filing_date_lte': {'anyOf': [{'type': 'string'}, {'format': 'date-time', 'type': 'string'}, {'format': 'date', 'type': 'string'}, {'type': 'null'}], 'default': None, 'title': 'Filing Date Lte'}, 'filing_date_gt': {'anyOf': [{'type': 'string'}, {'format': 'date-time', 'type': 'string'}, {'format': 'date', 'type': 'string'}, {'type': 'null'}], 'default': None, 'title': 'Filing Date Gt'}, 'filing_date_gte': {'anyOf': [{'type': 'string'}, {'format': 'date-time', 'type': 'string'}, {'format': 'date', 'type': 'string'}, {'type': 'null'}], 'default': None, 'title': 'Filing Date Gte'}, 'period_of_report_date': {'anyOf': [{'type': 'string'}, {'format': 'date-time', 'type': 'string'}, {'format': 'date', 'type': 'string'}, {'type': 'null'}], 'default': None, 'title': 'Period Of Report Date'}, 'period_of_report_date_lt': {'anyOf': [{'type': 'string'}, {'format': 'date-time', 'type': 'string'}, {'format': 'date', 'type': 'string'}, {'type': 'null'}], 'default': None, 'title': 'Period Of Report Date Lt'}, 'period_of_report_date_lte': {'anyOf': [{'type': 'string'}, {'format': 'date-time', 'type': 'string'}, {'format': 'date', 'type': 'string'}, {'type': 'null'}], 'default': None, 'title': 'Period Of Report Date Lte'}, 'period_of_report_date_gt': {'anyOf': [{'type': 'string'}, {'format': 'date-time', 'type': 'string'}, {'format': 'date', 'type': 'string'}, {'type': 'null'}], 'default': None, 'title': 'Period Of Report Date Gt'}, 'period_of_report_date_gte': {'anyOf': [{'type': 'string'}, {'format': 'date-time', 'type': 'string'}, {'format': 'date', 'type': 'string'}, {'type': 'null'}], 'default': None, 'title': 'Period Of Report Date Gte'}, 'timeframe': {'anyOf': [{'type': 'string'}, {'type': 'null'}], 'default': None, 'title': 'Timeframe'}, 'include_sources': {'anyOf': [{'type': 'boolean'}, {'type': 'null'}], 'default': None, 'title': 'Include Sources'}, 'limit': {'anyOf': [{'type': 'integer'}, {'type': 'null'}], 'default': None, 'title': 'Limit'}, 'sort': {'anyOf': [{'type': 'string'}, {'type': 'null'}], 'default': None, 'title': 'Sort'}, 'order': {'anyOf': [{'type': 'string'}, {'type': 'null'}], 'default': None, 'title': 'Order'}, 'params': {'anyOf': [{'additionalProperties': True, 'type': 'object'}, {'type': 'null'}], 'default': None, 'title': 'Params'}}, 'title': 'list_stock_financialsArguments', 'type': 'object'}, annotations=ToolAnnotations(title=None, readOnlyHint=True, destructiveHint=None, idempotentHint=None, openWorldHint=None), outputSchema={'properties': {'result': {'additionalProperties': True, 'title': 'Result', 'type': 'object'}}, 'required': ['result'], 'title': 'list_stock_financialsOutput', 'type': 'object'}),\n",
       " Tool(name='list_ipos', description='\\nRetrieve upcoming or historical IPOs.\\n', inputSchema={'properties': {'ticker': {'anyOf': [{'type': 'string'}, {'type': 'null'}], 'default': None, 'title': 'Ticker'}, 'listing_date': {'anyOf': [{'type': 'string'}, {'format': 'date-time', 'type': 'string'}, {'format': 'date', 'type': 'string'}, {'type': 'null'}], 'default': None, 'title': 'Listing Date'}, 'listing_date_lt': {'anyOf': [{'type': 'string'}, {'format': 'date-time', 'type': 'string'}, {'format': 'date', 'type': 'string'}, {'type': 'null'}], 'default': None, 'title': 'Listing Date Lt'}, 'listing_date_lte': {'anyOf': [{'type': 'string'}, {'format': 'date-time', 'type': 'string'}, {'format': 'date', 'type': 'string'}, {'type': 'null'}], 'default': None, 'title': 'Listing Date Lte'}, 'listing_date_gt': {'anyOf': [{'type': 'string'}, {'format': 'date-time', 'type': 'string'}, {'format': 'date', 'type': 'string'}, {'type': 'null'}], 'default': None, 'title': 'Listing Date Gt'}, 'listing_date_gte': {'anyOf': [{'type': 'string'}, {'format': 'date-time', 'type': 'string'}, {'format': 'date', 'type': 'string'}, {'type': 'null'}], 'default': None, 'title': 'Listing Date Gte'}, 'ipo_status': {'anyOf': [{'type': 'string'}, {'type': 'null'}], 'default': None, 'title': 'Ipo Status'}, 'limit': {'anyOf': [{'type': 'integer'}, {'type': 'null'}], 'default': None, 'title': 'Limit'}, 'sort': {'anyOf': [{'type': 'string'}, {'type': 'null'}], 'default': None, 'title': 'Sort'}, 'order': {'anyOf': [{'type': 'string'}, {'type': 'null'}], 'default': None, 'title': 'Order'}, 'params': {'anyOf': [{'additionalProperties': True, 'type': 'object'}, {'type': 'null'}], 'default': None, 'title': 'Params'}}, 'title': 'list_iposArguments', 'type': 'object'}, annotations=ToolAnnotations(title=None, readOnlyHint=True, destructiveHint=None, idempotentHint=None, openWorldHint=None), outputSchema={'properties': {'result': {'additionalProperties': True, 'title': 'Result', 'type': 'object'}}, 'required': ['result'], 'title': 'list_iposOutput', 'type': 'object'}),\n",
       " Tool(name='list_short_interest', description='\\nRetrieve short interest data for stocks.\\n', inputSchema={'properties': {'ticker': {'anyOf': [{'type': 'string'}, {'type': 'null'}], 'default': None, 'title': 'Ticker'}, 'settlement_date': {'anyOf': [{'type': 'string'}, {'format': 'date-time', 'type': 'string'}, {'format': 'date', 'type': 'string'}, {'type': 'null'}], 'default': None, 'title': 'Settlement Date'}, 'settlement_date_lt': {'anyOf': [{'type': 'string'}, {'format': 'date-time', 'type': 'string'}, {'format': 'date', 'type': 'string'}, {'type': 'null'}], 'default': None, 'title': 'Settlement Date Lt'}, 'settlement_date_lte': {'anyOf': [{'type': 'string'}, {'format': 'date-time', 'type': 'string'}, {'format': 'date', 'type': 'string'}, {'type': 'null'}], 'default': None, 'title': 'Settlement Date Lte'}, 'settlement_date_gt': {'anyOf': [{'type': 'string'}, {'format': 'date-time', 'type': 'string'}, {'format': 'date', 'type': 'string'}, {'type': 'null'}], 'default': None, 'title': 'Settlement Date Gt'}, 'settlement_date_gte': {'anyOf': [{'type': 'string'}, {'format': 'date-time', 'type': 'string'}, {'format': 'date', 'type': 'string'}, {'type': 'null'}], 'default': None, 'title': 'Settlement Date Gte'}, 'limit': {'anyOf': [{'type': 'integer'}, {'type': 'null'}], 'default': None, 'title': 'Limit'}, 'sort': {'anyOf': [{'type': 'string'}, {'type': 'null'}], 'default': None, 'title': 'Sort'}, 'order': {'anyOf': [{'type': 'string'}, {'type': 'null'}], 'default': None, 'title': 'Order'}, 'params': {'anyOf': [{'additionalProperties': True, 'type': 'object'}, {'type': 'null'}], 'default': None, 'title': 'Params'}}, 'title': 'list_short_interestArguments', 'type': 'object'}, annotations=ToolAnnotations(title=None, readOnlyHint=True, destructiveHint=None, idempotentHint=None, openWorldHint=None), outputSchema={'properties': {'result': {'additionalProperties': True, 'title': 'Result', 'type': 'object'}}, 'required': ['result'], 'title': 'list_short_interestOutput', 'type': 'object'}),\n",
       " Tool(name='list_short_volume', description='\\nRetrieve short volume data for stocks.\\n', inputSchema={'properties': {'ticker': {'anyOf': [{'type': 'string'}, {'type': 'null'}], 'default': None, 'title': 'Ticker'}, 'date': {'anyOf': [{'type': 'string'}, {'format': 'date-time', 'type': 'string'}, {'format': 'date', 'type': 'string'}, {'type': 'null'}], 'default': None, 'title': 'Date'}, 'date_lt': {'anyOf': [{'type': 'string'}, {'format': 'date-time', 'type': 'string'}, {'format': 'date', 'type': 'string'}, {'type': 'null'}], 'default': None, 'title': 'Date Lt'}, 'date_lte': {'anyOf': [{'type': 'string'}, {'format': 'date-time', 'type': 'string'}, {'format': 'date', 'type': 'string'}, {'type': 'null'}], 'default': None, 'title': 'Date Lte'}, 'date_gt': {'anyOf': [{'type': 'string'}, {'format': 'date-time', 'type': 'string'}, {'format': 'date', 'type': 'string'}, {'type': 'null'}], 'default': None, 'title': 'Date Gt'}, 'date_gte': {'anyOf': [{'type': 'string'}, {'format': 'date-time', 'type': 'string'}, {'format': 'date', 'type': 'string'}, {'type': 'null'}], 'default': None, 'title': 'Date Gte'}, 'limit': {'anyOf': [{'type': 'integer'}, {'type': 'null'}], 'default': None, 'title': 'Limit'}, 'sort': {'anyOf': [{'type': 'string'}, {'type': 'null'}], 'default': None, 'title': 'Sort'}, 'order': {'anyOf': [{'type': 'string'}, {'type': 'null'}], 'default': None, 'title': 'Order'}, 'params': {'anyOf': [{'additionalProperties': True, 'type': 'object'}, {'type': 'null'}], 'default': None, 'title': 'Params'}}, 'title': 'list_short_volumeArguments', 'type': 'object'}, annotations=ToolAnnotations(title=None, readOnlyHint=True, destructiveHint=None, idempotentHint=None, openWorldHint=None), outputSchema={'properties': {'result': {'additionalProperties': True, 'title': 'Result', 'type': 'object'}}, 'required': ['result'], 'title': 'list_short_volumeOutput', 'type': 'object'}),\n",
       " Tool(name='list_treasury_yields', description='\\nRetrieve treasury yield data.\\n', inputSchema={'properties': {'date': {'anyOf': [{'type': 'string'}, {'format': 'date-time', 'type': 'string'}, {'format': 'date', 'type': 'string'}, {'type': 'null'}], 'default': None, 'title': 'Date'}, 'date_any_of': {'anyOf': [{'type': 'string'}, {'type': 'null'}], 'default': None, 'title': 'Date Any Of'}, 'date_lt': {'anyOf': [{'type': 'string'}, {'format': 'date-time', 'type': 'string'}, {'format': 'date', 'type': 'string'}, {'type': 'null'}], 'default': None, 'title': 'Date Lt'}, 'date_lte': {'anyOf': [{'type': 'string'}, {'format': 'date-time', 'type': 'string'}, {'format': 'date', 'type': 'string'}, {'type': 'null'}], 'default': None, 'title': 'Date Lte'}, 'date_gt': {'anyOf': [{'type': 'string'}, {'format': 'date-time', 'type': 'string'}, {'format': 'date', 'type': 'string'}, {'type': 'null'}], 'default': None, 'title': 'Date Gt'}, 'date_gte': {'anyOf': [{'type': 'string'}, {'format': 'date-time', 'type': 'string'}, {'format': 'date', 'type': 'string'}, {'type': 'null'}], 'default': None, 'title': 'Date Gte'}, 'limit': {'anyOf': [{'type': 'integer'}, {'type': 'null'}], 'default': None, 'title': 'Limit'}, 'sort': {'anyOf': [{'type': 'string'}, {'type': 'null'}], 'default': None, 'title': 'Sort'}, 'order': {'anyOf': [{'type': 'string'}, {'type': 'null'}], 'default': None, 'title': 'Order'}, 'params': {'anyOf': [{'additionalProperties': True, 'type': 'object'}, {'type': 'null'}], 'default': None, 'title': 'Params'}}, 'title': 'list_treasury_yieldsArguments', 'type': 'object'}, annotations=ToolAnnotations(title=None, readOnlyHint=True, destructiveHint=None, idempotentHint=None, openWorldHint=None), outputSchema={'properties': {'result': {'additionalProperties': True, 'title': 'Result', 'type': 'object'}}, 'required': ['result'], 'title': 'list_treasury_yieldsOutput', 'type': 'object'}),\n",
       " Tool(name='list_inflation', description='\\nGet inflation data from the Federal Reserve.\\n', inputSchema={'properties': {'date': {'anyOf': [{'type': 'string'}, {'format': 'date-time', 'type': 'string'}, {'format': 'date', 'type': 'string'}, {'type': 'null'}], 'default': None, 'title': 'Date'}, 'date_any_of': {'anyOf': [{'type': 'string'}, {'type': 'null'}], 'default': None, 'title': 'Date Any Of'}, 'date_gt': {'anyOf': [{'type': 'string'}, {'format': 'date-time', 'type': 'string'}, {'format': 'date', 'type': 'string'}, {'type': 'null'}], 'default': None, 'title': 'Date Gt'}, 'date_gte': {'anyOf': [{'type': 'string'}, {'format': 'date-time', 'type': 'string'}, {'format': 'date', 'type': 'string'}, {'type': 'null'}], 'default': None, 'title': 'Date Gte'}, 'date_lt': {'anyOf': [{'type': 'string'}, {'format': 'date-time', 'type': 'string'}, {'format': 'date', 'type': 'string'}, {'type': 'null'}], 'default': None, 'title': 'Date Lt'}, 'date_lte': {'anyOf': [{'type': 'string'}, {'format': 'date-time', 'type': 'string'}, {'format': 'date', 'type': 'string'}, {'type': 'null'}], 'default': None, 'title': 'Date Lte'}, 'limit': {'anyOf': [{'type': 'integer'}, {'type': 'null'}], 'default': None, 'title': 'Limit'}, 'sort': {'anyOf': [{'type': 'string'}, {'type': 'null'}], 'default': None, 'title': 'Sort'}, 'params': {'anyOf': [{'additionalProperties': True, 'type': 'object'}, {'type': 'null'}], 'default': None, 'title': 'Params'}}, 'title': 'list_inflationArguments', 'type': 'object'}, annotations=ToolAnnotations(title=None, readOnlyHint=True, destructiveHint=None, idempotentHint=None, openWorldHint=None), outputSchema={'properties': {'result': {'additionalProperties': True, 'title': 'Result', 'type': 'object'}}, 'required': ['result'], 'title': 'list_inflationOutput', 'type': 'object'}),\n",
       " Tool(name='list_benzinga_analyst_insights', description='\\nList Benzinga analyst insights.\\n', inputSchema={'properties': {'date': {'anyOf': [{'type': 'string'}, {'format': 'date', 'type': 'string'}, {'type': 'null'}], 'default': None, 'title': 'Date'}, 'date_any_of': {'anyOf': [{'type': 'string'}, {'type': 'null'}], 'default': None, 'title': 'Date Any Of'}, 'date_gt': {'anyOf': [{'type': 'string'}, {'format': 'date', 'type': 'string'}, {'type': 'null'}], 'default': None, 'title': 'Date Gt'}, 'date_gte': {'anyOf': [{'type': 'string'}, {'format': 'date', 'type': 'string'}, {'type': 'null'}], 'default': None, 'title': 'Date Gte'}, 'date_lt': {'anyOf': [{'type': 'string'}, {'format': 'date', 'type': 'string'}, {'type': 'null'}], 'default': None, 'title': 'Date Lt'}, 'date_lte': {'anyOf': [{'type': 'string'}, {'format': 'date', 'type': 'string'}, {'type': 'null'}], 'default': None, 'title': 'Date Lte'}, 'ticker': {'anyOf': [{'type': 'string'}, {'type': 'null'}], 'default': None, 'title': 'Ticker'}, 'ticker_any_of': {'anyOf': [{'type': 'string'}, {'type': 'null'}], 'default': None, 'title': 'Ticker Any Of'}, 'ticker_gt': {'anyOf': [{'type': 'string'}, {'type': 'null'}], 'default': None, 'title': 'Ticker Gt'}, 'ticker_gte': {'anyOf': [{'type': 'string'}, {'type': 'null'}], 'default': None, 'title': 'Ticker Gte'}, 'ticker_lt': {'anyOf': [{'type': 'string'}, {'type': 'null'}], 'default': None, 'title': 'Ticker Lt'}, 'ticker_lte': {'anyOf': [{'type': 'string'}, {'type': 'null'}], 'default': None, 'title': 'Ticker Lte'}, 'last_updated': {'anyOf': [{'type': 'string'}, {'type': 'null'}], 'default': None, 'title': 'Last Updated'}, 'last_updated_any_of': {'anyOf': [{'type': 'string'}, {'type': 'null'}], 'default': None, 'title': 'Last Updated Any Of'}, 'last_updated_gt': {'anyOf': [{'type': 'string'}, {'type': 'null'}], 'default': None, 'title': 'Last Updated Gt'}, 'last_updated_gte': {'anyOf': [{'type': 'string'}, {'type': 'null'}], 'default': None, 'title': 'Last Updated Gte'}, 'last_updated_lt': {'anyOf': [{'type': 'string'}, {'type': 'null'}], 'default': None, 'title': 'Last Updated Lt'}, 'last_updated_lte': {'anyOf': [{'type': 'string'}, {'type': 'null'}], 'default': None, 'title': 'Last Updated Lte'}, 'firm': {'anyOf': [{'type': 'string'}, {'type': 'null'}], 'default': None, 'title': 'Firm'}, 'firm_any_of': {'anyOf': [{'type': 'string'}, {'type': 'null'}], 'default': None, 'title': 'Firm Any Of'}, 'firm_gt': {'anyOf': [{'type': 'string'}, {'type': 'null'}], 'default': None, 'title': 'Firm Gt'}, 'firm_gte': {'anyOf': [{'type': 'string'}, {'type': 'null'}], 'default': None, 'title': 'Firm Gte'}, 'firm_lt': {'anyOf': [{'type': 'string'}, {'type': 'null'}], 'default': None, 'title': 'Firm Lt'}, 'firm_lte': {'anyOf': [{'type': 'string'}, {'type': 'null'}], 'default': None, 'title': 'Firm Lte'}, 'rating_action': {'anyOf': [{'type': 'string'}, {'type': 'null'}], 'default': None, 'title': 'Rating Action'}, 'rating_action_any_of': {'anyOf': [{'type': 'string'}, {'type': 'null'}], 'default': None, 'title': 'Rating Action Any Of'}, 'rating_action_gt': {'anyOf': [{'type': 'string'}, {'type': 'null'}], 'default': None, 'title': 'Rating Action Gt'}, 'rating_action_gte': {'anyOf': [{'type': 'string'}, {'type': 'null'}], 'default': None, 'title': 'Rating Action Gte'}, 'rating_action_lt': {'anyOf': [{'type': 'string'}, {'type': 'null'}], 'default': None, 'title': 'Rating Action Lt'}, 'rating_action_lte': {'anyOf': [{'type': 'string'}, {'type': 'null'}], 'default': None, 'title': 'Rating Action Lte'}, 'benzinga_firm_id': {'anyOf': [{'type': 'string'}, {'type': 'null'}], 'default': None, 'title': 'Benzinga Firm Id'}, 'benzinga_firm_id_any_of': {'anyOf': [{'type': 'string'}, {'type': 'null'}], 'default': None, 'title': 'Benzinga Firm Id Any Of'}, 'benzinga_firm_id_gt': {'anyOf': [{'type': 'string'}, {'type': 'null'}], 'default': None, 'title': 'Benzinga Firm Id Gt'}, 'benzinga_firm_id_gte': {'anyOf': [{'type': 'string'}, {'type': 'null'}], 'default': None, 'title': 'Benzinga Firm Id Gte'}, 'benzinga_firm_id_lt': {'anyOf': [{'type': 'string'}, {'type': 'null'}], 'default': None, 'title': 'Benzinga Firm Id Lt'}, 'benzinga_firm_id_lte': {'anyOf': [{'type': 'string'}, {'type': 'null'}], 'default': None, 'title': 'Benzinga Firm Id Lte'}, 'benzinga_rating_id': {'anyOf': [{'type': 'string'}, {'type': 'null'}], 'default': None, 'title': 'Benzinga Rating Id'}, 'benzinga_rating_id_any_of': {'anyOf': [{'type': 'string'}, {'type': 'null'}], 'default': None, 'title': 'Benzinga Rating Id Any Of'}, 'benzinga_rating_id_gt': {'anyOf': [{'type': 'string'}, {'type': 'null'}], 'default': None, 'title': 'Benzinga Rating Id Gt'}, 'benzinga_rating_id_gte': {'anyOf': [{'type': 'string'}, {'type': 'null'}], 'default': None, 'title': 'Benzinga Rating Id Gte'}, 'benzinga_rating_id_lt': {'anyOf': [{'type': 'string'}, {'type': 'null'}], 'default': None, 'title': 'Benzinga Rating Id Lt'}, 'benzinga_rating_id_lte': {'anyOf': [{'type': 'string'}, {'type': 'null'}], 'default': None, 'title': 'Benzinga Rating Id Lte'}, 'limit': {'anyOf': [{'type': 'integer'}, {'type': 'null'}], 'default': None, 'title': 'Limit'}, 'sort': {'anyOf': [{'type': 'string'}, {'type': 'null'}], 'default': None, 'title': 'Sort'}, 'params': {'anyOf': [{'additionalProperties': True, 'type': 'object'}, {'type': 'null'}], 'default': None, 'title': 'Params'}}, 'title': 'list_benzinga_analyst_insightsArguments', 'type': 'object'}, annotations=ToolAnnotations(title=None, readOnlyHint=True, destructiveHint=None, idempotentHint=None, openWorldHint=None), outputSchema={'properties': {'result': {'additionalProperties': True, 'title': 'Result', 'type': 'object'}}, 'required': ['result'], 'title': 'list_benzinga_analyst_insightsOutput', 'type': 'object'}),\n",
       " Tool(name='list_benzinga_analysts', description='\\nList Benzinga analysts.\\n', inputSchema={'properties': {'benzinga_id': {'anyOf': [{'type': 'string'}, {'type': 'null'}], 'default': None, 'title': 'Benzinga Id'}, 'benzinga_id_any_of': {'anyOf': [{'type': 'string'}, {'type': 'null'}], 'default': None, 'title': 'Benzinga Id Any Of'}, 'benzinga_id_gt': {'anyOf': [{'type': 'string'}, {'type': 'null'}], 'default': None, 'title': 'Benzinga Id Gt'}, 'benzinga_id_gte': {'anyOf': [{'type': 'string'}, {'type': 'null'}], 'default': None, 'title': 'Benzinga Id Gte'}, 'benzinga_id_lt': {'anyOf': [{'type': 'string'}, {'type': 'null'}], 'default': None, 'title': 'Benzinga Id Lt'}, 'benzinga_id_lte': {'anyOf': [{'type': 'string'}, {'type': 'null'}], 'default': None, 'title': 'Benzinga Id Lte'}, 'benzinga_firm_id': {'anyOf': [{'type': 'string'}, {'type': 'null'}], 'default': None, 'title': 'Benzinga Firm Id'}, 'benzinga_firm_id_any_of': {'anyOf': [{'type': 'string'}, {'type': 'null'}], 'default': None, 'title': 'Benzinga Firm Id Any Of'}, 'benzinga_firm_id_gt': {'anyOf': [{'type': 'string'}, {'type': 'null'}], 'default': None, 'title': 'Benzinga Firm Id Gt'}, 'benzinga_firm_id_gte': {'anyOf': [{'type': 'string'}, {'type': 'null'}], 'default': None, 'title': 'Benzinga Firm Id Gte'}, 'benzinga_firm_id_lt': {'anyOf': [{'type': 'string'}, {'type': 'null'}], 'default': None, 'title': 'Benzinga Firm Id Lt'}, 'benzinga_firm_id_lte': {'anyOf': [{'type': 'string'}, {'type': 'null'}], 'default': None, 'title': 'Benzinga Firm Id Lte'}, 'firm_name': {'anyOf': [{'type': 'string'}, {'type': 'null'}], 'default': None, 'title': 'Firm Name'}, 'firm_name_any_of': {'anyOf': [{'type': 'string'}, {'type': 'null'}], 'default': None, 'title': 'Firm Name Any Of'}, 'firm_name_gt': {'anyOf': [{'type': 'string'}, {'type': 'null'}], 'default': None, 'title': 'Firm Name Gt'}, 'firm_name_gte': {'anyOf': [{'type': 'string'}, {'type': 'null'}], 'default': None, 'title': 'Firm Name Gte'}, 'firm_name_lt': {'anyOf': [{'type': 'string'}, {'type': 'null'}], 'default': None, 'title': 'Firm Name Lt'}, 'firm_name_lte': {'anyOf': [{'type': 'string'}, {'type': 'null'}], 'default': None, 'title': 'Firm Name Lte'}, 'full_name': {'anyOf': [{'type': 'string'}, {'type': 'null'}], 'default': None, 'title': 'Full Name'}, 'full_name_any_of': {'anyOf': [{'type': 'string'}, {'type': 'null'}], 'default': None, 'title': 'Full Name Any Of'}, 'full_name_gt': {'anyOf': [{'type': 'string'}, {'type': 'null'}], 'default': None, 'title': 'Full Name Gt'}, 'full_name_gte': {'anyOf': [{'type': 'string'}, {'type': 'null'}], 'default': None, 'title': 'Full Name Gte'}, 'full_name_lt': {'anyOf': [{'type': 'string'}, {'type': 'null'}], 'default': None, 'title': 'Full Name Lt'}, 'full_name_lte': {'anyOf': [{'type': 'string'}, {'type': 'null'}], 'default': None, 'title': 'Full Name Lte'}, 'limit': {'anyOf': [{'type': 'integer'}, {'type': 'null'}], 'default': None, 'title': 'Limit'}, 'sort': {'anyOf': [{'type': 'string'}, {'type': 'null'}], 'default': None, 'title': 'Sort'}, 'params': {'anyOf': [{'additionalProperties': True, 'type': 'object'}, {'type': 'null'}], 'default': None, 'title': 'Params'}}, 'title': 'list_benzinga_analystsArguments', 'type': 'object'}, annotations=ToolAnnotations(title=None, readOnlyHint=True, destructiveHint=None, idempotentHint=None, openWorldHint=None), outputSchema={'properties': {'result': {'additionalProperties': True, 'title': 'Result', 'type': 'object'}}, 'required': ['result'], 'title': 'list_benzinga_analystsOutput', 'type': 'object'}),\n",
       " Tool(name='list_benzinga_consensus_ratings', description='\\nList Benzinga consensus ratings for a ticker.\\n', inputSchema={'properties': {'ticker': {'title': 'Ticker', 'type': 'string'}, 'date': {'anyOf': [{'type': 'string'}, {'format': 'date', 'type': 'string'}, {'type': 'null'}], 'default': None, 'title': 'Date'}, 'date_gt': {'anyOf': [{'type': 'string'}, {'format': 'date', 'type': 'string'}, {'type': 'null'}], 'default': None, 'title': 'Date Gt'}, 'date_gte': {'anyOf': [{'type': 'string'}, {'format': 'date', 'type': 'string'}, {'type': 'null'}], 'default': None, 'title': 'Date Gte'}, 'date_lt': {'anyOf': [{'type': 'string'}, {'format': 'date', 'type': 'string'}, {'type': 'null'}], 'default': None, 'title': 'Date Lt'}, 'date_lte': {'anyOf': [{'type': 'string'}, {'format': 'date', 'type': 'string'}, {'type': 'null'}], 'default': None, 'title': 'Date Lte'}, 'limit': {'anyOf': [{'type': 'integer'}, {'type': 'null'}], 'default': None, 'title': 'Limit'}, 'params': {'anyOf': [{'additionalProperties': True, 'type': 'object'}, {'type': 'null'}], 'default': None, 'title': 'Params'}}, 'required': ['ticker'], 'title': 'list_benzinga_consensus_ratingsArguments', 'type': 'object'}, annotations=ToolAnnotations(title=None, readOnlyHint=True, destructiveHint=None, idempotentHint=None, openWorldHint=None), outputSchema={'properties': {'result': {'additionalProperties': True, 'title': 'Result', 'type': 'object'}}, 'required': ['result'], 'title': 'list_benzinga_consensus_ratingsOutput', 'type': 'object'}),\n",
       " Tool(name='list_benzinga_earnings', description='\\nList Benzinga earnings.\\n', inputSchema={'properties': {'date': {'anyOf': [{'type': 'string'}, {'format': 'date', 'type': 'string'}, {'type': 'null'}], 'default': None, 'title': 'Date'}, 'date_any_of': {'anyOf': [{'type': 'string'}, {'type': 'null'}], 'default': None, 'title': 'Date Any Of'}, 'date_gt': {'anyOf': [{'type': 'string'}, {'format': 'date', 'type': 'string'}, {'type': 'null'}], 'default': None, 'title': 'Date Gt'}, 'date_gte': {'anyOf': [{'type': 'string'}, {'format': 'date', 'type': 'string'}, {'type': 'null'}], 'default': None, 'title': 'Date Gte'}, 'date_lt': {'anyOf': [{'type': 'string'}, {'format': 'date', 'type': 'string'}, {'type': 'null'}], 'default': None, 'title': 'Date Lt'}, 'date_lte': {'anyOf': [{'type': 'string'}, {'format': 'date', 'type': 'string'}, {'type': 'null'}], 'default': None, 'title': 'Date Lte'}, 'ticker': {'anyOf': [{'type': 'string'}, {'type': 'null'}], 'default': None, 'title': 'Ticker'}, 'ticker_any_of': {'anyOf': [{'type': 'string'}, {'type': 'null'}], 'default': None, 'title': 'Ticker Any Of'}, 'ticker_gt': {'anyOf': [{'type': 'string'}, {'type': 'null'}], 'default': None, 'title': 'Ticker Gt'}, 'ticker_gte': {'anyOf': [{'type': 'string'}, {'type': 'null'}], 'default': None, 'title': 'Ticker Gte'}, 'ticker_lt': {'anyOf': [{'type': 'string'}, {'type': 'null'}], 'default': None, 'title': 'Ticker Lt'}, 'ticker_lte': {'anyOf': [{'type': 'string'}, {'type': 'null'}], 'default': None, 'title': 'Ticker Lte'}, 'importance': {'anyOf': [{'type': 'integer'}, {'type': 'null'}], 'default': None, 'title': 'Importance'}, 'importance_any_of': {'anyOf': [{'type': 'string'}, {'type': 'null'}], 'default': None, 'title': 'Importance Any Of'}, 'importance_gt': {'anyOf': [{'type': 'integer'}, {'type': 'null'}], 'default': None, 'title': 'Importance Gt'}, 'importance_gte': {'anyOf': [{'type': 'integer'}, {'type': 'null'}], 'default': None, 'title': 'Importance Gte'}, 'importance_lt': {'anyOf': [{'type': 'integer'}, {'type': 'null'}], 'default': None, 'title': 'Importance Lt'}, 'importance_lte': {'anyOf': [{'type': 'integer'}, {'type': 'null'}], 'default': None, 'title': 'Importance Lte'}, 'last_updated': {'anyOf': [{'type': 'string'}, {'type': 'null'}], 'default': None, 'title': 'Last Updated'}, 'last_updated_any_of': {'anyOf': [{'type': 'string'}, {'type': 'null'}], 'default': None, 'title': 'Last Updated Any Of'}, 'last_updated_gt': {'anyOf': [{'type': 'string'}, {'type': 'null'}], 'default': None, 'title': 'Last Updated Gt'}, 'last_updated_gte': {'anyOf': [{'type': 'string'}, {'type': 'null'}], 'default': None, 'title': 'Last Updated Gte'}, 'last_updated_lt': {'anyOf': [{'type': 'string'}, {'type': 'null'}], 'default': None, 'title': 'Last Updated Lt'}, 'last_updated_lte': {'anyOf': [{'type': 'string'}, {'type': 'null'}], 'default': None, 'title': 'Last Updated Lte'}, 'date_status': {'anyOf': [{'type': 'string'}, {'type': 'null'}], 'default': None, 'title': 'Date Status'}, 'date_status_any_of': {'anyOf': [{'type': 'string'}, {'type': 'null'}], 'default': None, 'title': 'Date Status Any Of'}, 'date_status_gt': {'anyOf': [{'type': 'string'}, {'type': 'null'}], 'default': None, 'title': 'Date Status Gt'}, 'date_status_gte': {'anyOf': [{'type': 'string'}, {'type': 'null'}], 'default': None, 'title': 'Date Status Gte'}, 'date_status_lt': {'anyOf': [{'type': 'string'}, {'type': 'null'}], 'default': None, 'title': 'Date Status Lt'}, 'date_status_lte': {'anyOf': [{'type': 'string'}, {'type': 'null'}], 'default': None, 'title': 'Date Status Lte'}, 'eps_surprise_percent': {'anyOf': [{'type': 'number'}, {'type': 'null'}], 'default': None, 'title': 'Eps Surprise Percent'}, 'eps_surprise_percent_any_of': {'anyOf': [{'type': 'string'}, {'type': 'null'}], 'default': None, 'title': 'Eps Surprise Percent Any Of'}, 'eps_surprise_percent_gt': {'anyOf': [{'type': 'number'}, {'type': 'null'}], 'default': None, 'title': 'Eps Surprise Percent Gt'}, 'eps_surprise_percent_gte': {'anyOf': [{'type': 'number'}, {'type': 'null'}], 'default': None, 'title': 'Eps Surprise Percent Gte'}, 'eps_surprise_percent_lt': {'anyOf': [{'type': 'number'}, {'type': 'null'}], 'default': None, 'title': 'Eps Surprise Percent Lt'}, 'eps_surprise_percent_lte': {'anyOf': [{'type': 'number'}, {'type': 'null'}], 'default': None, 'title': 'Eps Surprise Percent Lte'}, 'revenue_surprise_percent': {'anyOf': [{'type': 'number'}, {'type': 'null'}], 'default': None, 'title': 'Revenue Surprise Percent'}, 'revenue_surprise_percent_any_of': {'anyOf': [{'type': 'string'}, {'type': 'null'}], 'default': None, 'title': 'Revenue Surprise Percent Any Of'}, 'revenue_surprise_percent_gt': {'anyOf': [{'type': 'number'}, {'type': 'null'}], 'default': None, 'title': 'Revenue Surprise Percent Gt'}, 'revenue_surprise_percent_gte': {'anyOf': [{'type': 'number'}, {'type': 'null'}], 'default': None, 'title': 'Revenue Surprise Percent Gte'}, 'revenue_surprise_percent_lt': {'anyOf': [{'type': 'number'}, {'type': 'null'}], 'default': None, 'title': 'Revenue Surprise Percent Lt'}, 'revenue_surprise_percent_lte': {'anyOf': [{'type': 'number'}, {'type': 'null'}], 'default': None, 'title': 'Revenue Surprise Percent Lte'}, 'fiscal_year': {'anyOf': [{'type': 'integer'}, {'type': 'null'}], 'default': None, 'title': 'Fiscal Year'}, 'fiscal_year_any_of': {'anyOf': [{'type': 'string'}, {'type': 'null'}], 'default': None, 'title': 'Fiscal Year Any Of'}, 'fiscal_year_gt': {'anyOf': [{'type': 'integer'}, {'type': 'null'}], 'default': None, 'title': 'Fiscal Year Gt'}, 'fiscal_year_gte': {'anyOf': [{'type': 'integer'}, {'type': 'null'}], 'default': None, 'title': 'Fiscal Year Gte'}, 'fiscal_year_lt': {'anyOf': [{'type': 'integer'}, {'type': 'null'}], 'default': None, 'title': 'Fiscal Year Lt'}, 'fiscal_year_lte': {'anyOf': [{'type': 'integer'}, {'type': 'null'}], 'default': None, 'title': 'Fiscal Year Lte'}, 'fiscal_period': {'anyOf': [{'type': 'string'}, {'type': 'null'}], 'default': None, 'title': 'Fiscal Period'}, 'fiscal_period_any_of': {'anyOf': [{'type': 'string'}, {'type': 'null'}], 'default': None, 'title': 'Fiscal Period Any Of'}, 'fiscal_period_gt': {'anyOf': [{'type': 'string'}, {'type': 'null'}], 'default': None, 'title': 'Fiscal Period Gt'}, 'fiscal_period_gte': {'anyOf': [{'type': 'string'}, {'type': 'null'}], 'default': None, 'title': 'Fiscal Period Gte'}, 'fiscal_period_lt': {'anyOf': [{'type': 'string'}, {'type': 'null'}], 'default': None, 'title': 'Fiscal Period Lt'}, 'fiscal_period_lte': {'anyOf': [{'type': 'string'}, {'type': 'null'}], 'default': None, 'title': 'Fiscal Period Lte'}, 'limit': {'anyOf': [{'type': 'integer'}, {'type': 'null'}], 'default': None, 'title': 'Limit'}, 'sort': {'anyOf': [{'type': 'string'}, {'type': 'null'}], 'default': None, 'title': 'Sort'}, 'params': {'anyOf': [{'additionalProperties': True, 'type': 'object'}, {'type': 'null'}], 'default': None, 'title': 'Params'}}, 'title': 'list_benzinga_earningsArguments', 'type': 'object'}, annotations=ToolAnnotations(title=None, readOnlyHint=True, destructiveHint=None, idempotentHint=None, openWorldHint=None), outputSchema={'properties': {'result': {'additionalProperties': True, 'title': 'Result', 'type': 'object'}}, 'required': ['result'], 'title': 'list_benzinga_earningsOutput', 'type': 'object'}),\n",
       " Tool(name='list_benzinga_firms', description='\\nList Benzinga firms.\\n', inputSchema={'properties': {'benzinga_id': {'anyOf': [{'type': 'string'}, {'type': 'null'}], 'default': None, 'title': 'Benzinga Id'}, 'benzinga_id_any_of': {'anyOf': [{'type': 'string'}, {'type': 'null'}], 'default': None, 'title': 'Benzinga Id Any Of'}, 'benzinga_id_gt': {'anyOf': [{'type': 'string'}, {'type': 'null'}], 'default': None, 'title': 'Benzinga Id Gt'}, 'benzinga_id_gte': {'anyOf': [{'type': 'string'}, {'type': 'null'}], 'default': None, 'title': 'Benzinga Id Gte'}, 'benzinga_id_lt': {'anyOf': [{'type': 'string'}, {'type': 'null'}], 'default': None, 'title': 'Benzinga Id Lt'}, 'benzinga_id_lte': {'anyOf': [{'type': 'string'}, {'type': 'null'}], 'default': None, 'title': 'Benzinga Id Lte'}, 'limit': {'anyOf': [{'type': 'integer'}, {'type': 'null'}], 'default': None, 'title': 'Limit'}, 'sort': {'anyOf': [{'type': 'string'}, {'type': 'null'}], 'default': None, 'title': 'Sort'}, 'params': {'anyOf': [{'additionalProperties': True, 'type': 'object'}, {'type': 'null'}], 'default': None, 'title': 'Params'}}, 'title': 'list_benzinga_firmsArguments', 'type': 'object'}, annotations=ToolAnnotations(title=None, readOnlyHint=True, destructiveHint=None, idempotentHint=None, openWorldHint=None), outputSchema={'properties': {'result': {'additionalProperties': True, 'title': 'Result', 'type': 'object'}}, 'required': ['result'], 'title': 'list_benzinga_firmsOutput', 'type': 'object'}),\n",
       " Tool(name='list_benzinga_guidance', description='\\nList Benzinga guidance.\\n', inputSchema={'properties': {'date': {'anyOf': [{'type': 'string'}, {'format': 'date', 'type': 'string'}, {'type': 'null'}], 'default': None, 'title': 'Date'}, 'date_any_of': {'anyOf': [{'type': 'string'}, {'type': 'null'}], 'default': None, 'title': 'Date Any Of'}, 'date_gt': {'anyOf': [{'type': 'string'}, {'format': 'date', 'type': 'string'}, {'type': 'null'}], 'default': None, 'title': 'Date Gt'}, 'date_gte': {'anyOf': [{'type': 'string'}, {'format': 'date', 'type': 'string'}, {'type': 'null'}], 'default': None, 'title': 'Date Gte'}, 'date_lt': {'anyOf': [{'type': 'string'}, {'format': 'date', 'type': 'string'}, {'type': 'null'}], 'default': None, 'title': 'Date Lt'}, 'date_lte': {'anyOf': [{'type': 'string'}, {'format': 'date', 'type': 'string'}, {'type': 'null'}], 'default': None, 'title': 'Date Lte'}, 'ticker': {'anyOf': [{'type': 'string'}, {'type': 'null'}], 'default': None, 'title': 'Ticker'}, 'ticker_any_of': {'anyOf': [{'type': 'string'}, {'type': 'null'}], 'default': None, 'title': 'Ticker Any Of'}, 'ticker_gt': {'anyOf': [{'type': 'string'}, {'type': 'null'}], 'default': None, 'title': 'Ticker Gt'}, 'ticker_gte': {'anyOf': [{'type': 'string'}, {'type': 'null'}], 'default': None, 'title': 'Ticker Gte'}, 'ticker_lt': {'anyOf': [{'type': 'string'}, {'type': 'null'}], 'default': None, 'title': 'Ticker Lt'}, 'ticker_lte': {'anyOf': [{'type': 'string'}, {'type': 'null'}], 'default': None, 'title': 'Ticker Lte'}, 'positioning': {'anyOf': [{'type': 'string'}, {'type': 'null'}], 'default': None, 'title': 'Positioning'}, 'positioning_any_of': {'anyOf': [{'type': 'string'}, {'type': 'null'}], 'default': None, 'title': 'Positioning Any Of'}, 'positioning_gt': {'anyOf': [{'type': 'string'}, {'type': 'null'}], 'default': None, 'title': 'Positioning Gt'}, 'positioning_gte': {'anyOf': [{'type': 'string'}, {'type': 'null'}], 'default': None, 'title': 'Positioning Gte'}, 'positioning_lt': {'anyOf': [{'type': 'string'}, {'type': 'null'}], 'default': None, 'title': 'Positioning Lt'}, 'positioning_lte': {'anyOf': [{'type': 'string'}, {'type': 'null'}], 'default': None, 'title': 'Positioning Lte'}, 'importance': {'anyOf': [{'type': 'integer'}, {'type': 'null'}], 'default': None, 'title': 'Importance'}, 'importance_any_of': {'anyOf': [{'type': 'string'}, {'type': 'null'}], 'default': None, 'title': 'Importance Any Of'}, 'importance_gt': {'anyOf': [{'type': 'integer'}, {'type': 'null'}], 'default': None, 'title': 'Importance Gt'}, 'importance_gte': {'anyOf': [{'type': 'integer'}, {'type': 'null'}], 'default': None, 'title': 'Importance Gte'}, 'importance_lt': {'anyOf': [{'type': 'integer'}, {'type': 'null'}], 'default': None, 'title': 'Importance Lt'}, 'importance_lte': {'anyOf': [{'type': 'integer'}, {'type': 'null'}], 'default': None, 'title': 'Importance Lte'}, 'last_updated': {'anyOf': [{'type': 'string'}, {'type': 'null'}], 'default': None, 'title': 'Last Updated'}, 'last_updated_any_of': {'anyOf': [{'type': 'string'}, {'type': 'null'}], 'default': None, 'title': 'Last Updated Any Of'}, 'last_updated_gt': {'anyOf': [{'type': 'string'}, {'type': 'null'}], 'default': None, 'title': 'Last Updated Gt'}, 'last_updated_gte': {'anyOf': [{'type': 'string'}, {'type': 'null'}], 'default': None, 'title': 'Last Updated Gte'}, 'last_updated_lt': {'anyOf': [{'type': 'string'}, {'type': 'null'}], 'default': None, 'title': 'Last Updated Lt'}, 'last_updated_lte': {'anyOf': [{'type': 'string'}, {'type': 'null'}], 'default': None, 'title': 'Last Updated Lte'}, 'fiscal_year': {'anyOf': [{'type': 'integer'}, {'type': 'null'}], 'default': None, 'title': 'Fiscal Year'}, 'fiscal_year_any_of': {'anyOf': [{'type': 'string'}, {'type': 'null'}], 'default': None, 'title': 'Fiscal Year Any Of'}, 'fiscal_year_gt': {'anyOf': [{'type': 'integer'}, {'type': 'null'}], 'default': None, 'title': 'Fiscal Year Gt'}, 'fiscal_year_gte': {'anyOf': [{'type': 'integer'}, {'type': 'null'}], 'default': None, 'title': 'Fiscal Year Gte'}, 'fiscal_year_lt': {'anyOf': [{'type': 'integer'}, {'type': 'null'}], 'default': None, 'title': 'Fiscal Year Lt'}, 'fiscal_year_lte': {'anyOf': [{'type': 'integer'}, {'type': 'null'}], 'default': None, 'title': 'Fiscal Year Lte'}, 'fiscal_period': {'anyOf': [{'type': 'string'}, {'type': 'null'}], 'default': None, 'title': 'Fiscal Period'}, 'fiscal_period_any_of': {'anyOf': [{'type': 'string'}, {'type': 'null'}], 'default': None, 'title': 'Fiscal Period Any Of'}, 'fiscal_period_gt': {'anyOf': [{'type': 'string'}, {'type': 'null'}], 'default': None, 'title': 'Fiscal Period Gt'}, 'fiscal_period_gte': {'anyOf': [{'type': 'string'}, {'type': 'null'}], 'default': None, 'title': 'Fiscal Period Gte'}, 'fiscal_period_lt': {'anyOf': [{'type': 'string'}, {'type': 'null'}], 'default': None, 'title': 'Fiscal Period Lt'}, 'fiscal_period_lte': {'anyOf': [{'type': 'string'}, {'type': 'null'}], 'default': None, 'title': 'Fiscal Period Lte'}, 'limit': {'anyOf': [{'type': 'integer'}, {'type': 'null'}], 'default': None, 'title': 'Limit'}, 'sort': {'anyOf': [{'type': 'string'}, {'type': 'null'}], 'default': None, 'title': 'Sort'}, 'params': {'anyOf': [{'additionalProperties': True, 'type': 'object'}, {'type': 'null'}], 'default': None, 'title': 'Params'}}, 'title': 'list_benzinga_guidanceArguments', 'type': 'object'}, annotations=ToolAnnotations(title=None, readOnlyHint=True, destructiveHint=None, idempotentHint=None, openWorldHint=None), outputSchema={'properties': {'result': {'additionalProperties': True, 'title': 'Result', 'type': 'object'}}, 'required': ['result'], 'title': 'list_benzinga_guidanceOutput', 'type': 'object'}),\n",
       " Tool(name='list_benzinga_news', description='\\nList Benzinga news.\\n', inputSchema={'properties': {'published': {'anyOf': [{'type': 'string'}, {'type': 'null'}], 'default': None, 'title': 'Published'}, 'published_any_of': {'anyOf': [{'type': 'string'}, {'type': 'null'}], 'default': None, 'title': 'Published Any Of'}, 'published_gt': {'anyOf': [{'type': 'string'}, {'type': 'null'}], 'default': None, 'title': 'Published Gt'}, 'published_gte': {'anyOf': [{'type': 'string'}, {'type': 'null'}], 'default': None, 'title': 'Published Gte'}, 'published_lt': {'anyOf': [{'type': 'string'}, {'type': 'null'}], 'default': None, 'title': 'Published Lt'}, 'published_lte': {'anyOf': [{'type': 'string'}, {'type': 'null'}], 'default': None, 'title': 'Published Lte'}, 'last_updated': {'anyOf': [{'type': 'string'}, {'type': 'null'}], 'default': None, 'title': 'Last Updated'}, 'last_updated_any_of': {'anyOf': [{'type': 'string'}, {'type': 'null'}], 'default': None, 'title': 'Last Updated Any Of'}, 'last_updated_gt': {'anyOf': [{'type': 'string'}, {'type': 'null'}], 'default': None, 'title': 'Last Updated Gt'}, 'last_updated_gte': {'anyOf': [{'type': 'string'}, {'type': 'null'}], 'default': None, 'title': 'Last Updated Gte'}, 'last_updated_lt': {'anyOf': [{'type': 'string'}, {'type': 'null'}], 'default': None, 'title': 'Last Updated Lt'}, 'last_updated_lte': {'anyOf': [{'type': 'string'}, {'type': 'null'}], 'default': None, 'title': 'Last Updated Lte'}, 'tickers': {'anyOf': [{'type': 'string'}, {'type': 'null'}], 'default': None, 'title': 'Tickers'}, 'tickers_all_of': {'anyOf': [{'type': 'string'}, {'type': 'null'}], 'default': None, 'title': 'Tickers All Of'}, 'tickers_any_of': {'anyOf': [{'type': 'string'}, {'type': 'null'}], 'default': None, 'title': 'Tickers Any Of'}, 'channels': {'anyOf': [{'type': 'string'}, {'type': 'null'}], 'default': None, 'title': 'Channels'}, 'channels_all_of': {'anyOf': [{'type': 'string'}, {'type': 'null'}], 'default': None, 'title': 'Channels All Of'}, 'channels_any_of': {'anyOf': [{'type': 'string'}, {'type': 'null'}], 'default': None, 'title': 'Channels Any Of'}, 'tags': {'anyOf': [{'type': 'string'}, {'type': 'null'}], 'default': None, 'title': 'Tags'}, 'tags_all_of': {'anyOf': [{'type': 'string'}, {'type': 'null'}], 'default': None, 'title': 'Tags All Of'}, 'tags_any_of': {'anyOf': [{'type': 'string'}, {'type': 'null'}], 'default': None, 'title': 'Tags Any Of'}, 'author': {'anyOf': [{'type': 'string'}, {'type': 'null'}], 'default': None, 'title': 'Author'}, 'author_any_of': {'anyOf': [{'type': 'string'}, {'type': 'null'}], 'default': None, 'title': 'Author Any Of'}, 'author_gt': {'anyOf': [{'type': 'string'}, {'type': 'null'}], 'default': None, 'title': 'Author Gt'}, 'author_gte': {'anyOf': [{'type': 'string'}, {'type': 'null'}], 'default': None, 'title': 'Author Gte'}, 'author_lt': {'anyOf': [{'type': 'string'}, {'type': 'null'}], 'default': None, 'title': 'Author Lt'}, 'author_lte': {'anyOf': [{'type': 'string'}, {'type': 'null'}], 'default': None, 'title': 'Author Lte'}, 'limit': {'anyOf': [{'type': 'integer'}, {'type': 'null'}], 'default': None, 'title': 'Limit'}, 'sort': {'anyOf': [{'type': 'string'}, {'type': 'null'}], 'default': None, 'title': 'Sort'}, 'params': {'anyOf': [{'additionalProperties': True, 'type': 'object'}, {'type': 'null'}], 'default': None, 'title': 'Params'}}, 'title': 'list_benzinga_newsArguments', 'type': 'object'}, annotations=ToolAnnotations(title=None, readOnlyHint=True, destructiveHint=None, idempotentHint=None, openWorldHint=None), outputSchema={'properties': {'result': {'additionalProperties': True, 'title': 'Result', 'type': 'object'}}, 'required': ['result'], 'title': 'list_benzinga_newsOutput', 'type': 'object'}),\n",
       " Tool(name='list_benzinga_ratings', description='\\nList Benzinga ratings.\\n', inputSchema={'properties': {'date': {'anyOf': [{'type': 'string'}, {'format': 'date', 'type': 'string'}, {'type': 'null'}], 'default': None, 'title': 'Date'}, 'date_any_of': {'anyOf': [{'type': 'string'}, {'type': 'null'}], 'default': None, 'title': 'Date Any Of'}, 'date_gt': {'anyOf': [{'type': 'string'}, {'format': 'date', 'type': 'string'}, {'type': 'null'}], 'default': None, 'title': 'Date Gt'}, 'date_gte': {'anyOf': [{'type': 'string'}, {'format': 'date', 'type': 'string'}, {'type': 'null'}], 'default': None, 'title': 'Date Gte'}, 'date_lt': {'anyOf': [{'type': 'string'}, {'format': 'date', 'type': 'string'}, {'type': 'null'}], 'default': None, 'title': 'Date Lt'}, 'date_lte': {'anyOf': [{'type': 'string'}, {'format': 'date', 'type': 'string'}, {'type': 'null'}], 'default': None, 'title': 'Date Lte'}, 'ticker': {'anyOf': [{'type': 'string'}, {'type': 'null'}], 'default': None, 'title': 'Ticker'}, 'ticker_any_of': {'anyOf': [{'type': 'string'}, {'type': 'null'}], 'default': None, 'title': 'Ticker Any Of'}, 'ticker_gt': {'anyOf': [{'type': 'string'}, {'type': 'null'}], 'default': None, 'title': 'Ticker Gt'}, 'ticker_gte': {'anyOf': [{'type': 'string'}, {'type': 'null'}], 'default': None, 'title': 'Ticker Gte'}, 'ticker_lt': {'anyOf': [{'type': 'string'}, {'type': 'null'}], 'default': None, 'title': 'Ticker Lt'}, 'ticker_lte': {'anyOf': [{'type': 'string'}, {'type': 'null'}], 'default': None, 'title': 'Ticker Lte'}, 'importance': {'anyOf': [{'type': 'integer'}, {'type': 'null'}], 'default': None, 'title': 'Importance'}, 'importance_any_of': {'anyOf': [{'type': 'string'}, {'type': 'null'}], 'default': None, 'title': 'Importance Any Of'}, 'importance_gt': {'anyOf': [{'type': 'integer'}, {'type': 'null'}], 'default': None, 'title': 'Importance Gt'}, 'importance_gte': {'anyOf': [{'type': 'integer'}, {'type': 'null'}], 'default': None, 'title': 'Importance Gte'}, 'importance_lt': {'anyOf': [{'type': 'integer'}, {'type': 'null'}], 'default': None, 'title': 'Importance Lt'}, 'importance_lte': {'anyOf': [{'type': 'integer'}, {'type': 'null'}], 'default': None, 'title': 'Importance Lte'}, 'last_updated': {'anyOf': [{'type': 'string'}, {'type': 'null'}], 'default': None, 'title': 'Last Updated'}, 'last_updated_any_of': {'anyOf': [{'type': 'string'}, {'type': 'null'}], 'default': None, 'title': 'Last Updated Any Of'}, 'last_updated_gt': {'anyOf': [{'type': 'string'}, {'type': 'null'}], 'default': None, 'title': 'Last Updated Gt'}, 'last_updated_gte': {'anyOf': [{'type': 'string'}, {'type': 'null'}], 'default': None, 'title': 'Last Updated Gte'}, 'last_updated_lt': {'anyOf': [{'type': 'string'}, {'type': 'null'}], 'default': None, 'title': 'Last Updated Lt'}, 'last_updated_lte': {'anyOf': [{'type': 'string'}, {'type': 'null'}], 'default': None, 'title': 'Last Updated Lte'}, 'rating_action': {'anyOf': [{'type': 'string'}, {'type': 'null'}], 'default': None, 'title': 'Rating Action'}, 'rating_action_any_of': {'anyOf': [{'type': 'string'}, {'type': 'null'}], 'default': None, 'title': 'Rating Action Any Of'}, 'rating_action_gt': {'anyOf': [{'type': 'string'}, {'type': 'null'}], 'default': None, 'title': 'Rating Action Gt'}, 'rating_action_gte': {'anyOf': [{'type': 'string'}, {'type': 'null'}], 'default': None, 'title': 'Rating Action Gte'}, 'rating_action_lt': {'anyOf': [{'type': 'string'}, {'type': 'null'}], 'default': None, 'title': 'Rating Action Lt'}, 'rating_action_lte': {'anyOf': [{'type': 'string'}, {'type': 'null'}], 'default': None, 'title': 'Rating Action Lte'}, 'price_target_action': {'anyOf': [{'type': 'string'}, {'type': 'null'}], 'default': None, 'title': 'Price Target Action'}, 'price_target_action_any_of': {'anyOf': [{'type': 'string'}, {'type': 'null'}], 'default': None, 'title': 'Price Target Action Any Of'}, 'price_target_action_gt': {'anyOf': [{'type': 'string'}, {'type': 'null'}], 'default': None, 'title': 'Price Target Action Gt'}, 'price_target_action_gte': {'anyOf': [{'type': 'string'}, {'type': 'null'}], 'default': None, 'title': 'Price Target Action Gte'}, 'price_target_action_lt': {'anyOf': [{'type': 'string'}, {'type': 'null'}], 'default': None, 'title': 'Price Target Action Lt'}, 'price_target_action_lte': {'anyOf': [{'type': 'string'}, {'type': 'null'}], 'default': None, 'title': 'Price Target Action Lte'}, 'benzinga_id': {'anyOf': [{'type': 'string'}, {'type': 'null'}], 'default': None, 'title': 'Benzinga Id'}, 'benzinga_id_any_of': {'anyOf': [{'type': 'string'}, {'type': 'null'}], 'default': None, 'title': 'Benzinga Id Any Of'}, 'benzinga_id_gt': {'anyOf': [{'type': 'string'}, {'type': 'null'}], 'default': None, 'title': 'Benzinga Id Gt'}, 'benzinga_id_gte': {'anyOf': [{'type': 'string'}, {'type': 'null'}], 'default': None, 'title': 'Benzinga Id Gte'}, 'benzinga_id_lt': {'anyOf': [{'type': 'string'}, {'type': 'null'}], 'default': None, 'title': 'Benzinga Id Lt'}, 'benzinga_id_lte': {'anyOf': [{'type': 'string'}, {'type': 'null'}], 'default': None, 'title': 'Benzinga Id Lte'}, 'benzinga_analyst_id': {'anyOf': [{'type': 'string'}, {'type': 'null'}], 'default': None, 'title': 'Benzinga Analyst Id'}, 'benzinga_analyst_id_any_of': {'anyOf': [{'type': 'string'}, {'type': 'null'}], 'default': None, 'title': 'Benzinga Analyst Id Any Of'}, 'benzinga_analyst_id_gt': {'anyOf': [{'type': 'string'}, {'type': 'null'}], 'default': None, 'title': 'Benzinga Analyst Id Gt'}, 'benzinga_analyst_id_gte': {'anyOf': [{'type': 'string'}, {'type': 'null'}], 'default': None, 'title': 'Benzinga Analyst Id Gte'}, 'benzinga_analyst_id_lt': {'anyOf': [{'type': 'string'}, {'type': 'null'}], 'default': None, 'title': 'Benzinga Analyst Id Lt'}, 'benzinga_analyst_id_lte': {'anyOf': [{'type': 'string'}, {'type': 'null'}], 'default': None, 'title': 'Benzinga Analyst Id Lte'}, 'benzinga_firm_id': {'anyOf': [{'type': 'string'}, {'type': 'null'}], 'default': None, 'title': 'Benzinga Firm Id'}, 'benzinga_firm_id_any_of': {'anyOf': [{'type': 'string'}, {'type': 'null'}], 'default': None, 'title': 'Benzinga Firm Id Any Of'}, 'benzinga_firm_id_gt': {'anyOf': [{'type': 'string'}, {'type': 'null'}], 'default': None, 'title': 'Benzinga Firm Id Gt'}, 'benzinga_firm_id_gte': {'anyOf': [{'type': 'string'}, {'type': 'null'}], 'default': None, 'title': 'Benzinga Firm Id Gte'}, 'benzinga_firm_id_lt': {'anyOf': [{'type': 'string'}, {'type': 'null'}], 'default': None, 'title': 'Benzinga Firm Id Lt'}, 'benzinga_firm_id_lte': {'anyOf': [{'type': 'string'}, {'type': 'null'}], 'default': None, 'title': 'Benzinga Firm Id Lte'}, 'limit': {'anyOf': [{'type': 'integer'}, {'type': 'null'}], 'default': None, 'title': 'Limit'}, 'sort': {'anyOf': [{'type': 'string'}, {'type': 'null'}], 'default': None, 'title': 'Sort'}, 'params': {'anyOf': [{'additionalProperties': True, 'type': 'object'}, {'type': 'null'}], 'default': None, 'title': 'Params'}}, 'title': 'list_benzinga_ratingsArguments', 'type': 'object'}, annotations=ToolAnnotations(title=None, readOnlyHint=True, destructiveHint=None, idempotentHint=None, openWorldHint=None), outputSchema={'properties': {'result': {'additionalProperties': True, 'title': 'Result', 'type': 'object'}}, 'required': ['result'], 'title': 'list_benzinga_ratingsOutput', 'type': 'object'}),\n",
       " Tool(name='list_futures_aggregates', description='\\nGet aggregates for a futures contract in a given time range.\\n', inputSchema={'properties': {'ticker': {'title': 'Ticker', 'type': 'string'}, 'resolution': {'title': 'Resolution', 'type': 'string'}, 'window_start': {'anyOf': [{'type': 'string'}, {'type': 'null'}], 'default': None, 'title': 'Window Start'}, 'window_start_lt': {'anyOf': [{'type': 'string'}, {'type': 'null'}], 'default': None, 'title': 'Window Start Lt'}, 'window_start_lte': {'anyOf': [{'type': 'string'}, {'type': 'null'}], 'default': None, 'title': 'Window Start Lte'}, 'window_start_gt': {'anyOf': [{'type': 'string'}, {'type': 'null'}], 'default': None, 'title': 'Window Start Gt'}, 'window_start_gte': {'anyOf': [{'type': 'string'}, {'type': 'null'}], 'default': None, 'title': 'Window Start Gte'}, 'limit': {'anyOf': [{'type': 'integer'}, {'type': 'null'}], 'default': None, 'title': 'Limit'}, 'sort': {'anyOf': [{'type': 'string'}, {'type': 'null'}], 'default': None, 'title': 'Sort'}, 'params': {'anyOf': [{'additionalProperties': True, 'type': 'object'}, {'type': 'null'}], 'default': None, 'title': 'Params'}}, 'required': ['ticker', 'resolution'], 'title': 'list_futures_aggregatesArguments', 'type': 'object'}, annotations=ToolAnnotations(title=None, readOnlyHint=True, destructiveHint=None, idempotentHint=None, openWorldHint=None), outputSchema={'properties': {'result': {'additionalProperties': True, 'title': 'Result', 'type': 'object'}}, 'required': ['result'], 'title': 'list_futures_aggregatesOutput', 'type': 'object'}),\n",
       " Tool(name='list_futures_contracts', description='\\nGet a paginated list of futures contracts.\\n', inputSchema={'properties': {'product_code': {'anyOf': [{'type': 'string'}, {'type': 'null'}], 'default': None, 'title': 'Product Code'}, 'first_trade_date': {'anyOf': [{'type': 'string'}, {'format': 'date', 'type': 'string'}, {'type': 'null'}], 'default': None, 'title': 'First Trade Date'}, 'last_trade_date': {'anyOf': [{'type': 'string'}, {'format': 'date', 'type': 'string'}, {'type': 'null'}], 'default': None, 'title': 'Last Trade Date'}, 'as_of': {'anyOf': [{'type': 'string'}, {'format': 'date', 'type': 'string'}, {'type': 'null'}], 'default': None, 'title': 'As Of'}, 'active': {'anyOf': [{'type': 'string'}, {'type': 'null'}], 'default': None, 'title': 'Active'}, 'type': {'anyOf': [{'type': 'string'}, {'type': 'null'}], 'default': None, 'title': 'Type'}, 'limit': {'anyOf': [{'type': 'integer'}, {'type': 'null'}], 'default': None, 'title': 'Limit'}, 'sort': {'anyOf': [{'type': 'string'}, {'type': 'null'}], 'default': None, 'title': 'Sort'}, 'params': {'anyOf': [{'additionalProperties': True, 'type': 'object'}, {'type': 'null'}], 'default': None, 'title': 'Params'}}, 'title': 'list_futures_contractsArguments', 'type': 'object'}, annotations=ToolAnnotations(title=None, readOnlyHint=True, destructiveHint=None, idempotentHint=None, openWorldHint=None), outputSchema={'properties': {'result': {'additionalProperties': True, 'title': 'Result', 'type': 'object'}}, 'required': ['result'], 'title': 'list_futures_contractsOutput', 'type': 'object'}),\n",
       " Tool(name='get_futures_contract_details', description='\\nGet details for a single futures contract at a specified point in time.\\n', inputSchema={'properties': {'ticker': {'title': 'Ticker', 'type': 'string'}, 'as_of': {'anyOf': [{'type': 'string'}, {'format': 'date', 'type': 'string'}, {'type': 'null'}], 'default': None, 'title': 'As Of'}, 'params': {'anyOf': [{'additionalProperties': True, 'type': 'object'}, {'type': 'null'}], 'default': None, 'title': 'Params'}}, 'required': ['ticker'], 'title': 'get_futures_contract_detailsArguments', 'type': 'object'}, annotations=ToolAnnotations(title=None, readOnlyHint=True, destructiveHint=None, idempotentHint=None, openWorldHint=None), outputSchema={'properties': {'result': {'additionalProperties': True, 'title': 'Result', 'type': 'object'}}, 'required': ['result'], 'title': 'get_futures_contract_detailsOutput', 'type': 'object'}),\n",
       " Tool(name='list_futures_products', description='\\nGet a list of futures products (including combos).\\n', inputSchema={'properties': {'name': {'anyOf': [{'type': 'string'}, {'type': 'null'}], 'default': None, 'title': 'Name'}, 'name_search': {'anyOf': [{'type': 'string'}, {'type': 'null'}], 'default': None, 'title': 'Name Search'}, 'as_of': {'anyOf': [{'type': 'string'}, {'format': 'date', 'type': 'string'}, {'type': 'null'}], 'default': None, 'title': 'As Of'}, 'trading_venue': {'anyOf': [{'type': 'string'}, {'type': 'null'}], 'default': None, 'title': 'Trading Venue'}, 'sector': {'anyOf': [{'type': 'string'}, {'type': 'null'}], 'default': None, 'title': 'Sector'}, 'sub_sector': {'anyOf': [{'type': 'string'}, {'type': 'null'}], 'default': None, 'title': 'Sub Sector'}, 'asset_class': {'anyOf': [{'type': 'string'}, {'type': 'null'}], 'default': None, 'title': 'Asset Class'}, 'asset_sub_class': {'anyOf': [{'type': 'string'}, {'type': 'null'}], 'default': None, 'title': 'Asset Sub Class'}, 'type': {'anyOf': [{'type': 'string'}, {'type': 'null'}], 'default': None, 'title': 'Type'}, 'limit': {'anyOf': [{'type': 'integer'}, {'type': 'null'}], 'default': None, 'title': 'Limit'}, 'sort': {'anyOf': [{'type': 'string'}, {'type': 'null'}], 'default': None, 'title': 'Sort'}, 'params': {'anyOf': [{'additionalProperties': True, 'type': 'object'}, {'type': 'null'}], 'default': None, 'title': 'Params'}}, 'title': 'list_futures_productsArguments', 'type': 'object'}, annotations=ToolAnnotations(title=None, readOnlyHint=True, destructiveHint=None, idempotentHint=None, openWorldHint=None), outputSchema={'properties': {'result': {'additionalProperties': True, 'title': 'Result', 'type': 'object'}}, 'required': ['result'], 'title': 'list_futures_productsOutput', 'type': 'object'}),\n",
       " Tool(name='get_futures_product_details', description='\\nGet details for a single futures product as it was at a specific day.\\n', inputSchema={'properties': {'product_code': {'title': 'Product Code', 'type': 'string'}, 'type': {'anyOf': [{'type': 'string'}, {'type': 'null'}], 'default': None, 'title': 'Type'}, 'as_of': {'anyOf': [{'type': 'string'}, {'format': 'date', 'type': 'string'}, {'type': 'null'}], 'default': None, 'title': 'As Of'}, 'params': {'anyOf': [{'additionalProperties': True, 'type': 'object'}, {'type': 'null'}], 'default': None, 'title': 'Params'}}, 'required': ['product_code'], 'title': 'get_futures_product_detailsArguments', 'type': 'object'}, annotations=ToolAnnotations(title=None, readOnlyHint=True, destructiveHint=None, idempotentHint=None, openWorldHint=None), outputSchema={'properties': {'result': {'additionalProperties': True, 'title': 'Result', 'type': 'object'}}, 'required': ['result'], 'title': 'get_futures_product_detailsOutput', 'type': 'object'}),\n",
       " Tool(name='list_futures_quotes', description='\\nGet quotes for a futures contract in a given time range.\\n', inputSchema={'properties': {'ticker': {'title': 'Ticker', 'type': 'string'}, 'timestamp': {'anyOf': [{'type': 'string'}, {'type': 'null'}], 'default': None, 'title': 'Timestamp'}, 'timestamp_lt': {'anyOf': [{'type': 'string'}, {'type': 'null'}], 'default': None, 'title': 'Timestamp Lt'}, 'timestamp_lte': {'anyOf': [{'type': 'string'}, {'type': 'null'}], 'default': None, 'title': 'Timestamp Lte'}, 'timestamp_gt': {'anyOf': [{'type': 'string'}, {'type': 'null'}], 'default': None, 'title': 'Timestamp Gt'}, 'timestamp_gte': {'anyOf': [{'type': 'string'}, {'type': 'null'}], 'default': None, 'title': 'Timestamp Gte'}, 'session_end_date': {'anyOf': [{'type': 'string'}, {'type': 'null'}], 'default': None, 'title': 'Session End Date'}, 'session_end_date_lt': {'anyOf': [{'type': 'string'}, {'type': 'null'}], 'default': None, 'title': 'Session End Date Lt'}, 'session_end_date_lte': {'anyOf': [{'type': 'string'}, {'type': 'null'}], 'default': None, 'title': 'Session End Date Lte'}, 'session_end_date_gt': {'anyOf': [{'type': 'string'}, {'type': 'null'}], 'default': None, 'title': 'Session End Date Gt'}, 'session_end_date_gte': {'anyOf': [{'type': 'string'}, {'type': 'null'}], 'default': None, 'title': 'Session End Date Gte'}, 'limit': {'anyOf': [{'type': 'integer'}, {'type': 'null'}], 'default': None, 'title': 'Limit'}, 'sort': {'anyOf': [{'type': 'string'}, {'type': 'null'}], 'default': None, 'title': 'Sort'}, 'params': {'anyOf': [{'additionalProperties': True, 'type': 'object'}, {'type': 'null'}], 'default': None, 'title': 'Params'}}, 'required': ['ticker'], 'title': 'list_futures_quotesArguments', 'type': 'object'}, annotations=ToolAnnotations(title=None, readOnlyHint=True, destructiveHint=None, idempotentHint=None, openWorldHint=None), outputSchema={'properties': {'result': {'additionalProperties': True, 'title': 'Result', 'type': 'object'}}, 'required': ['result'], 'title': 'list_futures_quotesOutput', 'type': 'object'}),\n",
       " Tool(name='list_futures_trades', description='\\nGet trades for a futures contract in a given time range.\\n', inputSchema={'properties': {'ticker': {'title': 'Ticker', 'type': 'string'}, 'timestamp': {'anyOf': [{'type': 'string'}, {'type': 'null'}], 'default': None, 'title': 'Timestamp'}, 'timestamp_lt': {'anyOf': [{'type': 'string'}, {'type': 'null'}], 'default': None, 'title': 'Timestamp Lt'}, 'timestamp_lte': {'anyOf': [{'type': 'string'}, {'type': 'null'}], 'default': None, 'title': 'Timestamp Lte'}, 'timestamp_gt': {'anyOf': [{'type': 'string'}, {'type': 'null'}], 'default': None, 'title': 'Timestamp Gt'}, 'timestamp_gte': {'anyOf': [{'type': 'string'}, {'type': 'null'}], 'default': None, 'title': 'Timestamp Gte'}, 'session_end_date': {'anyOf': [{'type': 'string'}, {'type': 'null'}], 'default': None, 'title': 'Session End Date'}, 'session_end_date_lt': {'anyOf': [{'type': 'string'}, {'type': 'null'}], 'default': None, 'title': 'Session End Date Lt'}, 'session_end_date_lte': {'anyOf': [{'type': 'string'}, {'type': 'null'}], 'default': None, 'title': 'Session End Date Lte'}, 'session_end_date_gt': {'anyOf': [{'type': 'string'}, {'type': 'null'}], 'default': None, 'title': 'Session End Date Gt'}, 'session_end_date_gte': {'anyOf': [{'type': 'string'}, {'type': 'null'}], 'default': None, 'title': 'Session End Date Gte'}, 'limit': {'anyOf': [{'type': 'integer'}, {'type': 'null'}], 'default': None, 'title': 'Limit'}, 'sort': {'anyOf': [{'type': 'string'}, {'type': 'null'}], 'default': None, 'title': 'Sort'}, 'params': {'anyOf': [{'additionalProperties': True, 'type': 'object'}, {'type': 'null'}], 'default': None, 'title': 'Params'}}, 'required': ['ticker'], 'title': 'list_futures_tradesArguments', 'type': 'object'}, annotations=ToolAnnotations(title=None, readOnlyHint=True, destructiveHint=None, idempotentHint=None, openWorldHint=None), outputSchema={'properties': {'result': {'additionalProperties': True, 'title': 'Result', 'type': 'object'}}, 'required': ['result'], 'title': 'list_futures_tradesOutput', 'type': 'object'}),\n",
       " Tool(name='list_futures_schedules', description='\\nGet trading schedules for multiple futures products on a specific date.\\n', inputSchema={'properties': {'session_end_date': {'anyOf': [{'type': 'string'}, {'type': 'null'}], 'default': None, 'title': 'Session End Date'}, 'trading_venue': {'anyOf': [{'type': 'string'}, {'type': 'null'}], 'default': None, 'title': 'Trading Venue'}, 'limit': {'anyOf': [{'type': 'integer'}, {'type': 'null'}], 'default': None, 'title': 'Limit'}, 'sort': {'anyOf': [{'type': 'string'}, {'type': 'null'}], 'default': None, 'title': 'Sort'}, 'params': {'anyOf': [{'additionalProperties': True, 'type': 'object'}, {'type': 'null'}], 'default': None, 'title': 'Params'}}, 'title': 'list_futures_schedulesArguments', 'type': 'object'}, annotations=ToolAnnotations(title=None, readOnlyHint=True, destructiveHint=None, idempotentHint=None, openWorldHint=None), outputSchema={'properties': {'result': {'additionalProperties': True, 'title': 'Result', 'type': 'object'}}, 'required': ['result'], 'title': 'list_futures_schedulesOutput', 'type': 'object'}),\n",
       " Tool(name='list_futures_schedules_by_product_code', description='\\nGet schedule data for a single futures product across many trading dates.\\n', inputSchema={'properties': {'product_code': {'title': 'Product Code', 'type': 'string'}, 'session_end_date': {'anyOf': [{'type': 'string'}, {'type': 'null'}], 'default': None, 'title': 'Session End Date'}, 'session_end_date_lt': {'anyOf': [{'type': 'string'}, {'type': 'null'}], 'default': None, 'title': 'Session End Date Lt'}, 'session_end_date_lte': {'anyOf': [{'type': 'string'}, {'type': 'null'}], 'default': None, 'title': 'Session End Date Lte'}, 'session_end_date_gt': {'anyOf': [{'type': 'string'}, {'type': 'null'}], 'default': None, 'title': 'Session End Date Gt'}, 'session_end_date_gte': {'anyOf': [{'type': 'string'}, {'type': 'null'}], 'default': None, 'title': 'Session End Date Gte'}, 'limit': {'anyOf': [{'type': 'integer'}, {'type': 'null'}], 'default': None, 'title': 'Limit'}, 'sort': {'anyOf': [{'type': 'string'}, {'type': 'null'}], 'default': None, 'title': 'Sort'}, 'params': {'anyOf': [{'additionalProperties': True, 'type': 'object'}, {'type': 'null'}], 'default': None, 'title': 'Params'}}, 'required': ['product_code'], 'title': 'list_futures_schedules_by_product_codeArguments', 'type': 'object'}, annotations=ToolAnnotations(title=None, readOnlyHint=True, destructiveHint=None, idempotentHint=None, openWorldHint=None), outputSchema={'properties': {'result': {'additionalProperties': True, 'title': 'Result', 'type': 'object'}}, 'required': ['result'], 'title': 'list_futures_schedules_by_product_codeOutput', 'type': 'object'}),\n",
       " Tool(name='list_futures_market_statuses', description='\\nGet market statuses for futures products.\\n', inputSchema={'properties': {'product_code_any_of': {'anyOf': [{'type': 'string'}, {'type': 'null'}], 'default': None, 'title': 'Product Code Any Of'}, 'product_code': {'anyOf': [{'type': 'string'}, {'type': 'null'}], 'default': None, 'title': 'Product Code'}, 'limit': {'anyOf': [{'type': 'integer'}, {'type': 'null'}], 'default': None, 'title': 'Limit'}, 'sort': {'anyOf': [{'type': 'string'}, {'type': 'null'}], 'default': None, 'title': 'Sort'}, 'params': {'anyOf': [{'additionalProperties': True, 'type': 'object'}, {'type': 'null'}], 'default': None, 'title': 'Params'}}, 'title': 'list_futures_market_statusesArguments', 'type': 'object'}, annotations=ToolAnnotations(title=None, readOnlyHint=True, destructiveHint=None, idempotentHint=None, openWorldHint=None), outputSchema={'properties': {'result': {'additionalProperties': True, 'title': 'Result', 'type': 'object'}}, 'required': ['result'], 'title': 'list_futures_market_statusesOutput', 'type': 'object'}),\n",
       " Tool(name='get_futures_snapshot', description='\\nGet snapshots for futures contracts.\\n', inputSchema={'properties': {'ticker': {'anyOf': [{'type': 'string'}, {'type': 'null'}], 'default': None, 'title': 'Ticker'}, 'ticker_any_of': {'anyOf': [{'type': 'string'}, {'type': 'null'}], 'default': None, 'title': 'Ticker Any Of'}, 'ticker_gt': {'anyOf': [{'type': 'string'}, {'type': 'null'}], 'default': None, 'title': 'Ticker Gt'}, 'ticker_gte': {'anyOf': [{'type': 'string'}, {'type': 'null'}], 'default': None, 'title': 'Ticker Gte'}, 'ticker_lt': {'anyOf': [{'type': 'string'}, {'type': 'null'}], 'default': None, 'title': 'Ticker Lt'}, 'ticker_lte': {'anyOf': [{'type': 'string'}, {'type': 'null'}], 'default': None, 'title': 'Ticker Lte'}, 'product_code': {'anyOf': [{'type': 'string'}, {'type': 'null'}], 'default': None, 'title': 'Product Code'}, 'product_code_any_of': {'anyOf': [{'type': 'string'}, {'type': 'null'}], 'default': None, 'title': 'Product Code Any Of'}, 'product_code_gt': {'anyOf': [{'type': 'string'}, {'type': 'null'}], 'default': None, 'title': 'Product Code Gt'}, 'product_code_gte': {'anyOf': [{'type': 'string'}, {'type': 'null'}], 'default': None, 'title': 'Product Code Gte'}, 'product_code_lt': {'anyOf': [{'type': 'string'}, {'type': 'null'}], 'default': None, 'title': 'Product Code Lt'}, 'product_code_lte': {'anyOf': [{'type': 'string'}, {'type': 'null'}], 'default': None, 'title': 'Product Code Lte'}, 'limit': {'anyOf': [{'type': 'integer'}, {'type': 'null'}], 'default': None, 'title': 'Limit'}, 'sort': {'anyOf': [{'type': 'string'}, {'type': 'null'}], 'default': None, 'title': 'Sort'}, 'params': {'anyOf': [{'additionalProperties': True, 'type': 'object'}, {'type': 'null'}], 'default': None, 'title': 'Params'}}, 'title': 'get_futures_snapshotArguments', 'type': 'object'}, annotations=ToolAnnotations(title=None, readOnlyHint=True, destructiveHint=None, idempotentHint=None, openWorldHint=None), outputSchema={'properties': {'result': {'additionalProperties': True, 'title': 'Result', 'type': 'object'}}, 'required': ['result'], 'title': 'get_futures_snapshotOutput', 'type': 'object'})]"
      ]
     },
     "execution_count": 24,
     "metadata": {},
     "output_type": "execute_result"
    }
   ],
   "source": [
    "\n",
    "params = {\"command\": \"uvx\",\n",
    "          \"args\": [\"--from\", \"git+https://github.com/polygon-io/mcp_polygon@master\", \"mcp_polygon\"],\n",
    "          \"env\": {\"POLYGON_API_KEY\": polygon_api_key}\n",
    "          }\n",
    "async with MCPServerStdio(params=params) as server:\n",
    "    mcp_tools = await server.list_tools()\n",
    "mcp_tools\n"
   ]
  },
  {
   "cell_type": "markdown",
   "metadata": {},
   "source": [
    "### Wow that's a lot of tools!\n",
    "\n",
    "Let's try them out - hopefully the sheer number of tools doesn't overwhelm gpt-4o-mini!\n",
    "\n",
    "With the $29 monthly plan, we don't have access to some of the APIs, so I've needed to specify which APIs can be called.\n",
    "\n",
    "If you've splashed out on a bigger plan, feel free to remove my extra constraint.."
   ]
  },
  {
   "cell_type": "code",
   "execution_count": 25,
   "metadata": {},
   "outputs": [
    {
     "data": {
      "text/markdown": [
       "I'm currently unable to access the latest share price data for Apple due to authorization limitations. Is there anything else related to the stock market I can assist you with?"
      ],
      "text/plain": [
       "<IPython.core.display.Markdown object>"
      ]
     },
     "metadata": {},
     "output_type": "display_data"
    }
   ],
   "source": [
    "instructions = \"You answer questions about the stock market.\"\n",
    "request = \"What's the share price of Apple? Use your get_snapshot_ticker tool to get the latest price.\"\n",
    "model = \"gpt-4.1-mini\"\n",
    "\n",
    "async with MCPServerStdio(params=params) as mcp_server:\n",
    "    agent = Agent(name=\"agent\", instructions=instructions, model=model, mcp_servers=[mcp_server])\n",
    "    with trace(\"conversation\"):\n",
    "        result = await Runner.run(agent, request)\n",
    "    display(Markdown(result.final_output))"
   ]
  },
  {
   "cell_type": "markdown",
   "metadata": {},
   "source": [
    "## Setting up your .env file\n",
    "\n",
    "If you do decide to have a paid plan, please add this to your .env file to indicate:\n",
    "\n",
    "`POLYGON_PLAN=paid`\n",
    "\n",
    "And if you decide to go all the way for the realtime API, then please do:\n",
    "\n",
    "`POLYGON_PLAN=realtime`"
   ]
  },
  {
   "cell_type": "code",
   "execution_count": null,
   "metadata": {},
   "outputs": [],
   "source": [
    "load_dotenv(override=True)\n",
    "\n",
    "polygon_plan = os.getenv(\"POLYGON_PLAN\")\n",
    "is_paid_polygon = polygon_plan == \"paid\"\n",
    "is_realtime_polygon = polygon_plan == \"realtime\"\n",
    "\n",
    "if is_paid_polygon:\n",
    "    print(\"You've chosen to subscribe to the paid Polygon plan, so the code will look at prices on a 15 min delay\")\n",
    "elif is_realtime_polygon:\n",
    "    print(\"Wowzer - you've chosen to subscribe to the realtime Polygon plan, so the code will look at realtime prices\")\n",
    "else:\n",
    "    print(\"According to your .env file, you've chosen to subscribe to the free Polygon plan, so the code will look at EOD prices\")"
   ]
  },
  {
   "cell_type": "markdown",
   "metadata": {},
   "source": [
    "## And that's it for today!\n",
    "\n",
    "I've removed the part of this lab that uses the \"Financial Datasets\" mcp server, because it's inferior - more expensive with fewer APIs.\n",
    "\n",
    "And this way we get to use the same provider for Free and Paid APIs.\n",
    "\n",
    "But if you want to see the code, just look in the git history for a prior version."
   ]
  },
  {
   "cell_type": "markdown",
   "metadata": {},
   "source": [
    "<table style=\"margin: 0; text-align: left; width:100%\">\n",
    "    <tr>\n",
    "        <td style=\"width: 150px; height: 150px; vertical-align: middle;\">\n",
    "            <img src=\"../assets/exercise.png\" width=\"150\" height=\"150\" style=\"display: block;\" />\n",
    "        </td>\n",
    "        <td>\n",
    "            <h2 style=\"color:#ff7800;\">Exercises</h2>\n",
    "            <span style=\"color:#ff7800;\">Explore MCP server marketplaces and integrate your own, using all 3 approaches.\n",
    "            </span>\n",
    "        </td>\n",
    "    </tr>\n",
    "</table>"
   ]
  }
 ],
 "metadata": {
  "kernelspec": {
   "display_name": "udemy_agents_ed_donner",
   "language": "python",
   "name": "python3"
  },
  "language_info": {
   "codemirror_mode": {
    "name": "ipython",
    "version": 3
   },
   "file_extension": ".py",
   "mimetype": "text/x-python",
   "name": "python",
   "nbconvert_exporter": "python",
   "pygments_lexer": "ipython3",
   "version": "3.12.10"
  }
 },
 "nbformat": 4,
 "nbformat_minor": 2
}
