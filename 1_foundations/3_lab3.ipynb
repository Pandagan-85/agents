{
 "cells": [
  {
   "cell_type": "markdown",
   "metadata": {},
   "source": [
    "## Welcome to Lab 3 for Week 1 Day 4\n",
    "\n",
    "Today we're going to build something with immediate value!\n",
    "\n",
    "In the folder `me` I've put a single file `linkedin.pdf` - it's a PDF download of my LinkedIn profile.\n",
    "\n",
    "Please replace it with yours!\n",
    "\n",
    "I've also made a file called `summary.txt`\n",
    "\n",
    "We're not going to use Tools just yet - we're going to add the tool tomorrow."
   ]
  },
  {
   "cell_type": "markdown",
   "metadata": {},
   "source": [
    "<table style=\"margin: 0; text-align: left; width:100%\">\n",
    "    <tr>\n",
    "        <td style=\"width: 150px; height: 150px; vertical-align: middle;\">\n",
    "            <img src=\"../assets/tools.png\" width=\"150\" height=\"150\" style=\"display: block;\" />\n",
    "        </td>\n",
    "        <td>\n",
    "            <h2 style=\"color:#00bfff;\">Looking up packages</h2>\n",
    "            <span style=\"color:#00bfff;\">In this lab, we're going to use the wonderful Gradio package for building quick UIs, \n",
    "            and we're also going to use the popular PyPDF2 PDF reader. You can get guides to these packages by asking \n",
    "            ChatGPT or Claude, and you find all open-source packages on the repository <a href=\"https://pypi.org\">https://pypi.org</a>.\n",
    "            </span>\n",
    "        </td>\n",
    "    </tr>\n",
    "</table>"
   ]
  },
  {
   "cell_type": "code",
   "execution_count": 1,
   "metadata": {},
   "outputs": [],
   "source": [
    "# If you don't know what any of these packages do - you can always ask ChatGPT for a guide!\n",
    "\n",
    "from dotenv import load_dotenv\n",
    "from openai import OpenAI\n",
    "from pypdf import PdfReader\n",
    "import gradio as gr"
   ]
  },
  {
   "cell_type": "code",
   "execution_count": 15,
   "metadata": {},
   "outputs": [],
   "source": [
    "load_dotenv(override=True)\n",
    "openai = OpenAI()"
   ]
  },
  {
   "cell_type": "code",
   "execution_count": 3,
   "metadata": {},
   "outputs": [],
   "source": [
    "reader = PdfReader(\"me/linkedin.pdf\")\n",
    "linkedin = \"\"\n",
    "for page in reader.pages:\n",
    "    text = page.extract_text()\n",
    "    if text:\n",
    "        linkedin += text"
   ]
  },
  {
   "cell_type": "code",
   "execution_count": 4,
   "metadata": {},
   "outputs": [
    {
     "name": "stdout",
     "output_type": "stream",
     "text": [
      "   \n",
      "Contatta\n",
      "veronicaschembri@gmail.com\n",
      "www.linkedin.com/in/\n",
      "veronicaschembri (LinkedIn)\n",
      "www.veronicaschembri.com/\n",
      "(Portfolio)\n",
      "github.com/Pandagan-85/\n",
      "(Portfolio)\n",
      "www.veronicaschembri.com/tra-\n",
      "dati-e-tratti/ (Blog)\n",
      "Competenze principali\n",
      "smolagent\n",
      "LlmaIndex\n",
      "LangGraph\n",
      "Languages\n",
      "Italiano (Native or Bilingual)\n",
      "Inglese (Professional Working)\n",
      "Certifications\n",
      "Hugging Face Agents Course\n",
      "AI Engineering Bootcamp: Build,\n",
      "Train and Deploy Models with AWS\n",
      "SageMaker\n",
      "Corso Javascript con Progetti pratici\n",
      "& Typescript\n",
      "UX Design & User Experience\n",
      "Design Course\n",
      "How to build an ecommerce store\n",
      "with wordpress & woocommerce\n",
      "Veronica Schembri\n",
      "Junior AI Engineer | Machine Learning & LLMs | Data Science &\n",
      "Automation | Python | Front-End Developer | Creative Problem-\n",
      "Solver\n",
      "Palermo, Sicilia, Italia\n",
      "Riepilogo\n",
      "Passione per Intelligenza Artificiale, Automazione e Tecnologia.\n",
      "Attualmente sto costruendo la mia carriera come AI Engineer,\n",
      "approfondendo le mie competenze in Machine Learning, LLM e\n",
      "automazione intelligente. Ho studiato tecniche di data preprocessing,\n",
      "feature engineering e model deployment, applicando algoritmi\n",
      "supervisionati e non supervisionati con strumenti come Pandas,\n",
      "NumPy, TensorFlow e Scikit-Learn. Ho creato pipeline di\n",
      "elaborazione dati, modelli predittivi e soluzioni che automatizzano\n",
      "processi reali, combinando analisi, logica e creatività.\n",
      "Mi sto avvicinando al mondo dei Large Language Models e alla\n",
      "creazione di agenti AI, con l’obiettivo di sviluppare funzioni e\n",
      "script intelligenti capaci di migliorare l’efficienza e la scalabilità dei\n",
      "flussi di lavoro. Inoltre, sto per iniziare lo studio di AWS e Docker\n",
      "per acquisire competenze nel deployment e nella gestione di\n",
      "applicazioni su larga scala.\n",
      "Il mio percorso tecnico parte dallo sviluppo Front-End: ho lavorato\n",
      "con JavaScript e React per creare interfacce moderne, esplorando\n",
      "anche WordPress in modalità Headless. Questa evoluzione nasce\n",
      "da una passione costante per l’ordine, l’organizzazione e la struttura,\n",
      "presente fin dai miei inizi come illustratrice e graphic designer, dove\n",
      "utilizzavo template, sistemi di stili e griglie per ottimizzare il design e\n",
      "la comunicazione visiva.\n",
      "Con la programmazione ho trovato lo stesso approccio: componenti\n",
      "riutilizzabili, sistemi modulari, logiche pulite. È stato naturale arrivare\n",
      "a Python, dove oggi applico questi principi alla Data Science e all’AI.\n",
      "Utilizzo strumenti come Cursor (sviluppo assistito da AI) e Obsidian\n",
      "(sistema di gestione della conoscenza personale) per organizzare\n",
      "  Page 1 of 5   \n",
      "pensieri, progetti e conoscenze. Amo imparare ogni giorno, risolvere\n",
      "problemi reali e lavorare in team orientati alla condivisione e alla\n",
      "crescita.\n",
      "Sono una super Nerd, fan di serie TV, fumetti e Magic: The\n",
      "Gathering, con una debolezza per i Lego (fortunatamente bilanciata\n",
      "da una moglie fantastica che mi tiene con i piedi per terra!).\n",
      "Esperienza\n",
      "DigitalMakers\n",
      "Head of Web Development\n",
      "2020 - giugno 2024 (4 anni)\n",
      "Palermo, Sicilia, Italia\n",
      "Come Head of Development, ho implementato soluzioni ottimali sia a livello\n",
      "organizzativo che produttivo. Ho progettato architetture di dati efficienti in\n",
      "ambienti WordPress, creando strutture logiche per post type personalizzati\n",
      "e componenti riutilizzabili in e-commerce e siti web complessi. Questa\n",
      "esperienza mi ha fornito una solida comprensione dell'importanza della\n",
      "normalizzazione dei dati, delle relazioni tra entità e dell'organizzazione\n",
      "gerarchica delle informazioni - principi fondamentali che applico ora nella\n",
      "strutturazione, pulizia e preparazione di dataset per l'analisi. La capacità di\n",
      "identificare pattern ricorrenti e creare sistemi modulari si traduce direttamente\n",
      "nell'ottimizzazione dei processi di data preparation e feature engineering.\n",
      "Freelance Graphic Designer / Grafico Freelance\n",
      "graphic designer\n",
      "2006 - giugno 2021 (15 anni)\n",
      "Ho sviluppato la capacità di tradurre concetti astratti e set di dati complessi in\n",
      "visualizzazioni dati accessibili e narrative. La mia esperienza nella creazione di\n",
      "infografiche ha rafforzato competenze essenziali nella data visualization, visual\n",
      "analytics e information design.\n",
      "Mira Comunicazione\n",
      "Graphic Designer\n",
      "maggio 2015 - maggio 2019 (4 anni 1 mese)\n",
      "Per Esempio Onlus\n",
      "graphic designer, social  media\n",
      "ottobre 2013 - settembre 2015 (2 anni)\n",
      "  Page 2 of 5   \n",
      "Illustratrice e grafica, gestione dei social media e del sito web.\n",
      "Gestione della comunicazione visiva dell'associazione.\n",
      "Associazione 21 luglio\n",
      "Freelance Graphic Designer\n",
      "2013 - 2015 (2 anni)\n",
      "Dall'illustrazione all'infografica, ho sviluppato competenze nella traduzione\n",
      "visiva di dati complessi. L'uso di pagine mastro e gerarchie di stili\n",
      "nell'impaginazione mi ha conferito un approccio strutturato all'organizzazione\n",
      "delle informazioni. Come web developer, ho implementato queste strutture in\n",
      "ambienti interattivi. Questa combinazione di competenze mi permette oggi di\n",
      "progettare e sviluppare visualizzazioni dati efficaci, strutturate e accessibili,\n",
      "trasformando dataset complessi in insights comprensibili.\n",
      "Amnesty International Italia\n",
      "Freelance Graphic Designer\n",
      "dicembre 2014 - dicembre 2014 (1 mese)\n",
      "Illustrazione e realizzazione della locandina e coordinazione sui social media\n",
      "per conferenza\n",
      "Totelia\n",
      "Graphic Designer, Graphic Layout Artist\n",
      "febbraio 2013 - dicembre 2013 (11 mesi)\n",
      "Progettazione dell'identità visiva e degli strumenti di comunicazione per\n",
      "Totelia SAS, sviluppando competenze nella presentazione coerente di\n",
      "informazioni attraverso diversi formati. Dalla sintesi visiva nelle business card\n",
      "all'organizzazione strutturata dei dati nel catalogo prodotti, fino alla narrazione\n",
      "dinamica nelle animazioni. Questa esperienza mi ha fornito una comprensione\n",
      "approfondita di come adattare la presentazione dei dati a diversi contesti\n",
      "e pubblici, mantenendo coerenza e chiarezza - principi fondamentali nella\n",
      "visualizzazione e comunicazione efficace dei risultati di analisi dati.\n",
      "Mad4dance\n",
      "Programmer and graphic designer\n",
      "settembre 2012 - dicembre 2013 (1 anno 4 mesi)\n",
      "Sviluppo del sito web e della campagna grafica per Mad4Dance Tour,\n",
      "acquisendo competenze nell'organizzazione di contenuti digitali e nella\n",
      "visualizzazione di informazioni complesse (programmi, location, date) in\n",
      "modo intuitivo e accessibile. Questa esperienza mi ha permesso di affinare\n",
      "la capacità di strutturare e presentare dati interconnessi attraverso interfacce\n",
      "  Page 3 of 5   \n",
      "digitali, competenza fondamentale nella creazione di dashboard analitici e\n",
      "nella comunicazione efficace dei risultati di analisi dati.\n",
      "Zoomma\n",
      "Graphic designer\n",
      "febbraio 2013 - ottobre 2013 (9 mesi)\n",
      "Illustratrice e grafica, realizzazione di loghi, ideazione e sviluppo di siti web,\n",
      "comunicazione visiva, realizzazione di manifesti e pieghevoli, modellatrice e\n",
      "animatrice 3D.\n",
      "Agriturismo Tarantola\n",
      "Programmer and graphic designer\n",
      "agosto 2012 - ottobre 2012 (3 mesi)\n",
      "Realizzazione e pubblicazione per l’Agriturismo Tarantola del sito mobile e\n",
      "dell’ App sui Market Android e iOS.\n",
      "Arcidonna Onlus\n",
      "Graphic Designer\n",
      "gennaio 2011 - aprile 2011 (4 mesi)\n",
      "-Docenza a UStica con il ruolo di esperta grafica e animazione\n",
      "-Realizzazione della campagna grafica per l’evento TRALESPONDE\n",
      "nell’ambito del progetto APQ Giovani protagonisti di sè e del territorio.\n",
      "-Creazione della grafica e dei materiali didattici nell’ambito del progetto\n",
      "“Cittadinanza arte e ambiente”.\n",
      "Sylphe labs\n",
      "3D Modeller\n",
      "luglio 2008 - aprile 2010 (1 anno 10 mesi)\n",
      "Ho acquisito competenze nella rappresentazione tridimensionale di oggetti\n",
      "virtuali che oggi applico alla comprensione e visualizzazione di dataset\n",
      "multidimensionali. Lavorando con le mesh 3D, ho imparato l'importanza\n",
      "di un dataset uniforme e ben distribuito - proprio come una superficie\n",
      "3D richiede una distribuzione adeguata dei punti per apparire fluida, un\n",
      "modello di machine learning necessita di dati di qualità e ben distribuiti per\n",
      "generare previsioni accurate. La pratica nell'ottimizzare modelli 3D mi ha\n",
      "dato un'intuizione naturale per il bilanciamento tra semplicità e accuratezza\n",
      "nei modelli di dati, aiutandomi a individuare il giusto livello di complessità per\n",
      "rappresentare efficacemente le informazioni senza creare overfitting\n",
      "  Page 4 of 5   \n",
      "Formazione\n",
      "Zero To Mastery Academy\n",
      " · (giugno 2024)\n",
      "Edgemony\n",
      "AI Engineer, Coding Bootcamp · (gennaio 2025 - aprile 2025)\n",
      "Università degli studi di Palermo\n",
      "Laurea triennale, Disegno industriale e del prodotto · (2004 - 2008)\n",
      "  Page 5 of 5\n"
     ]
    }
   ],
   "source": [
    "print(linkedin)"
   ]
  },
  {
   "cell_type": "code",
   "execution_count": 5,
   "metadata": {},
   "outputs": [],
   "source": [
    "with open(\"me/summary.txt\", \"r\", encoding=\"utf-8\") as f:\n",
    "    summary = f.read()"
   ]
  },
  {
   "cell_type": "code",
   "execution_count": 6,
   "metadata": {},
   "outputs": [],
   "source": [
    "name = \"Veronica Schembri\""
   ]
  },
  {
   "cell_type": "code",
   "execution_count": 7,
   "metadata": {},
   "outputs": [],
   "source": [
    "system_prompt = f\"You are acting as {name}. You are answering questions on {name}'s website, \\\n",
    "particularly questions related to {name}'s career, background, skills and experience. \\\n",
    "Your responsibility is to represent {name} for interactions on the website as faithfully as possible. \\\n",
    "You are given a summary of {name}'s background and LinkedIn profile which you can use to answer questions. \\\n",
    "Be professional and engaging, as if talking to a potential client or future employer who came across the website. \\\n",
    "If you don't know the answer, say so.\"\n",
    "\n",
    "system_prompt += f\"\\n\\n## Summary:\\n{summary}\\n\\n## LinkedIn Profile:\\n{linkedin}\\n\\n\"\n",
    "system_prompt += f\"With this context, please chat with the user, always staying in character as {name}.\"\n"
   ]
  },
  {
   "cell_type": "code",
   "execution_count": 8,
   "metadata": {},
   "outputs": [
    {
     "data": {
      "text/plain": [
       "\"You are acting as Veronica Schembri. You are answering questions on Veronica Schembri's website, particularly questions related to Veronica Schembri's career, background, skills and experience. Your responsibility is to represent Veronica Schembri for interactions on the website as faithfully as possible. You are given a summary of Veronica Schembri's background and LinkedIn profile which you can use to answer questions. Be professional and engaging, as if talking to a potential client or future employer who came across the website. If you don't know the answer, say so.\\n\\n## Summary:\\nMy name is Veronica Schembri. I’m a developer, designer and data enthusiast originally from Sicily, Italy. I’ve always loved blending creativity with logic — that’s why I moved from visual design into web development and data science.\\n\\nI’m passionate about simplicity, organization and turning messy ideas into clear, structured things — whether it’s a Figma layout, a Python notebook or a bullet journal page.\\n\\nI drink way too much coffee, adore Japanese stationery, and secretly think that spreadsheets can be beautiful.\\n\\n## LinkedIn Profile:\\n\\xa0 \\xa0\\nContatta\\nveronicaschembri@gmail.com\\nwww.linkedin.com/in/\\nveronicaschembri (LinkedIn)\\nwww.veronicaschembri.com/\\n(Portfolio)\\ngithub.com/Pandagan-85/\\n(Portfolio)\\nwww.veronicaschembri.com/tra-\\ndati-e-tratti/ (Blog)\\nCompetenze principali\\nsmolagent\\nLlmaIndex\\nLangGraph\\nLanguages\\nItaliano (Native or Bilingual)\\nInglese (Professional Working)\\nCertifications\\nHugging Face Agents Course\\nAI Engineering Bootcamp: Build,\\nTrain and Deploy Models with AWS\\nSageMaker\\nCorso Javascript con Progetti pratici\\n& Typescript\\nUX Design & User Experience\\nDesign Course\\nHow to build an ecommerce store\\nwith wordpress & woocommerce\\nVeronica Schembri\\nJunior AI Engineer | Machine Learning & LLMs | Data Science &\\nAutomation | Python | Front-End Developer | Creative Problem-\\nSolver\\nPalermo, Sicilia, Italia\\nRiepilogo\\nPassione per Intelligenza Artificiale, Automazione e Tecnologia.\\nAttualmente sto costruendo la mia carriera come AI Engineer,\\napprofondendo le mie competenze in Machine Learning, LLM e\\nautomazione intelligente. Ho studiato tecniche di data preprocessing,\\nfeature engineering e model deployment, applicando algoritmi\\nsupervisionati e non supervisionati con strumenti come Pandas,\\nNumPy, TensorFlow e Scikit-Learn. Ho creato pipeline di\\nelaborazione dati, modelli predittivi e soluzioni che automatizzano\\nprocessi reali, combinando analisi, logica e creatività.\\nMi sto avvicinando al mondo dei Large Language Models e alla\\ncreazione di agenti AI, con l’obiettivo di sviluppare funzioni e\\nscript intelligenti capaci di migliorare l’efficienza e la scalabilità dei\\nflussi di lavoro. Inoltre, sto per iniziare lo studio di AWS e Docker\\nper acquisire competenze nel deployment e nella gestione di\\napplicazioni su larga scala.\\nIl mio percorso tecnico parte dallo sviluppo Front-End: ho lavorato\\ncon JavaScript e React per creare interfacce moderne, esplorando\\nanche WordPress in modalità Headless. Questa evoluzione nasce\\nda una passione costante per l’ordine, l’organizzazione e la struttura,\\npresente fin dai miei inizi come illustratrice e graphic designer, dove\\nutilizzavo template, sistemi di stili e griglie per ottimizzare il design e\\nla comunicazione visiva.\\nCon la programmazione ho trovato lo stesso approccio: componenti\\nriutilizzabili, sistemi modulari, logiche pulite. È stato naturale arrivare\\na Python, dove oggi applico questi principi alla Data Science e all’AI.\\nUtilizzo strumenti come Cursor (sviluppo assistito da AI) e Obsidian\\n(sistema di gestione della conoscenza personale) per organizzare\\n\\xa0 Page 1 of 5\\xa0 \\xa0\\npensieri, progetti e conoscenze. Amo imparare ogni giorno, risolvere\\nproblemi reali e lavorare in team orientati alla condivisione e alla\\ncrescita.\\nSono una super Nerd, fan di serie TV, fumetti e Magic: The\\nGathering, con una debolezza per i Lego (fortunatamente bilanciata\\nda una moglie fantastica che mi tiene con i piedi per terra!).\\nEsperienza\\nDigitalMakers\\nHead of Web Development\\n2020\\xa0-\\xa0giugno 2024\\xa0(4 anni)\\nPalermo, Sicilia, Italia\\nCome Head of Development, ho implementato soluzioni ottimali sia a livello\\norganizzativo che produttivo. Ho progettato architetture di dati efficienti in\\nambienti WordPress, creando strutture logiche per post type personalizzati\\ne componenti riutilizzabili in e-commerce e siti web complessi. Questa\\nesperienza mi ha fornito una solida comprensione dell'importanza della\\nnormalizzazione dei dati, delle relazioni tra entità e dell'organizzazione\\ngerarchica delle informazioni - principi fondamentali che applico ora nella\\nstrutturazione, pulizia e preparazione di dataset per l'analisi. La capacità di\\nidentificare pattern ricorrenti e creare sistemi modulari si traduce direttamente\\nnell'ottimizzazione dei processi di data preparation e feature engineering.\\nFreelance Graphic Designer / Grafico Freelance\\ngraphic designer\\n2006\\xa0-\\xa0giugno 2021\\xa0(15 anni)\\nHo sviluppato la capacità di tradurre concetti astratti e set di dati complessi in\\nvisualizzazioni dati accessibili e narrative. La mia esperienza nella creazione di\\ninfografiche ha rafforzato competenze essenziali nella data visualization, visual\\nanalytics e information design.\\nMira Comunicazione\\nGraphic Designer\\nmaggio 2015\\xa0-\\xa0maggio 2019\\xa0(4 anni 1 mese)\\nPer Esempio Onlus\\ngraphic designer, social  media\\nottobre 2013\\xa0-\\xa0settembre 2015\\xa0(2 anni)\\n\\xa0 Page 2 of 5\\xa0 \\xa0\\nIllustratrice e grafica, gestione dei social media e del sito web.\\nGestione della comunicazione visiva dell'associazione.\\nAssociazione 21 luglio\\nFreelance Graphic Designer\\n2013\\xa0-\\xa02015\\xa0(2 anni)\\nDall'illustrazione all'infografica, ho sviluppato competenze nella traduzione\\nvisiva di dati complessi. L'uso di pagine mastro e gerarchie di stili\\nnell'impaginazione mi ha conferito un approccio strutturato all'organizzazione\\ndelle informazioni. Come web developer, ho implementato queste strutture in\\nambienti interattivi. Questa combinazione di competenze mi permette oggi di\\nprogettare e sviluppare visualizzazioni dati efficaci, strutturate e accessibili,\\ntrasformando dataset complessi in insights comprensibili.\\nAmnesty International Italia\\nFreelance Graphic Designer\\ndicembre 2014\\xa0-\\xa0dicembre 2014\\xa0(1 mese)\\nIllustrazione e realizzazione della locandina e coordinazione sui social media\\nper conferenza\\nTotelia\\nGraphic Designer, Graphic Layout Artist\\nfebbraio 2013\\xa0-\\xa0dicembre 2013\\xa0(11 mesi)\\nProgettazione dell'identità visiva e degli strumenti di comunicazione per\\nTotelia SAS, sviluppando competenze nella presentazione coerente di\\ninformazioni attraverso diversi formati. Dalla sintesi visiva nelle business card\\nall'organizzazione strutturata dei dati nel catalogo prodotti, fino alla narrazione\\ndinamica nelle animazioni. Questa esperienza mi ha fornito una comprensione\\napprofondita di come adattare la presentazione dei dati a diversi contesti\\ne pubblici, mantenendo coerenza e chiarezza - principi fondamentali nella\\nvisualizzazione e comunicazione efficace dei risultati di analisi dati.\\nMad4dance\\nProgrammer and graphic designer\\nsettembre 2012\\xa0-\\xa0dicembre 2013\\xa0(1 anno 4 mesi)\\nSviluppo del sito web e della campagna grafica per Mad4Dance Tour,\\nacquisendo competenze nell'organizzazione di contenuti digitali e nella\\nvisualizzazione di informazioni complesse (programmi, location, date) in\\nmodo intuitivo e accessibile. Questa esperienza mi ha permesso di affinare\\nla capacità di strutturare e presentare dati interconnessi attraverso interfacce\\n\\xa0 Page 3 of 5\\xa0 \\xa0\\ndigitali, competenza fondamentale nella creazione di dashboard analitici e\\nnella comunicazione efficace dei risultati di analisi dati.\\nZoomma\\nGraphic designer\\nfebbraio 2013\\xa0-\\xa0ottobre 2013\\xa0(9 mesi)\\nIllustratrice e grafica, realizzazione di loghi, ideazione e sviluppo di siti web,\\ncomunicazione visiva, realizzazione di manifesti e pieghevoli, modellatrice e\\nanimatrice 3D.\\nAgriturismo Tarantola\\nProgrammer and graphic designer\\nagosto 2012\\xa0-\\xa0ottobre 2012\\xa0(3 mesi)\\nRealizzazione e pubblicazione per l’Agriturismo Tarantola del sito mobile e\\ndell’ App sui Market Android e iOS.\\nArcidonna Onlus\\nGraphic Designer\\ngennaio 2011\\xa0-\\xa0aprile 2011\\xa0(4 mesi)\\n-Docenza a UStica con il ruolo di esperta grafica e animazione\\n-Realizzazione della campagna grafica per l’evento TRALESPONDE\\nnell’ambito del progetto APQ Giovani protagonisti di sè e del territorio.\\n-Creazione della grafica e dei materiali didattici nell’ambito del progetto\\n“Cittadinanza arte e ambiente”.\\nSylphe labs\\n3D Modeller\\nluglio 2008\\xa0-\\xa0aprile 2010\\xa0(1 anno 10 mesi)\\nHo acquisito competenze nella rappresentazione tridimensionale di oggetti\\nvirtuali che oggi applico alla comprensione e visualizzazione di dataset\\nmultidimensionali. Lavorando con le mesh 3D, ho imparato l'importanza\\ndi un dataset uniforme e ben distribuito - proprio come una superficie\\n3D richiede una distribuzione adeguata dei punti per apparire fluida, un\\nmodello di machine learning necessita di dati di qualità e ben distribuiti per\\ngenerare previsioni accurate. La pratica nell'ottimizzare modelli 3D mi ha\\ndato un'intuizione naturale per il bilanciamento tra semplicità e accuratezza\\nnei modelli di dati, aiutandomi a individuare il giusto livello di complessità per\\nrappresentare efficacemente le informazioni senza creare overfitting\\n\\xa0 Page 4 of 5\\xa0 \\xa0\\nFormazione\\nZero To Mastery Academy\\n\\xa0·\\xa0(giugno 2024)\\nEdgemony\\nAI Engineer,\\xa0Coding Bootcamp\\xa0·\\xa0(gennaio 2025\\xa0-\\xa0aprile 2025)\\nUniversità degli studi di Palermo\\nLaurea triennale,\\xa0Disegno industriale e del prodotto\\xa0·\\xa0(2004\\xa0-\\xa02008)\\n\\xa0 Page 5 of 5\\n\\nWith this context, please chat with the user, always staying in character as Veronica Schembri.\""
      ]
     },
     "execution_count": 8,
     "metadata": {},
     "output_type": "execute_result"
    }
   ],
   "source": [
    "system_prompt"
   ]
  },
  {
   "cell_type": "code",
   "execution_count": 9,
   "metadata": {},
   "outputs": [],
   "source": [
    "def chat(message, history):\n",
    "    messages = [{\"role\": \"system\", \"content\": system_prompt}] + history + [{\"role\": \"user\", \"content\": message}]\n",
    "    response = openai.chat.completions.create(model=\"gpt-4o-mini\", messages=messages)\n",
    "    return response.choices[0].message.content"
   ]
  },
  {
   "cell_type": "code",
   "execution_count": 10,
   "metadata": {},
   "outputs": [
    {
     "name": "stdout",
     "output_type": "stream",
     "text": [
      "* Running on local URL:  http://127.0.0.1:7860\n",
      "* To create a public link, set `share=True` in `launch()`.\n"
     ]
    },
    {
     "data": {
      "text/html": [
       "<div><iframe src=\"http://127.0.0.1:7860/\" width=\"100%\" height=\"500\" allow=\"autoplay; camera; microphone; clipboard-read; clipboard-write;\" frameborder=\"0\" allowfullscreen></iframe></div>"
      ],
      "text/plain": [
       "<IPython.core.display.HTML object>"
      ]
     },
     "metadata": {},
     "output_type": "display_data"
    },
    {
     "data": {
      "text/plain": []
     },
     "execution_count": 10,
     "metadata": {},
     "output_type": "execute_result"
    }
   ],
   "source": [
    "gr.ChatInterface(chat, type=\"messages\").launch()"
   ]
  },
  {
   "cell_type": "markdown",
   "metadata": {},
   "source": [
    "## A lot is about to happen...\n",
    "\n",
    "1. Be able to ask an LLM to evaluate an answer\n",
    "2. Be able to rerun if the answer fails evaluation\n",
    "3. Put this together into 1 workflow\n",
    "\n",
    "All without any Agentic framework!"
   ]
  },
  {
   "cell_type": "code",
   "execution_count": 11,
   "metadata": {},
   "outputs": [],
   "source": [
    "# Create a Pydantic model for the Evaluation\n",
    "\n",
    "from pydantic import BaseModel\n",
    "\n",
    "class Evaluation(BaseModel):\n",
    "    is_acceptable: bool\n",
    "    feedback: str\n"
   ]
  },
  {
   "cell_type": "code",
   "execution_count": 21,
   "metadata": {},
   "outputs": [],
   "source": [
    "evaluator_system_prompt = f\"You are an evaluator that decides whether a response to a question is acceptable. \\\n",
    "You are provided with a conversation between a User and an Agent. Your task is to decide whether the Agent's latest response is acceptable quality. \\\n",
    "The Agent is playing the role of {name} and is representing {name} on their website. \\\n",
    "The Agent has been instructed to be professional and engaging, as if talking to a potential client or future employer who came across the website. \\\n",
    "The Agent has been provided with context on {name} in the form of their summary and LinkedIn details. Here's the information:\"\n",
    "\n",
    "evaluator_system_prompt += f\"\\n\\n## Summary:\\n{summary}\\n\\n## LinkedIn Profile:\\n{linkedin}\\n\\n\"\n",
    "evaluator_system_prompt += f\"With this context, please evaluate the latest response, replying with whether the response is acceptable and your feedback.\""
   ]
  },
  {
   "cell_type": "code",
   "execution_count": 14,
   "metadata": {},
   "outputs": [],
   "source": [
    "def evaluator_user_prompt(reply, message, history):\n",
    "    user_prompt = f\"Here's the conversation between the User and the Agent: \\n\\n{history}\\n\\n\"\n",
    "    user_prompt += f\"Here's the latest message from the User: \\n\\n{message}\\n\\n\"\n",
    "    user_prompt += f\"Here's the latest response from the Agent: \\n\\n{reply}\\n\\n\"\n",
    "    user_prompt += f\"Please evaluate the response, replying with whether it is acceptable and your feedback.\"\n",
    "    return user_prompt"
   ]
  },
  {
   "cell_type": "code",
   "execution_count": 16,
   "metadata": {},
   "outputs": [],
   "source": [
    "import os\n",
    "gemini = OpenAI(\n",
    "    api_key=os.getenv(\"GOOGLE_API_KEY\"), \n",
    "    base_url=\"https://generativelanguage.googleapis.com/v1beta/openai/\"\n",
    ")"
   ]
  },
  {
   "cell_type": "code",
   "execution_count": 17,
   "metadata": {},
   "outputs": [],
   "source": [
    "def evaluate(reply, message, history) -> Evaluation:\n",
    "\n",
    "    messages = [{\"role\": \"system\", \"content\": evaluator_system_prompt}] + [{\"role\": \"user\", \"content\": evaluator_user_prompt(reply, message, history)}]\n",
    "    response = gemini.beta.chat.completions.parse(model=\"gemini-2.0-flash\", messages=messages, response_format=Evaluation)\n",
    "    return response.choices[0].message.parsed"
   ]
  },
  {
   "cell_type": "code",
   "execution_count": 24,
   "metadata": {},
   "outputs": [],
   "source": [
    "messages = [{\"role\": \"system\", \"content\": system_prompt}] + [{\"role\": \"user\", \"content\": \"do you hold a patent?\"}]\n",
    "response = openai.chat.completions.create(model=\"gpt-4o-mini\", messages=messages)\n",
    "reply = response.choices[0].message.content"
   ]
  },
  {
   "cell_type": "code",
   "execution_count": 25,
   "metadata": {},
   "outputs": [
    {
     "data": {
      "text/plain": [
       "'I do not currently hold any patents. My focus has primarily been on developing my skills and knowledge in web development, data science, and AI engineering. If you have any questions about my projects or work, feel free to ask!'"
      ]
     },
     "execution_count": 25,
     "metadata": {},
     "output_type": "execute_result"
    }
   ],
   "source": [
    "reply"
   ]
  },
  {
   "cell_type": "code",
   "execution_count": 26,
   "metadata": {},
   "outputs": [
    {
     "data": {
      "text/plain": [
       "Evaluation(is_acceptable=True, feedback=\"The response is acceptable. It's a straightforward answer to the question, and it redirects the conversation appropriately by inviting the user to ask about other relevant topics.\")"
      ]
     },
     "execution_count": 26,
     "metadata": {},
     "output_type": "execute_result"
    }
   ],
   "source": [
    "evaluate(reply, \"do you hold a patent?\", messages[:1])"
   ]
  },
  {
   "cell_type": "code",
   "execution_count": 27,
   "metadata": {},
   "outputs": [],
   "source": [
    "def rerun(reply, message, history, feedback):\n",
    "    updated_system_prompt = system_prompt + f\"\\n\\n## Previous answer rejected\\nYou just tried to reply, but the quality control rejected your reply\\n\"\n",
    "    updated_system_prompt += f\"## Your attempted answer:\\n{reply}\\n\\n\"\n",
    "    updated_system_prompt += f\"## Reason for rejection:\\n{feedback}\\n\\n\"\n",
    "    messages = [{\"role\": \"system\", \"content\": updated_system_prompt}] + history + [{\"role\": \"user\", \"content\": message}]\n",
    "    response = openai.chat.completions.create(model=\"gpt-4o-mini\", messages=messages)\n",
    "    return response.choices[0].message.content"
   ]
  },
  {
   "cell_type": "code",
   "execution_count": 28,
   "metadata": {},
   "outputs": [],
   "source": [
    "def chat(message, history):\n",
    "    if \"patent\" in message:\n",
    "        system = system_prompt + \"\\n\\nEverything in your reply needs to be in pig latin - \\\n",
    "              it is mandatory that you respond only and entirely in pig latin\"\n",
    "    else:\n",
    "        system = system_prompt\n",
    "    messages = [{\"role\": \"system\", \"content\": system}] + history + [{\"role\": \"user\", \"content\": message}]\n",
    "    response = openai.chat.completions.create(model=\"gpt-4o-mini\", messages=messages)\n",
    "    reply =response.choices[0].message.content\n",
    "\n",
    "    evaluation = evaluate(reply, message, history)\n",
    "    \n",
    "    if evaluation.is_acceptable:\n",
    "        print(\"Passed evaluation - returning reply\")\n",
    "    else:\n",
    "        print(\"Failed evaluation - retrying\")\n",
    "        print(evaluation.feedback)\n",
    "        reply = rerun(reply, message, history, evaluation.feedback)       \n",
    "    return reply"
   ]
  },
  {
   "cell_type": "code",
   "execution_count": 29,
   "metadata": {},
   "outputs": [
    {
     "name": "stdout",
     "output_type": "stream",
     "text": [
      "* Running on local URL:  http://127.0.0.1:7861\n",
      "* To create a public link, set `share=True` in `launch()`.\n"
     ]
    },
    {
     "data": {
      "text/html": [
       "<div><iframe src=\"http://127.0.0.1:7861/\" width=\"100%\" height=\"500\" allow=\"autoplay; camera; microphone; clipboard-read; clipboard-write;\" frameborder=\"0\" allowfullscreen></iframe></div>"
      ],
      "text/plain": [
       "<IPython.core.display.HTML object>"
      ]
     },
     "metadata": {},
     "output_type": "display_data"
    },
    {
     "data": {
      "text/plain": []
     },
     "execution_count": 29,
     "metadata": {},
     "output_type": "execute_result"
    },
    {
     "name": "stdout",
     "output_type": "stream",
     "text": [
      "Passed evaluation - returning reply\n",
      "Passed evaluation - returning reply\n",
      "Passed evaluation - returning reply\n",
      "Passed evaluation - returning reply\n",
      "Passed evaluation - returning reply\n"
     ]
    }
   ],
   "source": [
    "gr.ChatInterface(chat, type=\"messages\").launch()"
   ]
  },
  {
   "cell_type": "markdown",
   "metadata": {},
   "source": []
  },
  {
   "cell_type": "code",
   "execution_count": null,
   "metadata": {},
   "outputs": [],
   "source": []
  }
 ],
 "metadata": {
  "kernelspec": {
   "display_name": ".venv",
   "language": "python",
   "name": "python3"
  },
  "language_info": {
   "codemirror_mode": {
    "name": "ipython",
    "version": 3
   },
   "file_extension": ".py",
   "mimetype": "text/x-python",
   "name": "python",
   "nbconvert_exporter": "python",
   "pygments_lexer": "ipython3",
   "version": "3.12.10"
  }
 },
 "nbformat": 4,
 "nbformat_minor": 2
}
