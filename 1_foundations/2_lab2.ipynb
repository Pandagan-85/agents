{
 "cells": [
  {
   "cell_type": "markdown",
   "metadata": {},
   "source": [
    "## Welcome to the Second Lab - Week 1, Day 3\n",
    "\n",
    "Today we will work with lots of models! This is a way to get comfortable with APIs."
   ]
  },
  {
   "cell_type": "markdown",
   "metadata": {},
   "source": [
    "<table style=\"margin: 0; text-align: left; width:100%\">\n",
    "    <tr>\n",
    "        <td style=\"width: 150px; height: 150px; vertical-align: middle;\">\n",
    "            <img src=\"../assets/stop.png\" width=\"150\" height=\"150\" style=\"display: block;\" />\n",
    "        </td>\n",
    "        <td>\n",
    "            <h2 style=\"color:#ff7800;\">Important point - please read</h2>\n",
    "            <span style=\"color:#ff7800;\">The way I collaborate with you may be different to other courses you've taken. I prefer not to type code while you watch. Rather, I execute Jupyter Labs, like this, and give you an intuition for what's going on. My suggestion is that you carefully execute this yourself, <b>after</b> watching the lecture. Add print statements to understand what's going on, and then come up with your own variations.<br/><br/>If you have time, I'd love it if you submit a PR for changes in the community_contributions folder - instructions in the resources. Also, if you have a Github account, use this to showcase your variations. Not only is this essential practice, but it demonstrates your skills to others, including perhaps future clients or employers...\n",
    "            </span>\n",
    "        </td>\n",
    "    </tr>\n",
    "</table>"
   ]
  },
  {
   "cell_type": "code",
   "execution_count": 1,
   "metadata": {},
   "outputs": [],
   "source": [
    "# Start with imports - ask ChatGPT to explain any package that you don't know\n",
    "\n",
    "import os\n",
    "import json\n",
    "from dotenv import load_dotenv\n",
    "from openai import OpenAI\n",
    "from anthropic import Anthropic\n",
    "from IPython.display import Markdown, display"
   ]
  },
  {
   "cell_type": "code",
   "execution_count": 11,
   "metadata": {},
   "outputs": [
    {
     "data": {
      "text/plain": [
       "True"
      ]
     },
     "execution_count": 11,
     "metadata": {},
     "output_type": "execute_result"
    }
   ],
   "source": [
    "# Always remember to do this!\n",
    "load_dotenv(override=True)"
   ]
  },
  {
   "cell_type": "code",
   "execution_count": 12,
   "metadata": {},
   "outputs": [
    {
     "name": "stdout",
     "output_type": "stream",
     "text": [
      "OpenAI API Key exists and begins sk-proj-\n",
      "Anthropic API Key not set (and this is optional)\n",
      "Google API Key not set (and this is optional)\n",
      "DeepSeek API Key not set (and this is optional)\n",
      "Groq API Key exists and begins gsk_\n"
     ]
    }
   ],
   "source": [
    "# Print the key prefixes to help with any debugging\n",
    "\n",
    "openai_api_key = os.getenv('OPENAI_API_KEY')\n",
    "anthropic_api_key = os.getenv('ANTHROPIC_API_KEY')\n",
    "google_api_key = os.getenv('GOOGLE_API_KEY')\n",
    "deepseek_api_key = os.getenv('DEEPSEEK_API_KEY')\n",
    "groq_api_key = os.getenv('GROQ_API_KEY')\n",
    "\n",
    "if openai_api_key:\n",
    "    print(f\"OpenAI API Key exists and begins {openai_api_key[:8]}\")\n",
    "else:\n",
    "    print(\"OpenAI API Key not set\")\n",
    "    \n",
    "if anthropic_api_key:\n",
    "    print(f\"Anthropic API Key exists and begins {anthropic_api_key[:7]}\")\n",
    "else:\n",
    "    print(\"Anthropic API Key not set (and this is optional)\")\n",
    "\n",
    "if google_api_key:\n",
    "    print(f\"Google API Key exists and begins {google_api_key[:2]}\")\n",
    "else:\n",
    "    print(\"Google API Key not set (and this is optional)\")\n",
    "\n",
    "if deepseek_api_key:\n",
    "    print(f\"DeepSeek API Key exists and begins {deepseek_api_key[:3]}\")\n",
    "else:\n",
    "    print(\"DeepSeek API Key not set (and this is optional)\")\n",
    "\n",
    "if groq_api_key:\n",
    "    print(f\"Groq API Key exists and begins {groq_api_key[:4]}\")\n",
    "else:\n",
    "    print(\"Groq API Key not set (and this is optional)\")"
   ]
  },
  {
   "cell_type": "code",
   "execution_count": 4,
   "metadata": {},
   "outputs": [],
   "source": [
    "request = \"Please come up with a challenging, nuanced question that I can ask a number of LLMs to evaluate their intelligence. \"\n",
    "request += \"Answer only with the question, no explanation.\"\n",
    "messages = [{\"role\": \"user\", \"content\": request}]"
   ]
  },
  {
   "cell_type": "code",
   "execution_count": 5,
   "metadata": {},
   "outputs": [
    {
     "data": {
      "text/plain": [
       "[{'role': 'user',\n",
       "  'content': 'Please come up with a challenging, nuanced question that I can ask a number of LLMs to evaluate their intelligence. Answer only with the question, no explanation.'}]"
      ]
     },
     "execution_count": 5,
     "metadata": {},
     "output_type": "execute_result"
    }
   ],
   "source": [
    "messages"
   ]
  },
  {
   "cell_type": "code",
   "execution_count": 7,
   "metadata": {},
   "outputs": [
    {
     "name": "stdout",
     "output_type": "stream",
     "text": [
      "How would you define and distinguish between \"intention\" and \"impact\" in the context of ethical decision-making, and can you provide a scenario where these two aspects might lead to conflicting outcomes?\n"
     ]
    }
   ],
   "source": [
    "openai = OpenAI()\n",
    "response = openai.chat.completions.create(\n",
    "    model=\"gpt-4o-mini\",\n",
    "    messages=messages,\n",
    ")\n",
    "question = response.choices[0].message.content\n",
    "print(question)\n"
   ]
  },
  {
   "cell_type": "code",
   "execution_count": 8,
   "metadata": {},
   "outputs": [],
   "source": [
    "competitors = []\n",
    "answers = []\n",
    "messages = [{\"role\": \"user\", \"content\": question}]"
   ]
  },
  {
   "cell_type": "code",
   "execution_count": 9,
   "metadata": {},
   "outputs": [
    {
     "data": {
      "text/markdown": [
       "In the context of ethical decision-making, **\"intention\"** refers to the purpose or motivation behind an action. It reflects the goals or desires of the individual making the decision. **\"Impact,\"** on the other hand, relates to the actual effects or consequences of that action, regardless of the original intention.\n",
       "\n",
       "### Definitions:\n",
       "- **Intention:** What the decision-maker hopes to achieve; the underlying motivation or rationale behind an action.\n",
       "- **Impact:** The tangible effects that result from the action; this could be positive, negative, or neutral and may affect individuals, groups, or broader systems.\n",
       "\n",
       "### Distinction:\n",
       "The key distinction lies in the fact that intention focuses on the subjective aspect of decision-making (what one aims to do) while impact evaluates the objective reality of the actions taken (what actually happens). An individual may have good intentions, but if the outcomes are harmful, the ethical implications can be complex.\n",
       "\n",
       "### Scenario:\n",
       "Consider a manager in a company who decides to implement a new employee monitoring system with the intention of improving productivity and accountability among the staff. The intention is to foster a more efficient workplace environment and to support employees in reaching their performance goals.\n",
       "\n",
       "**Intention:** The manager believes that monitoring will help employees stay on track, ultimately creating a culture of high performance and responsibility.\n",
       "\n",
       "**Impact:** However, the introduction of this monitoring system leads to a significant decline in employee morale and trust. Employees feel surveilled and undervalued, leading to increased stress and anxiety levels, and some even decide to leave the company. The environment becomes less collaborative, and creativity suffers as employees are less willing to share ideas or take risks for fear of being judged or penalized.\n",
       "\n",
       "### Conflict:\n",
       "In this scenario, the manager’s **good intention** to enhance productivity turns into a **negative impact** that erodes trust and satisfaction among employees. The ethical dilemma arises when assessing the decision: is it justified because of the intention behind it or is it criticized due to the adverse impact it caused? This highlights the importance of considering both intention and impact in ethical decision-making, as a well-meaning action may not align with the outcomes it produces."
      ],
      "text/plain": [
       "<IPython.core.display.Markdown object>"
      ]
     },
     "metadata": {},
     "output_type": "display_data"
    }
   ],
   "source": [
    "# The API we know well\n",
    "\n",
    "model_name = \"gpt-4o-mini\"\n",
    "\n",
    "response = openai.chat.completions.create(model=model_name, messages=messages)\n",
    "answer = response.choices[0].message.content\n",
    "\n",
    "display(Markdown(answer))\n",
    "competitors.append(model_name)\n",
    "answers.append(answer)"
   ]
  },
  {
   "cell_type": "code",
   "execution_count": null,
   "metadata": {},
   "outputs": [],
   "source": [
    "# Anthropic has a slightly different API, and Max Tokens is required\n",
    "\n",
    "model_name = \"claude-3-7-sonnet-latest\"\n",
    "\n",
    "claude = Anthropic()\n",
    "response = claude.messages.create(model=model_name, messages=messages, max_tokens=1000)\n",
    "answer = response.content[0].text\n",
    "\n",
    "display(Markdown(answer))\n",
    "competitors.append(model_name)\n",
    "answers.append(answer)"
   ]
  },
  {
   "cell_type": "code",
   "execution_count": null,
   "metadata": {},
   "outputs": [],
   "source": [
    "gemini = OpenAI(api_key=google_api_key, base_url=\"https://generativelanguage.googleapis.com/v1beta/openai/\")\n",
    "model_name = \"gemini-2.0-flash\"\n",
    "\n",
    "response = gemini.chat.completions.create(model=model_name, messages=messages)\n",
    "answer = response.choices[0].message.content\n",
    "\n",
    "display(Markdown(answer))\n",
    "competitors.append(model_name)\n",
    "answers.append(answer)"
   ]
  },
  {
   "cell_type": "code",
   "execution_count": null,
   "metadata": {},
   "outputs": [],
   "source": [
    "deepseek = OpenAI(api_key=deepseek_api_key, base_url=\"https://api.deepseek.com/v1\")\n",
    "model_name = \"deepseek-chat\"\n",
    "\n",
    "response = deepseek.chat.completions.create(model=model_name, messages=messages)\n",
    "answer = response.choices[0].message.content\n",
    "\n",
    "display(Markdown(answer))\n",
    "competitors.append(model_name)\n",
    "answers.append(answer)"
   ]
  },
  {
   "cell_type": "code",
   "execution_count": 13,
   "metadata": {},
   "outputs": [
    {
     "data": {
      "text/markdown": [
       "In the context of ethical decision-making, \"intention\" and \"impact\" are two distinct concepts that play crucial roles in evaluating the morality of an action.\n",
       "\n",
       "**Intention:**\n",
       "Intention refers to the purpose, goal, or motivation behind an action. It is the reason why someone decides to do something, and it reflects their conscious desire to achieve a specific outcome. Intention is often considered a subjective aspect of ethical decision-making, as it is tied to the individual's thoughts, feelings, and values.\n",
       "\n",
       "**Impact:**\n",
       "Impact, on the other hand, refers to the actual consequences or effects of an action. It is the outcome that results from the action, regardless of the intention behind it. Impact can be objective, as it is often measured by observable effects, and it can be evaluated in terms of its benefits, harms, or neutral consequences.\n",
       "\n",
       "To distinguish between intention and impact, consider the following example:\n",
       "\n",
       "Scenario: A doctor prescribes a new, experimental medication to a patient with a life-threatening disease. The doctor's intention is to save the patient's life, as they believe the medication has the potential to cure the disease. However, the medication has not been thoroughly tested, and its long-term effects are unknown.\n",
       "\n",
       "In this scenario:\n",
       "\n",
       "* The doctor's intention is to help the patient, which is a morally justifiable goal.\n",
       "* However, the impact of the doctor's action might be negative, as the medication could have unforeseen and harmful side effects, potentially worsening the patient's condition or even leading to their death.\n",
       "\n",
       "This scenario illustrates a conflict between intention and impact. The doctor's intention is good, but the impact of their action might be bad. This conflict highlights the importance of considering both intention and impact when making ethical decisions.\n",
       "\n",
       "In general, a good intention does not necessarily guarantee a good impact, and a bad impact does not necessarily imply a bad intention. Ethical decision-making requires careful consideration of both aspects, as well as a thorough evaluation of the potential consequences of an action.\n",
       "\n",
       "To navigate such conflicts, decision-makers can use the following principles:\n",
       "\n",
       "1. **Consequentialism**: Consider the potential consequences of an action and choose the option that is likely to produce the best outcome.\n",
       "2. **Deontology**: Evaluate the morality of an action based on its adherence to rules, duties, or principles, regardless of its consequences.\n",
       "3. **Virtue ethics**: Focus on the character and motivations of the decision-maker, considering their intentions and values in relation to the action.\n",
       "\n",
       "By considering both intention and impact, and using these principles as guides, decision-makers can make more informed and ethical choices, even in complex and uncertain situations."
      ],
      "text/plain": [
       "<IPython.core.display.Markdown object>"
      ]
     },
     "metadata": {},
     "output_type": "display_data"
    }
   ],
   "source": [
    "groq = OpenAI(api_key=groq_api_key, base_url=\"https://api.groq.com/openai/v1\")\n",
    "model_name = \"llama-3.3-70b-versatile\"\n",
    "\n",
    "response = groq.chat.completions.create(model=model_name, messages=messages)\n",
    "answer = response.choices[0].message.content\n",
    "\n",
    "display(Markdown(answer))\n",
    "competitors.append(model_name)\n",
    "answers.append(answer)\n"
   ]
  },
  {
   "cell_type": "markdown",
   "metadata": {},
   "source": [
    "## For the next cell, we will use Ollama\n",
    "\n",
    "Ollama runs a local web service that gives an OpenAI compatible endpoint,  \n",
    "and runs models locally using high performance C++ code.\n",
    "\n",
    "If you don't have Ollama, install it here by visiting https://ollama.com then pressing Download and following the instructions.\n",
    "\n",
    "After it's installed, you should be able to visit here: http://localhost:11434 and see the message \"Ollama is running\"\n",
    "\n",
    "You might need to restart Cursor (and maybe reboot). Then open a Terminal (control+\\`) and run `ollama serve`\n",
    "\n",
    "Useful Ollama commands (run these in the terminal, or with an exclamation mark in this notebook):\n",
    "\n",
    "`ollama pull <model_name>` downloads a model locally  \n",
    "`ollama ls` lists all the models you've downloaded  \n",
    "`ollama rm <model_name>` deletes the specified model from your downloads"
   ]
  },
  {
   "cell_type": "markdown",
   "metadata": {},
   "source": [
    "<table style=\"margin: 0; text-align: left; width:100%\">\n",
    "    <tr>\n",
    "        <td style=\"width: 150px; height: 150px; vertical-align: middle;\">\n",
    "            <img src=\"../assets/stop.png\" width=\"150\" height=\"150\" style=\"display: block;\" />\n",
    "        </td>\n",
    "        <td>\n",
    "            <h2 style=\"color:#ff7800;\">Super important - ignore me at your peril!</h2>\n",
    "            <span style=\"color:#ff7800;\">The model called <b>llama3.3</b> is FAR too large for home computers - it's not intended for personal computing and will consume all your resources! Stick with the nicely sized <b>llama3.2</b> or <b>llama3.2:1b</b> and if you want larger, try llama3.1 or smaller variants of Qwen, Gemma, Phi or DeepSeek. See the <A href=\"https://ollama.com/models\">the Ollama models page</a> for a full list of models and sizes.\n",
    "            </span>\n",
    "        </td>\n",
    "    </tr>\n",
    "</table>"
   ]
  },
  {
   "cell_type": "code",
   "execution_count": null,
   "metadata": {},
   "outputs": [],
   "source": [
    "!ollama pull llama3.2"
   ]
  },
  {
   "cell_type": "code",
   "execution_count": 14,
   "metadata": {},
   "outputs": [
    {
     "data": {
      "text/markdown": [
       "In the context of ethical decision-making, intention and impact are two distinct yet interconnected concepts that require careful consideration.\n",
       "\n",
       "**Intention:**\n",
       "\n",
       "Intention refers to the deliberate intent or goal behind an action or decision. It encompasses the motivations, values, and principles that guide an individual's choices. Intention is a subjective aspect of decision-making, personal values-based, and influenced by one's culture, upbringing, and experience. The intention is what drives someone to make a particular choice in the first place.\n",
       "\n",
       "**Impact:**\n",
       "\n",
       "Impact, on the other hand, refers to the actual consequences or outcomes that result from an action or decision. It represents the effects that arise from an individual's choices, often unforeseen, unintended, or unexpected. Impact can be both positive and negative and is rooted in the external world of reality, rather than individual perspectives.\n",
       "\n",
       "To illustrate the distinction between intention and impact:\n",
       "\n",
       "Scenario: Dr. M, a psychologist, decides to use a new therapy method that focuses on exposure-based treatment for anxiety disorders (her intention). Unbeknownst to her, this particular approach may lead to re-traumatization in some patients due to its strict adherence to cognitive-behavioral therapy principles.\n",
       "\n",
       "In this scenario:\n",
       "\n",
       "1. **Intention:** Dr. M's goal is to help her clients overcome their anxieties using the new therapy method.\n",
       "2. **Impact:** Unfortunately, the therapy might have a negative impact on certain patients who experienced traumatic events in the form of re-traumatization due to the strict nature of the approach.\n",
       "\n",
       "Now, if we look at where these two aspects intersect:\n",
       "\n",
       "**Conflict between intention and impact:**\n",
       "\n",
       "When an individual's intention conflicts with the resulting impact, it may create ethical dilemmas or unresolved moral issues. In this scenario, Dr. M might wonder whether her decision was right-handed considering the potential negative effects on her patients. However, she did not act in spite of these consequences rather as a result of her commitment to helping people with anxiety.\n",
       "\n",
       "This is where ethical theories and principles such as utilitarianism or virtue ethics can help us weigh options against each other according to their impact and guide through decision-making toward the ideal actions that align with one's commitments."
      ],
      "text/plain": [
       "<IPython.core.display.Markdown object>"
      ]
     },
     "metadata": {},
     "output_type": "display_data"
    }
   ],
   "source": [
    "ollama = OpenAI(base_url='http://localhost:11434/v1', api_key='ollama')\n",
    "model_name = \"llama3.2\"\n",
    "\n",
    "response = ollama.chat.completions.create(model=model_name, messages=messages)\n",
    "answer = response.choices[0].message.content\n",
    "\n",
    "display(Markdown(answer))\n",
    "competitors.append(model_name)\n",
    "answers.append(answer)"
   ]
  },
  {
   "cell_type": "code",
   "execution_count": 15,
   "metadata": {},
   "outputs": [
    {
     "name": "stdout",
     "output_type": "stream",
     "text": [
      "['gpt-4o-mini', 'llama-3.3-70b-versatile', 'llama3.2']\n",
      "['In the context of ethical decision-making, **\"intention\"** refers to the purpose or motivation behind an action. It reflects the goals or desires of the individual making the decision. **\"Impact,\"** on the other hand, relates to the actual effects or consequences of that action, regardless of the original intention.\\n\\n### Definitions:\\n- **Intention:** What the decision-maker hopes to achieve; the underlying motivation or rationale behind an action.\\n- **Impact:** The tangible effects that result from the action; this could be positive, negative, or neutral and may affect individuals, groups, or broader systems.\\n\\n### Distinction:\\nThe key distinction lies in the fact that intention focuses on the subjective aspect of decision-making (what one aims to do) while impact evaluates the objective reality of the actions taken (what actually happens). An individual may have good intentions, but if the outcomes are harmful, the ethical implications can be complex.\\n\\n### Scenario:\\nConsider a manager in a company who decides to implement a new employee monitoring system with the intention of improving productivity and accountability among the staff. The intention is to foster a more efficient workplace environment and to support employees in reaching their performance goals.\\n\\n**Intention:** The manager believes that monitoring will help employees stay on track, ultimately creating a culture of high performance and responsibility.\\n\\n**Impact:** However, the introduction of this monitoring system leads to a significant decline in employee morale and trust. Employees feel surveilled and undervalued, leading to increased stress and anxiety levels, and some even decide to leave the company. The environment becomes less collaborative, and creativity suffers as employees are less willing to share ideas or take risks for fear of being judged or penalized.\\n\\n### Conflict:\\nIn this scenario, the manager’s **good intention** to enhance productivity turns into a **negative impact** that erodes trust and satisfaction among employees. The ethical dilemma arises when assessing the decision: is it justified because of the intention behind it or is it criticized due to the adverse impact it caused? This highlights the importance of considering both intention and impact in ethical decision-making, as a well-meaning action may not align with the outcomes it produces.', 'In the context of ethical decision-making, \"intention\" and \"impact\" are two distinct concepts that play crucial roles in evaluating the morality of an action.\\n\\n**Intention:**\\nIntention refers to the purpose, goal, or motivation behind an action. It is the reason why someone decides to do something, and it reflects their conscious desire to achieve a specific outcome. Intention is often considered a subjective aspect of ethical decision-making, as it is tied to the individual\\'s thoughts, feelings, and values.\\n\\n**Impact:**\\nImpact, on the other hand, refers to the actual consequences or effects of an action. It is the outcome that results from the action, regardless of the intention behind it. Impact can be objective, as it is often measured by observable effects, and it can be evaluated in terms of its benefits, harms, or neutral consequences.\\n\\nTo distinguish between intention and impact, consider the following example:\\n\\nScenario: A doctor prescribes a new, experimental medication to a patient with a life-threatening disease. The doctor\\'s intention is to save the patient\\'s life, as they believe the medication has the potential to cure the disease. However, the medication has not been thoroughly tested, and its long-term effects are unknown.\\n\\nIn this scenario:\\n\\n* The doctor\\'s intention is to help the patient, which is a morally justifiable goal.\\n* However, the impact of the doctor\\'s action might be negative, as the medication could have unforeseen and harmful side effects, potentially worsening the patient\\'s condition or even leading to their death.\\n\\nThis scenario illustrates a conflict between intention and impact. The doctor\\'s intention is good, but the impact of their action might be bad. This conflict highlights the importance of considering both intention and impact when making ethical decisions.\\n\\nIn general, a good intention does not necessarily guarantee a good impact, and a bad impact does not necessarily imply a bad intention. Ethical decision-making requires careful consideration of both aspects, as well as a thorough evaluation of the potential consequences of an action.\\n\\nTo navigate such conflicts, decision-makers can use the following principles:\\n\\n1. **Consequentialism**: Consider the potential consequences of an action and choose the option that is likely to produce the best outcome.\\n2. **Deontology**: Evaluate the morality of an action based on its adherence to rules, duties, or principles, regardless of its consequences.\\n3. **Virtue ethics**: Focus on the character and motivations of the decision-maker, considering their intentions and values in relation to the action.\\n\\nBy considering both intention and impact, and using these principles as guides, decision-makers can make more informed and ethical choices, even in complex and uncertain situations.', \"In the context of ethical decision-making, intention and impact are two distinct yet interconnected concepts that require careful consideration.\\n\\n**Intention:**\\n\\nIntention refers to the deliberate intent or goal behind an action or decision. It encompasses the motivations, values, and principles that guide an individual's choices. Intention is a subjective aspect of decision-making, personal values-based, and influenced by one's culture, upbringing, and experience. The intention is what drives someone to make a particular choice in the first place.\\n\\n**Impact:**\\n\\nImpact, on the other hand, refers to the actual consequences or outcomes that result from an action or decision. It represents the effects that arise from an individual's choices, often unforeseen, unintended, or unexpected. Impact can be both positive and negative and is rooted in the external world of reality, rather than individual perspectives.\\n\\nTo illustrate the distinction between intention and impact:\\n\\nScenario: Dr. M, a psychologist, decides to use a new therapy method that focuses on exposure-based treatment for anxiety disorders (her intention). Unbeknownst to her, this particular approach may lead to re-traumatization in some patients due to its strict adherence to cognitive-behavioral therapy principles.\\n\\nIn this scenario:\\n\\n1. **Intention:** Dr. M's goal is to help her clients overcome their anxieties using the new therapy method.\\n2. **Impact:** Unfortunately, the therapy might have a negative impact on certain patients who experienced traumatic events in the form of re-traumatization due to the strict nature of the approach.\\n\\nNow, if we look at where these two aspects intersect:\\n\\n**Conflict between intention and impact:**\\n\\nWhen an individual's intention conflicts with the resulting impact, it may create ethical dilemmas or unresolved moral issues. In this scenario, Dr. M might wonder whether her decision was right-handed considering the potential negative effects on her patients. However, she did not act in spite of these consequences rather as a result of her commitment to helping people with anxiety.\\n\\nThis is where ethical theories and principles such as utilitarianism or virtue ethics can help us weigh options against each other according to their impact and guide through decision-making toward the ideal actions that align with one's commitments.\"]\n"
     ]
    }
   ],
   "source": [
    "# So where are we?\n",
    "\n",
    "print(competitors)\n",
    "print(answers)\n"
   ]
  },
  {
   "cell_type": "code",
   "execution_count": 16,
   "metadata": {},
   "outputs": [
    {
     "name": "stdout",
     "output_type": "stream",
     "text": [
      "Competitor: gpt-4o-mini\n",
      "\n",
      "In the context of ethical decision-making, **\"intention\"** refers to the purpose or motivation behind an action. It reflects the goals or desires of the individual making the decision. **\"Impact,\"** on the other hand, relates to the actual effects or consequences of that action, regardless of the original intention.\n",
      "\n",
      "### Definitions:\n",
      "- **Intention:** What the decision-maker hopes to achieve; the underlying motivation or rationale behind an action.\n",
      "- **Impact:** The tangible effects that result from the action; this could be positive, negative, or neutral and may affect individuals, groups, or broader systems.\n",
      "\n",
      "### Distinction:\n",
      "The key distinction lies in the fact that intention focuses on the subjective aspect of decision-making (what one aims to do) while impact evaluates the objective reality of the actions taken (what actually happens). An individual may have good intentions, but if the outcomes are harmful, the ethical implications can be complex.\n",
      "\n",
      "### Scenario:\n",
      "Consider a manager in a company who decides to implement a new employee monitoring system with the intention of improving productivity and accountability among the staff. The intention is to foster a more efficient workplace environment and to support employees in reaching their performance goals.\n",
      "\n",
      "**Intention:** The manager believes that monitoring will help employees stay on track, ultimately creating a culture of high performance and responsibility.\n",
      "\n",
      "**Impact:** However, the introduction of this monitoring system leads to a significant decline in employee morale and trust. Employees feel surveilled and undervalued, leading to increased stress and anxiety levels, and some even decide to leave the company. The environment becomes less collaborative, and creativity suffers as employees are less willing to share ideas or take risks for fear of being judged or penalized.\n",
      "\n",
      "### Conflict:\n",
      "In this scenario, the manager’s **good intention** to enhance productivity turns into a **negative impact** that erodes trust and satisfaction among employees. The ethical dilemma arises when assessing the decision: is it justified because of the intention behind it or is it criticized due to the adverse impact it caused? This highlights the importance of considering both intention and impact in ethical decision-making, as a well-meaning action may not align with the outcomes it produces.\n",
      "Competitor: llama-3.3-70b-versatile\n",
      "\n",
      "In the context of ethical decision-making, \"intention\" and \"impact\" are two distinct concepts that play crucial roles in evaluating the morality of an action.\n",
      "\n",
      "**Intention:**\n",
      "Intention refers to the purpose, goal, or motivation behind an action. It is the reason why someone decides to do something, and it reflects their conscious desire to achieve a specific outcome. Intention is often considered a subjective aspect of ethical decision-making, as it is tied to the individual's thoughts, feelings, and values.\n",
      "\n",
      "**Impact:**\n",
      "Impact, on the other hand, refers to the actual consequences or effects of an action. It is the outcome that results from the action, regardless of the intention behind it. Impact can be objective, as it is often measured by observable effects, and it can be evaluated in terms of its benefits, harms, or neutral consequences.\n",
      "\n",
      "To distinguish between intention and impact, consider the following example:\n",
      "\n",
      "Scenario: A doctor prescribes a new, experimental medication to a patient with a life-threatening disease. The doctor's intention is to save the patient's life, as they believe the medication has the potential to cure the disease. However, the medication has not been thoroughly tested, and its long-term effects are unknown.\n",
      "\n",
      "In this scenario:\n",
      "\n",
      "* The doctor's intention is to help the patient, which is a morally justifiable goal.\n",
      "* However, the impact of the doctor's action might be negative, as the medication could have unforeseen and harmful side effects, potentially worsening the patient's condition or even leading to their death.\n",
      "\n",
      "This scenario illustrates a conflict between intention and impact. The doctor's intention is good, but the impact of their action might be bad. This conflict highlights the importance of considering both intention and impact when making ethical decisions.\n",
      "\n",
      "In general, a good intention does not necessarily guarantee a good impact, and a bad impact does not necessarily imply a bad intention. Ethical decision-making requires careful consideration of both aspects, as well as a thorough evaluation of the potential consequences of an action.\n",
      "\n",
      "To navigate such conflicts, decision-makers can use the following principles:\n",
      "\n",
      "1. **Consequentialism**: Consider the potential consequences of an action and choose the option that is likely to produce the best outcome.\n",
      "2. **Deontology**: Evaluate the morality of an action based on its adherence to rules, duties, or principles, regardless of its consequences.\n",
      "3. **Virtue ethics**: Focus on the character and motivations of the decision-maker, considering their intentions and values in relation to the action.\n",
      "\n",
      "By considering both intention and impact, and using these principles as guides, decision-makers can make more informed and ethical choices, even in complex and uncertain situations.\n",
      "Competitor: llama3.2\n",
      "\n",
      "In the context of ethical decision-making, intention and impact are two distinct yet interconnected concepts that require careful consideration.\n",
      "\n",
      "**Intention:**\n",
      "\n",
      "Intention refers to the deliberate intent or goal behind an action or decision. It encompasses the motivations, values, and principles that guide an individual's choices. Intention is a subjective aspect of decision-making, personal values-based, and influenced by one's culture, upbringing, and experience. The intention is what drives someone to make a particular choice in the first place.\n",
      "\n",
      "**Impact:**\n",
      "\n",
      "Impact, on the other hand, refers to the actual consequences or outcomes that result from an action or decision. It represents the effects that arise from an individual's choices, often unforeseen, unintended, or unexpected. Impact can be both positive and negative and is rooted in the external world of reality, rather than individual perspectives.\n",
      "\n",
      "To illustrate the distinction between intention and impact:\n",
      "\n",
      "Scenario: Dr. M, a psychologist, decides to use a new therapy method that focuses on exposure-based treatment for anxiety disorders (her intention). Unbeknownst to her, this particular approach may lead to re-traumatization in some patients due to its strict adherence to cognitive-behavioral therapy principles.\n",
      "\n",
      "In this scenario:\n",
      "\n",
      "1. **Intention:** Dr. M's goal is to help her clients overcome their anxieties using the new therapy method.\n",
      "2. **Impact:** Unfortunately, the therapy might have a negative impact on certain patients who experienced traumatic events in the form of re-traumatization due to the strict nature of the approach.\n",
      "\n",
      "Now, if we look at where these two aspects intersect:\n",
      "\n",
      "**Conflict between intention and impact:**\n",
      "\n",
      "When an individual's intention conflicts with the resulting impact, it may create ethical dilemmas or unresolved moral issues. In this scenario, Dr. M might wonder whether her decision was right-handed considering the potential negative effects on her patients. However, she did not act in spite of these consequences rather as a result of her commitment to helping people with anxiety.\n",
      "\n",
      "This is where ethical theories and principles such as utilitarianism or virtue ethics can help us weigh options against each other according to their impact and guide through decision-making toward the ideal actions that align with one's commitments.\n"
     ]
    }
   ],
   "source": [
    "# It's nice to know how to use \"zip\"\n",
    "for competitor, answer in zip(competitors, answers):\n",
    "    print(f\"Competitor: {competitor}\\n\\n{answer}\")\n"
   ]
  },
  {
   "cell_type": "code",
   "execution_count": 17,
   "metadata": {},
   "outputs": [],
   "source": [
    "# Let's bring this together - note the use of \"enumerate\"\n",
    "\n",
    "together = \"\"\n",
    "for index, answer in enumerate(answers):\n",
    "    together += f\"# Response from competitor {index+1}\\n\\n\"\n",
    "    together += answer + \"\\n\\n\""
   ]
  },
  {
   "cell_type": "code",
   "execution_count": 18,
   "metadata": {},
   "outputs": [
    {
     "name": "stdout",
     "output_type": "stream",
     "text": [
      "# Response from competitor 1\n",
      "\n",
      "In the context of ethical decision-making, **\"intention\"** refers to the purpose or motivation behind an action. It reflects the goals or desires of the individual making the decision. **\"Impact,\"** on the other hand, relates to the actual effects or consequences of that action, regardless of the original intention.\n",
      "\n",
      "### Definitions:\n",
      "- **Intention:** What the decision-maker hopes to achieve; the underlying motivation or rationale behind an action.\n",
      "- **Impact:** The tangible effects that result from the action; this could be positive, negative, or neutral and may affect individuals, groups, or broader systems.\n",
      "\n",
      "### Distinction:\n",
      "The key distinction lies in the fact that intention focuses on the subjective aspect of decision-making (what one aims to do) while impact evaluates the objective reality of the actions taken (what actually happens). An individual may have good intentions, but if the outcomes are harmful, the ethical implications can be complex.\n",
      "\n",
      "### Scenario:\n",
      "Consider a manager in a company who decides to implement a new employee monitoring system with the intention of improving productivity and accountability among the staff. The intention is to foster a more efficient workplace environment and to support employees in reaching their performance goals.\n",
      "\n",
      "**Intention:** The manager believes that monitoring will help employees stay on track, ultimately creating a culture of high performance and responsibility.\n",
      "\n",
      "**Impact:** However, the introduction of this monitoring system leads to a significant decline in employee morale and trust. Employees feel surveilled and undervalued, leading to increased stress and anxiety levels, and some even decide to leave the company. The environment becomes less collaborative, and creativity suffers as employees are less willing to share ideas or take risks for fear of being judged or penalized.\n",
      "\n",
      "### Conflict:\n",
      "In this scenario, the manager’s **good intention** to enhance productivity turns into a **negative impact** that erodes trust and satisfaction among employees. The ethical dilemma arises when assessing the decision: is it justified because of the intention behind it or is it criticized due to the adverse impact it caused? This highlights the importance of considering both intention and impact in ethical decision-making, as a well-meaning action may not align with the outcomes it produces.\n",
      "\n",
      "# Response from competitor 2\n",
      "\n",
      "In the context of ethical decision-making, \"intention\" and \"impact\" are two distinct concepts that play crucial roles in evaluating the morality of an action.\n",
      "\n",
      "**Intention:**\n",
      "Intention refers to the purpose, goal, or motivation behind an action. It is the reason why someone decides to do something, and it reflects their conscious desire to achieve a specific outcome. Intention is often considered a subjective aspect of ethical decision-making, as it is tied to the individual's thoughts, feelings, and values.\n",
      "\n",
      "**Impact:**\n",
      "Impact, on the other hand, refers to the actual consequences or effects of an action. It is the outcome that results from the action, regardless of the intention behind it. Impact can be objective, as it is often measured by observable effects, and it can be evaluated in terms of its benefits, harms, or neutral consequences.\n",
      "\n",
      "To distinguish between intention and impact, consider the following example:\n",
      "\n",
      "Scenario: A doctor prescribes a new, experimental medication to a patient with a life-threatening disease. The doctor's intention is to save the patient's life, as they believe the medication has the potential to cure the disease. However, the medication has not been thoroughly tested, and its long-term effects are unknown.\n",
      "\n",
      "In this scenario:\n",
      "\n",
      "* The doctor's intention is to help the patient, which is a morally justifiable goal.\n",
      "* However, the impact of the doctor's action might be negative, as the medication could have unforeseen and harmful side effects, potentially worsening the patient's condition or even leading to their death.\n",
      "\n",
      "This scenario illustrates a conflict between intention and impact. The doctor's intention is good, but the impact of their action might be bad. This conflict highlights the importance of considering both intention and impact when making ethical decisions.\n",
      "\n",
      "In general, a good intention does not necessarily guarantee a good impact, and a bad impact does not necessarily imply a bad intention. Ethical decision-making requires careful consideration of both aspects, as well as a thorough evaluation of the potential consequences of an action.\n",
      "\n",
      "To navigate such conflicts, decision-makers can use the following principles:\n",
      "\n",
      "1. **Consequentialism**: Consider the potential consequences of an action and choose the option that is likely to produce the best outcome.\n",
      "2. **Deontology**: Evaluate the morality of an action based on its adherence to rules, duties, or principles, regardless of its consequences.\n",
      "3. **Virtue ethics**: Focus on the character and motivations of the decision-maker, considering their intentions and values in relation to the action.\n",
      "\n",
      "By considering both intention and impact, and using these principles as guides, decision-makers can make more informed and ethical choices, even in complex and uncertain situations.\n",
      "\n",
      "# Response from competitor 3\n",
      "\n",
      "In the context of ethical decision-making, intention and impact are two distinct yet interconnected concepts that require careful consideration.\n",
      "\n",
      "**Intention:**\n",
      "\n",
      "Intention refers to the deliberate intent or goal behind an action or decision. It encompasses the motivations, values, and principles that guide an individual's choices. Intention is a subjective aspect of decision-making, personal values-based, and influenced by one's culture, upbringing, and experience. The intention is what drives someone to make a particular choice in the first place.\n",
      "\n",
      "**Impact:**\n",
      "\n",
      "Impact, on the other hand, refers to the actual consequences or outcomes that result from an action or decision. It represents the effects that arise from an individual's choices, often unforeseen, unintended, or unexpected. Impact can be both positive and negative and is rooted in the external world of reality, rather than individual perspectives.\n",
      "\n",
      "To illustrate the distinction between intention and impact:\n",
      "\n",
      "Scenario: Dr. M, a psychologist, decides to use a new therapy method that focuses on exposure-based treatment for anxiety disorders (her intention). Unbeknownst to her, this particular approach may lead to re-traumatization in some patients due to its strict adherence to cognitive-behavioral therapy principles.\n",
      "\n",
      "In this scenario:\n",
      "\n",
      "1. **Intention:** Dr. M's goal is to help her clients overcome their anxieties using the new therapy method.\n",
      "2. **Impact:** Unfortunately, the therapy might have a negative impact on certain patients who experienced traumatic events in the form of re-traumatization due to the strict nature of the approach.\n",
      "\n",
      "Now, if we look at where these two aspects intersect:\n",
      "\n",
      "**Conflict between intention and impact:**\n",
      "\n",
      "When an individual's intention conflicts with the resulting impact, it may create ethical dilemmas or unresolved moral issues. In this scenario, Dr. M might wonder whether her decision was right-handed considering the potential negative effects on her patients. However, she did not act in spite of these consequences rather as a result of her commitment to helping people with anxiety.\n",
      "\n",
      "This is where ethical theories and principles such as utilitarianism or virtue ethics can help us weigh options against each other according to their impact and guide through decision-making toward the ideal actions that align with one's commitments.\n",
      "\n",
      "\n"
     ]
    }
   ],
   "source": [
    "print(together)"
   ]
  },
  {
   "cell_type": "code",
   "execution_count": 19,
   "metadata": {},
   "outputs": [],
   "source": [
    "judge = f\"\"\"You are judging a competition between {len(competitors)} competitors.\n",
    "Each model has been given this question:\n",
    "\n",
    "{question}\n",
    "\n",
    "Your job is to evaluate each response for clarity and strength of argument, and rank them in order of best to worst.\n",
    "Respond with JSON, and only JSON, with the following format:\n",
    "{{\"results\": [\"best competitor number\", \"second best competitor number\", \"third best competitor number\", ...]}}\n",
    "\n",
    "Here are the responses from each competitor:\n",
    "\n",
    "{together}\n",
    "\n",
    "Now respond with the JSON with the ranked order of the competitors, nothing else. Do not include markdown formatting or code blocks.\"\"\"\n"
   ]
  },
  {
   "cell_type": "code",
   "execution_count": 20,
   "metadata": {},
   "outputs": [
    {
     "name": "stdout",
     "output_type": "stream",
     "text": [
      "You are judging a competition between 3 competitors.\n",
      "Each model has been given this question:\n",
      "\n",
      "How would you define and distinguish between \"intention\" and \"impact\" in the context of ethical decision-making, and can you provide a scenario where these two aspects might lead to conflicting outcomes?\n",
      "\n",
      "Your job is to evaluate each response for clarity and strength of argument, and rank them in order of best to worst.\n",
      "Respond with JSON, and only JSON, with the following format:\n",
      "{\"results\": [\"best competitor number\", \"second best competitor number\", \"third best competitor number\", ...]}\n",
      "\n",
      "Here are the responses from each competitor:\n",
      "\n",
      "# Response from competitor 1\n",
      "\n",
      "In the context of ethical decision-making, **\"intention\"** refers to the purpose or motivation behind an action. It reflects the goals or desires of the individual making the decision. **\"Impact,\"** on the other hand, relates to the actual effects or consequences of that action, regardless of the original intention.\n",
      "\n",
      "### Definitions:\n",
      "- **Intention:** What the decision-maker hopes to achieve; the underlying motivation or rationale behind an action.\n",
      "- **Impact:** The tangible effects that result from the action; this could be positive, negative, or neutral and may affect individuals, groups, or broader systems.\n",
      "\n",
      "### Distinction:\n",
      "The key distinction lies in the fact that intention focuses on the subjective aspect of decision-making (what one aims to do) while impact evaluates the objective reality of the actions taken (what actually happens). An individual may have good intentions, but if the outcomes are harmful, the ethical implications can be complex.\n",
      "\n",
      "### Scenario:\n",
      "Consider a manager in a company who decides to implement a new employee monitoring system with the intention of improving productivity and accountability among the staff. The intention is to foster a more efficient workplace environment and to support employees in reaching their performance goals.\n",
      "\n",
      "**Intention:** The manager believes that monitoring will help employees stay on track, ultimately creating a culture of high performance and responsibility.\n",
      "\n",
      "**Impact:** However, the introduction of this monitoring system leads to a significant decline in employee morale and trust. Employees feel surveilled and undervalued, leading to increased stress and anxiety levels, and some even decide to leave the company. The environment becomes less collaborative, and creativity suffers as employees are less willing to share ideas or take risks for fear of being judged or penalized.\n",
      "\n",
      "### Conflict:\n",
      "In this scenario, the manager’s **good intention** to enhance productivity turns into a **negative impact** that erodes trust and satisfaction among employees. The ethical dilemma arises when assessing the decision: is it justified because of the intention behind it or is it criticized due to the adverse impact it caused? This highlights the importance of considering both intention and impact in ethical decision-making, as a well-meaning action may not align with the outcomes it produces.\n",
      "\n",
      "# Response from competitor 2\n",
      "\n",
      "In the context of ethical decision-making, \"intention\" and \"impact\" are two distinct concepts that play crucial roles in evaluating the morality of an action.\n",
      "\n",
      "**Intention:**\n",
      "Intention refers to the purpose, goal, or motivation behind an action. It is the reason why someone decides to do something, and it reflects their conscious desire to achieve a specific outcome. Intention is often considered a subjective aspect of ethical decision-making, as it is tied to the individual's thoughts, feelings, and values.\n",
      "\n",
      "**Impact:**\n",
      "Impact, on the other hand, refers to the actual consequences or effects of an action. It is the outcome that results from the action, regardless of the intention behind it. Impact can be objective, as it is often measured by observable effects, and it can be evaluated in terms of its benefits, harms, or neutral consequences.\n",
      "\n",
      "To distinguish between intention and impact, consider the following example:\n",
      "\n",
      "Scenario: A doctor prescribes a new, experimental medication to a patient with a life-threatening disease. The doctor's intention is to save the patient's life, as they believe the medication has the potential to cure the disease. However, the medication has not been thoroughly tested, and its long-term effects are unknown.\n",
      "\n",
      "In this scenario:\n",
      "\n",
      "* The doctor's intention is to help the patient, which is a morally justifiable goal.\n",
      "* However, the impact of the doctor's action might be negative, as the medication could have unforeseen and harmful side effects, potentially worsening the patient's condition or even leading to their death.\n",
      "\n",
      "This scenario illustrates a conflict between intention and impact. The doctor's intention is good, but the impact of their action might be bad. This conflict highlights the importance of considering both intention and impact when making ethical decisions.\n",
      "\n",
      "In general, a good intention does not necessarily guarantee a good impact, and a bad impact does not necessarily imply a bad intention. Ethical decision-making requires careful consideration of both aspects, as well as a thorough evaluation of the potential consequences of an action.\n",
      "\n",
      "To navigate such conflicts, decision-makers can use the following principles:\n",
      "\n",
      "1. **Consequentialism**: Consider the potential consequences of an action and choose the option that is likely to produce the best outcome.\n",
      "2. **Deontology**: Evaluate the morality of an action based on its adherence to rules, duties, or principles, regardless of its consequences.\n",
      "3. **Virtue ethics**: Focus on the character and motivations of the decision-maker, considering their intentions and values in relation to the action.\n",
      "\n",
      "By considering both intention and impact, and using these principles as guides, decision-makers can make more informed and ethical choices, even in complex and uncertain situations.\n",
      "\n",
      "# Response from competitor 3\n",
      "\n",
      "In the context of ethical decision-making, intention and impact are two distinct yet interconnected concepts that require careful consideration.\n",
      "\n",
      "**Intention:**\n",
      "\n",
      "Intention refers to the deliberate intent or goal behind an action or decision. It encompasses the motivations, values, and principles that guide an individual's choices. Intention is a subjective aspect of decision-making, personal values-based, and influenced by one's culture, upbringing, and experience. The intention is what drives someone to make a particular choice in the first place.\n",
      "\n",
      "**Impact:**\n",
      "\n",
      "Impact, on the other hand, refers to the actual consequences or outcomes that result from an action or decision. It represents the effects that arise from an individual's choices, often unforeseen, unintended, or unexpected. Impact can be both positive and negative and is rooted in the external world of reality, rather than individual perspectives.\n",
      "\n",
      "To illustrate the distinction between intention and impact:\n",
      "\n",
      "Scenario: Dr. M, a psychologist, decides to use a new therapy method that focuses on exposure-based treatment for anxiety disorders (her intention). Unbeknownst to her, this particular approach may lead to re-traumatization in some patients due to its strict adherence to cognitive-behavioral therapy principles.\n",
      "\n",
      "In this scenario:\n",
      "\n",
      "1. **Intention:** Dr. M's goal is to help her clients overcome their anxieties using the new therapy method.\n",
      "2. **Impact:** Unfortunately, the therapy might have a negative impact on certain patients who experienced traumatic events in the form of re-traumatization due to the strict nature of the approach.\n",
      "\n",
      "Now, if we look at where these two aspects intersect:\n",
      "\n",
      "**Conflict between intention and impact:**\n",
      "\n",
      "When an individual's intention conflicts with the resulting impact, it may create ethical dilemmas or unresolved moral issues. In this scenario, Dr. M might wonder whether her decision was right-handed considering the potential negative effects on her patients. However, she did not act in spite of these consequences rather as a result of her commitment to helping people with anxiety.\n",
      "\n",
      "This is where ethical theories and principles such as utilitarianism or virtue ethics can help us weigh options against each other according to their impact and guide through decision-making toward the ideal actions that align with one's commitments.\n",
      "\n",
      "\n",
      "\n",
      "Now respond with the JSON with the ranked order of the competitors, nothing else. Do not include markdown formatting or code blocks.\n"
     ]
    }
   ],
   "source": [
    "print(judge)"
   ]
  },
  {
   "cell_type": "code",
   "execution_count": 21,
   "metadata": {},
   "outputs": [],
   "source": [
    "judge_messages = [{\"role\": \"user\", \"content\": judge}]"
   ]
  },
  {
   "cell_type": "code",
   "execution_count": 22,
   "metadata": {},
   "outputs": [
    {
     "name": "stdout",
     "output_type": "stream",
     "text": [
      "{\"results\": [\"1\", \"2\", \"3\"]}\n"
     ]
    }
   ],
   "source": [
    "# Judgement time!\n",
    "\n",
    "openai = OpenAI()\n",
    "response = openai.chat.completions.create(\n",
    "    model=\"o3-mini\",\n",
    "    messages=judge_messages,\n",
    ")\n",
    "results = response.choices[0].message.content\n",
    "print(results)\n"
   ]
  },
  {
   "cell_type": "code",
   "execution_count": 23,
   "metadata": {},
   "outputs": [
    {
     "name": "stdout",
     "output_type": "stream",
     "text": [
      "Rank 1: gpt-4o-mini\n",
      "Rank 2: llama-3.3-70b-versatile\n",
      "Rank 3: llama3.2\n"
     ]
    }
   ],
   "source": [
    "# OK let's turn this into results!\n",
    "\n",
    "results_dict = json.loads(results)\n",
    "ranks = results_dict[\"results\"]\n",
    "for index, result in enumerate(ranks):\n",
    "    competitor = competitors[int(result)-1]\n",
    "    print(f\"Rank {index+1}: {competitor}\")"
   ]
  },
  {
   "cell_type": "markdown",
   "metadata": {},
   "source": [
    "<table style=\"margin: 0; text-align: left; width:100%\">\n",
    "    <tr>\n",
    "        <td style=\"width: 150px; height: 150px; vertical-align: middle;\">\n",
    "            <img src=\"../assets/exercise.png\" width=\"150\" height=\"150\" style=\"display: block;\" />\n",
    "        </td>\n",
    "        <td>\n",
    "            <h2 style=\"color:#ff7800;\">Exercise</h2>\n",
    "            <span style=\"color:#ff7800;\">Which pattern(s) did this use? Try updating this to add another Agentic design pattern.\n",
    "            </span>\n",
    "        </td>\n",
    "    </tr>\n",
    "</table>"
   ]
  },
  {
   "cell_type": "markdown",
   "metadata": {},
   "source": [
    "<table style=\"margin: 0; text-align: left; width:100%\">\n",
    "    <tr>\n",
    "        <td style=\"width: 150px; height: 150px; vertical-align: middle;\">\n",
    "            <img src=\"../assets/business.png\" width=\"150\" height=\"150\" style=\"display: block;\" />\n",
    "        </td>\n",
    "        <td>\n",
    "            <h2 style=\"color:#00bfff;\">Commercial implications</h2>\n",
    "            <span style=\"color:#00bfff;\">These kinds of patterns - to send a task to multiple models, and evaluate results,\n",
    "            are common where you need to improve the quality of your LLM response. This approach can be universally applied\n",
    "            to business projects where accuracy is critical.\n",
    "            </span>\n",
    "        </td>\n",
    "    </tr>\n",
    "</table>"
   ]
  }
 ],
 "metadata": {
  "kernelspec": {
   "display_name": ".venv",
   "language": "python",
   "name": "python3"
  },
  "language_info": {
   "codemirror_mode": {
    "name": "ipython",
    "version": 3
   },
   "file_extension": ".py",
   "mimetype": "text/x-python",
   "name": "python",
   "nbconvert_exporter": "python",
   "pygments_lexer": "ipython3",
   "version": "3.12.10"
  }
 },
 "nbformat": 4,
 "nbformat_minor": 2
}
