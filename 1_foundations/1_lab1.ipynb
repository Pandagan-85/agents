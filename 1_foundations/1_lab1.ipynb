{
 "cells": [
  {
   "cell_type": "markdown",
   "metadata": {},
   "source": [
    "# Welcome to the start of your adventure in Agentic AI"
   ]
  },
  {
   "cell_type": "markdown",
   "metadata": {},
   "source": [
    "<table style=\"margin: 0; text-align: left; width:100%\">\n",
    "    <tr>\n",
    "        <td style=\"width: 150px; height: 150px; vertical-align: middle;\">\n",
    "            <img src=\"../assets/stop.png\" width=\"150\" height=\"150\" style=\"display: block;\" />\n",
    "        </td>\n",
    "        <td>\n",
    "            <h2 style=\"color:#ff7800;\">Are you ready for action??</h2>\n",
    "            <span style=\"color:#ff7800;\">Have you completed all the setup steps in the <a href=\"../setup/\">setup</a> folder?<br/>\n",
    "            Have you checked out the guides in the <a href=\"../guides/01_intro.ipynb\">guides</a> folder?<br/>\n",
    "            Well in that case, you're ready!!\n",
    "            </span>\n",
    "        </td>\n",
    "    </tr>\n",
    "</table>"
   ]
  },
  {
   "cell_type": "markdown",
   "metadata": {},
   "source": [
    "<table style=\"margin: 0; text-align: left; width:100%\">\n",
    "    <tr>\n",
    "        <td style=\"width: 150px; height: 150px; vertical-align: middle;\">\n",
    "            <img src=\"../assets/tools.png\" width=\"150\" height=\"150\" style=\"display: block;\" />\n",
    "        </td>\n",
    "        <td>\n",
    "            <h2 style=\"color:#00bfff;\">This code is a live resource - keep an eye out for my updates</h2>\n",
    "            <span style=\"color:#00bfff;\">I push updates regularly. As people ask questions or have problems, I add more examples and improve explanations. As a result, the code below might not be identical to the videos, as I've added more steps and better comments. Consider this like an interactive book that accompanies the lectures.<br/><br/>\n",
    "            I try to send emails regularly with important updates related to the course. You can find this in the 'Announcements' section of Udemy in the left sidebar. You can also choose to receive my emails via your Notification Settings in Udemy. I'm respectful of your inbox and always try to add value with my emails!\n",
    "            </span>\n",
    "        </td>\n",
    "    </tr>\n",
    "</table>"
   ]
  },
  {
   "cell_type": "markdown",
   "metadata": {},
   "source": [
    "### And please do remember to contact me if I can help\n",
    "\n",
    "And I love to connect: https://www.linkedin.com/in/eddonner/\n",
    "\n",
    "\n",
    "### New to Notebooks like this one? Head over to the guides folder!\n",
    "\n",
    "Just to check you've already added the Python and Jupyter extensions to Cursor, if not already installed:\n",
    "- Open extensions (View >> extensions)\n",
    "- Search for python, and when the results show, click on the ms-python one, and Install it if not already installed\n",
    "- Search for jupyter, and when the results show, click on the Microsoft one, and Install it if not already installed  \n",
    "Then View >> Explorer to bring back the File Explorer.\n",
    "\n",
    "And then:\n",
    "1. Click where it says \"Select Kernel\" near the top right, and select the option called `.venv (Python 3.12.9)` or similar, which should be the first choice or the most prominent choice. You may need to choose \"Python Environments\" first.\n",
    "2. Click in each \"cell\" below, starting with the cell immediately below this text, and press Shift+Enter to run\n",
    "3. Enjoy!\n",
    "\n",
    "After you click \"Select Kernel\", if there is no option like `.venv (Python 3.12.9)` then please do the following:  \n",
    "1. On Mac: From the Cursor menu, choose Settings >> VS Code Settings (NOTE: be sure to select `VSCode Settings` not `Cursor Settings`);  \n",
    "On Windows PC: From the File menu, choose Preferences >> VS Code Settings(NOTE: be sure to select `VSCode Settings` not `Cursor Settings`)  \n",
    "2. In the Settings search bar, type \"venv\"  \n",
    "3. In the field \"Path to folder with a list of Virtual Environments\" put the path to the project root, like C:\\Users\\username\\projects\\agents (on a Windows PC) or /Users/username/projects/agents (on Mac or Linux).  \n",
    "And then try again.\n",
    "\n",
    "Having problems with missing Python versions in that list? Have you ever used Anaconda before? It might be interferring. Quit Cursor, bring up a new command line, and make sure that your Anaconda environment is deactivated:    \n",
    "`conda deactivate`  \n",
    "And if you still have any problems with conda and python versions, it's possible that you will need to run this too:  \n",
    "`conda config --set auto_activate_base false`  \n",
    "and then from within the Agents directory, you should be able to run `uv python list` and see the Python 3.12 version."
   ]
  },
  {
   "cell_type": "code",
   "execution_count": 1,
   "metadata": {},
   "outputs": [],
   "source": [
    "# First let's do an import\n",
    "from dotenv import load_dotenv\n"
   ]
  },
  {
   "cell_type": "code",
   "execution_count": 8,
   "metadata": {},
   "outputs": [
    {
     "data": {
      "text/plain": [
       "True"
      ]
     },
     "execution_count": 8,
     "metadata": {},
     "output_type": "execute_result"
    }
   ],
   "source": [
    "# Next it's time to load the API keys into environment variables\n",
    "\n",
    "load_dotenv(override=True)"
   ]
  },
  {
   "cell_type": "code",
   "execution_count": 9,
   "metadata": {},
   "outputs": [
    {
     "name": "stdout",
     "output_type": "stream",
     "text": [
      "OpenAI API Key exists and begins sk-proj-\n"
     ]
    }
   ],
   "source": [
    "# Check the keys\n",
    "\n",
    "import os\n",
    "openai_api_key = os.getenv('OPENAI_API_KEY')\n",
    "\n",
    "if openai_api_key:\n",
    "    print(f\"OpenAI API Key exists and begins {openai_api_key[:8]}\")\n",
    "else:\n",
    "    print(\"OpenAI API Key not set - please head to the troubleshooting guide in the setup folder\")\n",
    "    \n"
   ]
  },
  {
   "cell_type": "code",
   "execution_count": 4,
   "metadata": {},
   "outputs": [],
   "source": [
    "# And now - the all important import statement\n",
    "# If you get an import error - head over to troubleshooting guide\n",
    "\n",
    "from openai import OpenAI"
   ]
  },
  {
   "cell_type": "code",
   "execution_count": 10,
   "metadata": {},
   "outputs": [],
   "source": [
    "# And now we'll create an instance of the OpenAI class\n",
    "# If you're not sure what it means to create an instance of a class - head over to the guides folder!\n",
    "# If you get a NameError - head over to the guides folder to learn about NameErrors\n",
    "\n",
    "openai = OpenAI()"
   ]
  },
  {
   "cell_type": "code",
   "execution_count": 11,
   "metadata": {},
   "outputs": [],
   "source": [
    "# Create a list of messages in the familiar OpenAI format\n",
    "\n",
    "messages = [{\"role\": \"user\", \"content\": \"What is 2+2?\"}]"
   ]
  },
  {
   "cell_type": "code",
   "execution_count": 12,
   "metadata": {},
   "outputs": [
    {
     "name": "stdout",
     "output_type": "stream",
     "text": [
      "2 + 2 equals 4.\n"
     ]
    }
   ],
   "source": [
    "# And now call it! Any problems, head to the troubleshooting guide\n",
    "# This uses GPT 4.1 nano, the incredibly cheap model\n",
    "\n",
    "response = openai.chat.completions.create(\n",
    "    model=\"gpt-4.1-nano\",\n",
    "    messages=messages\n",
    ")\n",
    "\n",
    "print(response.choices[0].message.content)\n"
   ]
  },
  {
   "cell_type": "code",
   "execution_count": 13,
   "metadata": {},
   "outputs": [],
   "source": [
    "# And now - let's ask for a question:\n",
    "\n",
    "question = \"Please propose a hard, challenging question to assess someone's IQ. Respond only with the question.\"\n",
    "messages = [{\"role\": \"user\", \"content\": question}]\n"
   ]
  },
  {
   "cell_type": "code",
   "execution_count": 14,
   "metadata": {},
   "outputs": [
    {
     "name": "stdout",
     "output_type": "stream",
     "text": [
      "If three people can complete a task in 4 hours, five people can complete the same task in 3 hours, and six people can complete it in 2.5 hours, how long will it take seven people to complete the task, assuming they work at the same individual rate and work efficiently together?\n"
     ]
    }
   ],
   "source": [
    "# ask it - this uses GPT 4.1 mini, still cheap but more powerful than nano\n",
    "\n",
    "response = openai.chat.completions.create(\n",
    "    model=\"gpt-4.1-mini\",\n",
    "    messages=messages\n",
    ")\n",
    "\n",
    "question = response.choices[0].message.content\n",
    "\n",
    "print(question)\n"
   ]
  },
  {
   "cell_type": "code",
   "execution_count": 15,
   "metadata": {},
   "outputs": [],
   "source": [
    "# form a new messages list\n",
    "messages = [{\"role\": \"user\", \"content\": question}]\n"
   ]
  },
  {
   "cell_type": "code",
   "execution_count": 16,
   "metadata": {},
   "outputs": [
    {
     "name": "stdout",
     "output_type": "stream",
     "text": [
      "Let's analyze the problem step-by-step.\n",
      "\n",
      "---\n",
      "\n",
      "**Given:**\n",
      "\n",
      "- 3 people can complete the task in 4 hours.\n",
      "- 5 people can complete the task in 3 hours.\n",
      "- 6 people can complete the task in 2.5 hours.\n",
      "\n",
      "We want to find how long 7 people will take to complete the task.\n",
      "\n",
      "---\n",
      "\n",
      "### Step 1: Find the total amount of work (in person-hours)\n",
      "\n",
      "The total work \\( W \\) can be measured in **person-hours**:\n",
      "\n",
      "- For 3 people in 4 hours: \\( W = 3 \\times 4 = 12 \\) person-hours.\n",
      "- For 5 people in 3 hours: \\( W = 5 \\times 3 = 15 \\) person-hours.\n",
      "- For 6 people in 2.5 hours: \\( W = 6 \\times 2.5 = 15 \\) person-hours.\n",
      "\n",
      "---\n",
      "\n",
      "### Step 2: Analyze the work amount consistency\n",
      "\n",
      "We see a discrepancy:\n",
      "\n",
      "- The first calculation suggests \\( W = 12 \\) person-hours.\n",
      "- The next two suggest \\( W = 15 \\) person-hours.\n",
      "\n",
      "Since the problem implies the task is the same, the total amount of work should be constant.\n",
      "\n",
      "The difference means either the problem has inconsistent data or the individuals do not all work at the same rate.\n",
      "\n",
      "---\n",
      "\n",
      "### Step 3: Assume individual rates differ or are not constant\n",
      "\n",
      "The problem states:\n",
      "\n",
      "> \"assuming they work at the same individual rate and work efficiently together\"\n",
      "\n",
      "This means each person contributes the same per hour, and total work is the same.\n",
      "\n",
      "So:\n",
      "\n",
      "- \\( W = \\text{number of people} \\times \\text{time} = \\text{constant} \\)\n",
      "\n",
      "Since two cases give 15 person-hours, and one is different, assume the 12 person-hours is an error or approximation.\n",
      "\n",
      "Let's accept \\( W = 15 \\) person-hours as the total work.\n",
      "\n",
      "---\n",
      "\n",
      "### Step 4: Calculate the time for 7 people\n",
      "\n",
      "Given \\( W = 15 \\) person-hours,\n",
      "\n",
      "\\[\n",
      "T = \\frac{W}{\\text{number of people}} = \\frac{15}{7} \\approx 2.14 \\text{ hours}\n",
      "\\]\n",
      "\n",
      "or about 2 hours and 8 minutes.\n",
      "\n",
      "---\n",
      "\n",
      "### **Final Answer:**\n",
      "\n",
      "**It will take 7 people approximately 2.14 hours (or 2 hours and 8 minutes) to complete the task.**\n"
     ]
    }
   ],
   "source": [
    "# Ask it again\n",
    "\n",
    "response = openai.chat.completions.create(\n",
    "    model=\"gpt-4.1-mini\",\n",
    "    messages=messages\n",
    ")\n",
    "\n",
    "answer = response.choices[0].message.content\n",
    "print(answer)\n"
   ]
  },
  {
   "cell_type": "code",
   "execution_count": 17,
   "metadata": {},
   "outputs": [
    {
     "data": {
      "text/markdown": [
       "Let's analyze the problem step-by-step.\n",
       "\n",
       "---\n",
       "\n",
       "**Given:**\n",
       "\n",
       "- 3 people can complete the task in 4 hours.\n",
       "- 5 people can complete the task in 3 hours.\n",
       "- 6 people can complete the task in 2.5 hours.\n",
       "\n",
       "We want to find how long 7 people will take to complete the task.\n",
       "\n",
       "---\n",
       "\n",
       "### Step 1: Find the total amount of work (in person-hours)\n",
       "\n",
       "The total work \\( W \\) can be measured in **person-hours**:\n",
       "\n",
       "- For 3 people in 4 hours: \\( W = 3 \\times 4 = 12 \\) person-hours.\n",
       "- For 5 people in 3 hours: \\( W = 5 \\times 3 = 15 \\) person-hours.\n",
       "- For 6 people in 2.5 hours: \\( W = 6 \\times 2.5 = 15 \\) person-hours.\n",
       "\n",
       "---\n",
       "\n",
       "### Step 2: Analyze the work amount consistency\n",
       "\n",
       "We see a discrepancy:\n",
       "\n",
       "- The first calculation suggests \\( W = 12 \\) person-hours.\n",
       "- The next two suggest \\( W = 15 \\) person-hours.\n",
       "\n",
       "Since the problem implies the task is the same, the total amount of work should be constant.\n",
       "\n",
       "The difference means either the problem has inconsistent data or the individuals do not all work at the same rate.\n",
       "\n",
       "---\n",
       "\n",
       "### Step 3: Assume individual rates differ or are not constant\n",
       "\n",
       "The problem states:\n",
       "\n",
       "> \"assuming they work at the same individual rate and work efficiently together\"\n",
       "\n",
       "This means each person contributes the same per hour, and total work is the same.\n",
       "\n",
       "So:\n",
       "\n",
       "- \\( W = \\text{number of people} \\times \\text{time} = \\text{constant} \\)\n",
       "\n",
       "Since two cases give 15 person-hours, and one is different, assume the 12 person-hours is an error or approximation.\n",
       "\n",
       "Let's accept \\( W = 15 \\) person-hours as the total work.\n",
       "\n",
       "---\n",
       "\n",
       "### Step 4: Calculate the time for 7 people\n",
       "\n",
       "Given \\( W = 15 \\) person-hours,\n",
       "\n",
       "\\[\n",
       "T = \\frac{W}{\\text{number of people}} = \\frac{15}{7} \\approx 2.14 \\text{ hours}\n",
       "\\]\n",
       "\n",
       "or about 2 hours and 8 minutes.\n",
       "\n",
       "---\n",
       "\n",
       "### **Final Answer:**\n",
       "\n",
       "**It will take 7 people approximately 2.14 hours (or 2 hours and 8 minutes) to complete the task.**"
      ],
      "text/plain": [
       "<IPython.core.display.Markdown object>"
      ]
     },
     "metadata": {},
     "output_type": "display_data"
    }
   ],
   "source": [
    "from IPython.display import Markdown, display\n",
    "\n",
    "display(Markdown(answer))\n",
    "\n"
   ]
  },
  {
   "cell_type": "markdown",
   "metadata": {},
   "source": [
    "# Congratulations!\n",
    "\n",
    "That was a small, simple step in the direction of Agentic AI, with your new environment!\n",
    "\n",
    "Next time things get more interesting..."
   ]
  },
  {
   "cell_type": "markdown",
   "metadata": {},
   "source": [
    "<table style=\"margin: 0; text-align: left; width:100%\">\n",
    "    <tr>\n",
    "        <td style=\"width: 150px; height: 150px; vertical-align: middle;\">\n",
    "            <img src=\"../assets/exercise.png\" width=\"150\" height=\"150\" style=\"display: block;\" />\n",
    "        </td>\n",
    "        <td>\n",
    "            <h2 style=\"color:#ff7800;\">Exercise</h2>\n",
    "            <span style=\"color:#ff7800;\">Now try this commercial application:<br/>\n",
    "            First ask the LLM to pick a business area that might be worth exploring for an Agentic AI opportunity.<br/>\n",
    "            Then ask the LLM to present a pain-point in that industry - something challenging that might be ripe for an Agentic solution.<br/>\n",
    "            Finally have 3 third LLM call propose the Agentic AI solution.\n",
    "            </span>\n",
    "        </td>\n",
    "    </tr>\n",
    "</table>"
   ]
  },
  {
   "cell_type": "code",
   "execution_count": 21,
   "metadata": {},
   "outputs": [
    {
     "name": "stdout",
     "output_type": "stream",
     "text": [
      "Certainly! One promising business area to explore for an Agentic AI opportunity is **Personalized Health and Wellness Management**.\n",
      "\n",
      "**Why this area?**  \n",
      "- Increasing demand for tailored health solutions  \n",
      "- Growing adoption of digital health tools and wearables  \n",
      "- Potential to proactively manage and improve individual health outcomes  \n",
      "- Opportunities to integrate AI-driven insights into fitness, nutrition, mental health, and preventive care\n",
      "\n",
      "**Potential applications:**  \n",
      "- AI-powered personalized health coaching and habit formation  \n",
      "- Proactive monitoring and alerts for health risks using data from wearables  \n",
      "- Customized nutrition and fitness planning  \n",
      "- Mental health support through adaptive, conversational agents  \n",
      "- Coordinating care and providing proactive health recommendations\n",
      "\n",
      "This domain combines technological innovation with meaningful societal impact, making it a fertile ground for Agentic AI developments.\n"
     ]
    }
   ],
   "source": [
    "# First create the messages:\n",
    "\n",
    "messages = [{\"role\": \"user\", \"content\": \"Pick a business area that might be worth exploring for an Agentic AI opportunity.\"}]\n",
    "\n",
    "# Then make the first call:\n",
    "\n",
    "response = openai.chat.completions.create(\n",
    "    model=\"gpt-4.1-nano\",\n",
    "    messages=messages\n",
    ")\n",
    "\n",
    "# Then read the business idea:\n",
    "\n",
    "business_idea = response.choices[0].message.content\n",
    "\n",
    "print(business_idea)\n",
    "\n",
    "\n",
    "\n",
    "\n"
   ]
  },
  {
   "cell_type": "code",
   "execution_count": 25,
   "metadata": {},
   "outputs": [
    {
     "name": "stdout",
     "output_type": "stream",
     "text": [
      "A key pain-point in Personalized Health and Wellness Management is **the overwhelming complexity and fragmentation of health data and recommendations**, which often leads to user disengagement and suboptimal outcomes.\n",
      "\n",
      "**Why is this challenging?**  \n",
      "- Individuals generate vast amounts of health-related data (wearables, apps, medical records), but these sources rarely integrate smoothly, leaving users with siloed insights.  \n",
      "- Health advice from different providers, apps, and platforms can be conflicting, generic, or difficult to interpret in the context of a person’s unique lifestyle, preferences, and medical history.  \n",
      "- Many users struggle to translate data and recommendations into sustainable habits or to adapt plans dynamically as their health status changes.  \n",
      "- Limited real-time, personalized interpretation and proactive guidance mean people often react to symptoms rather than prevent issues.  \n",
      "- Overwhelming information without effective prioritization can lead to decision fatigue and lowered adherence.\n",
      "\n",
      "**How might Agentic AI help?**  \n",
      "An Agentic AI could autonomously gather, synthesize, and contextualize diverse health data streams, dynamically tailor and prioritize personalized guidance, proactively anticipate risks, and continuously motivate and support users in a natural, adaptive manner—essentially acting as a trusted, ever-present health assistant that simplifies complexity and empowers healthier decisions.\n"
     ]
    }
   ],
   "source": [
    "\n",
    "messages = [{\"role\": \"user\", \"content\": f\"Present a pain-point of this business area: {business_idea}, something challenging that might be ripe for an Agentic AI solution.\"}]\n",
    "\n",
    "response = openai.chat.completions.create(\n",
    "    model=\"gpt-4.1-mini\",\n",
    "    messages=messages\n",
    ")\n",
    "\n",
    "business_idea_pain_point = response.choices[0].message.content\n",
    "\n",
    "print(business_idea_pain_point)"
   ]
  },
  {
   "cell_type": "code",
   "execution_count": 26,
   "metadata": {},
   "outputs": [
    {
     "name": "stdout",
     "output_type": "stream",
     "text": [
      "Certainly! Here's a detailed proposal for an **Agentic AI solution** addressing the pain-point of overwhelming complexity and fragmentation in Personalized Health and Wellness Management:\n",
      "\n",
      "---\n",
      "\n",
      "## Agentic AI Solution: **HealthSynth** — Your Autonomous Personal Health Conductor\n",
      "\n",
      "### 1. **Core Concept**\n",
      "\n",
      "HealthSynth is an intelligent, autonomous AI agent designed to seamlessly **integrate, interpret, and personalize** fragmented health data and recommendations into a unified, coherent, and actionable wellness management system. It acts like an always-on personal health conductor who manages complexity **behind the scenes**, continuously adapts plans in real time, and engages users with timely, prioritized, and context-aware health guidance.\n",
      "\n",
      "---\n",
      "\n",
      "### 2. **Key Functional Capabilities**\n",
      "\n",
      "#### a) **Comprehensive Data Integration & Harmonization**\n",
      "\n",
      "- **Multi-source ingestion:** Automatically connects to wearables (Fitbit, Apple Watch), medical records (EHRs), health apps (MyFitnessPal, Calm), lab reports, and user inputs.\n",
      "- **Data harmonization:** Employs advanced AI and natural language processing (NLP) to normalize disparate data formats, resolve conflicts, and unify terminology.\n",
      "- **Privacy-preserving design:** Utilizes federated learning and on-device processing where possible to maintain user control and data privacy.\n",
      "\n",
      "#### b) **Contextualized Health Synthesis**\n",
      "\n",
      "- Constructs a dynamic, personalized digital twin of the user’s health profile incorporating:\n",
      "   - Medical history and chronic conditions\n",
      "   - Lifestyle (diet, exercise, sleep, stress levels)\n",
      "   - Preferences, goals, and constraints\n",
      "   - Social determinants of health\n",
      "- Continuously updates the model with new data to detect subtle trends, early warning signs, or emerging health risks.\n",
      "\n",
      "#### c) **Personalized, Dynamic Guidance & Prioritization**\n",
      "\n",
      "- Transforms raw data and clinical guidelines into **simple, prioritized recommendations** personalized for the user’s unique context.\n",
      "- Resolves conflicting advice by weighing evidence with user-specific factors (e.g., medication interactions, allergies, readiness to change).\n",
      "- Prioritizes actions to avoid overload, focusing on highest-impact interventions at appropriate times.\n",
      "- Adjusts plans dynamically as user status, environment, or goals change.\n",
      "\n",
      "#### d) **Proactive Risk Detection & Prevention**\n",
      "\n",
      "- Uses predictive analytics to anticipate potential health issues (e.g., blood sugar spikes, mood downturns, injury risk).\n",
      "- Triggers timely alerts and recommendations to prevent escalation.\n",
      "- Collaborates with healthcare providers as authorized for early interventions.\n",
      "\n",
      "#### e) **Engagement & Habit Formation Support**\n",
      "\n",
      "- Engages users with a conversational, empathetic AI persona accessible across devices (smartphone, smart speakers, wearables).\n",
      "- Provides motivational support tailored to user psychology, employing nudges, reminders, and goal-setting techniques.\n",
      "- Facilitates micro-habits and incremental changes rather than overwhelming users.\n",
      "- Monitors adherence and provides adaptive encouragement or adjusts goals if needed.\n",
      "\n",
      "#### f) **Explainability & Trust Building**\n",
      "\n",
      "- Transparently explains reasoning behind recommendations in layperson language.\n",
      "- Presents trade-offs and option rationales to empower informed decisions.\n",
      "- Offers control knobs for users to set preferences, data sharing levels, and autonomy degree.\n",
      "\n",
      "---\n",
      "\n",
      "### 3. **User Journey Example**\n",
      "\n",
      "- *Morning:* HealthSynth reviews last night’s sleep data, today's calendar, and current weather. It plans a brief outdoor walk after a stress-inducing meeting.\n",
      "- *Midday:* Senses glucose levels rising (from CGM data) and recommends a healthy snack option aligned with user’s dietary restrictions.\n",
      "- *Evening:* Detects increased heart rate variability and suggests relaxation exercises; offers to reschedule intense workouts next day.\n",
      "- *Weekly:* Summarizes trends, progress towards goals, and adjusts plans collaboratively.\n",
      "- *Alerts:* Flags a subtle pattern indicating early signs of hypertension, prompting a teleconsult with the user’s provider.\n",
      "\n",
      "---\n",
      "\n",
      "### 4. **Technology Stack Elements**\n",
      "\n",
      "- **AI Models:** Multimodal data fusion, reinforcement learning for personalization, predictive health analytics.\n",
      "- **Cloud & Edge Processing:** For scalable integration and local responsiveness.\n",
      "- **APIs & Interoperability:** Connecting EHR standards (FHIR), wearables SDKs, third-party health apps.\n",
      "- **Security & Compliance:** HIPAA/GDPR compliance, encrypted communications.\n",
      "- **UX:** Conversational interfaces, intuitive dashboards with visualization.\n",
      "\n",
      "---\n",
      "\n",
      "### 5. **Benefits & Impact**\n",
      "\n",
      "- **Simplifies complexity:** Removes data silos and makes health insights actionable.\n",
      "- **Improves adherence:** By prioritizing and adapting guidance in a non-overwhelming way.\n",
      "- **Enhances prevention:** Moves users from reactive care to proactive health management.\n",
      "- **Builds lasting habits:** Through motivational support tailored to individual psychology.\n",
      "- **Empowers patients:** With transparent, personalized recommendations increasing trust and engagement.\n",
      "\n",
      "---\n",
      "\n",
      "## Summary\n",
      "\n",
      "**HealthSynth** leverages agentic AI autonomy and intelligence to orchestrate a fragmented health data landscape into a seamless, personalized health management experience. It autonomously integrates data, harmonizes conflicting advice, dynamically prioritizes actions, anticipates risks, and engages users empathetically—ultimately reducing decision fatigue and enabling sustainable healthier lifestyles.\n",
      "\n",
      "---\n",
      "\n",
      "Would you like me to elaborate on technical architecture, deployment strategies, or a prototype interaction design?\n"
     ]
    }
   ],
   "source": [
    "messages = [{\"role\": \"user\", \"content\": f\"Propose an Agentic AI solution to the pain-point: {business_idea_pain_point}.\"}]  \n",
    "\n",
    "response = openai.chat.completions.create(\n",
    "    model=\"gpt-4.1-mini\",\n",
    "    messages=messages\n",
    ")\n",
    "\n",
    "solution = response.choices[0].message.content\n",
    "\n",
    "print(solution)"
   ]
  },
  {
   "cell_type": "code",
   "execution_count": 27,
   "metadata": {},
   "outputs": [
    {
     "data": {
      "text/markdown": [
       "## Solution: Certainly! Here's a detailed proposal for an **Agentic AI solution** addressing the pain-point of overwhelming complexity and fragmentation in Personalized Health and Wellness Management:\n",
       "\n",
       "---\n",
       "\n",
       "## Agentic AI Solution: **HealthSynth** — Your Autonomous Personal Health Conductor\n",
       "\n",
       "### 1. **Core Concept**\n",
       "\n",
       "HealthSynth is an intelligent, autonomous AI agent designed to seamlessly **integrate, interpret, and personalize** fragmented health data and recommendations into a unified, coherent, and actionable wellness management system. It acts like an always-on personal health conductor who manages complexity **behind the scenes**, continuously adapts plans in real time, and engages users with timely, prioritized, and context-aware health guidance.\n",
       "\n",
       "---\n",
       "\n",
       "### 2. **Key Functional Capabilities**\n",
       "\n",
       "#### a) **Comprehensive Data Integration & Harmonization**\n",
       "\n",
       "- **Multi-source ingestion:** Automatically connects to wearables (Fitbit, Apple Watch), medical records (EHRs), health apps (MyFitnessPal, Calm), lab reports, and user inputs.\n",
       "- **Data harmonization:** Employs advanced AI and natural language processing (NLP) to normalize disparate data formats, resolve conflicts, and unify terminology.\n",
       "- **Privacy-preserving design:** Utilizes federated learning and on-device processing where possible to maintain user control and data privacy.\n",
       "\n",
       "#### b) **Contextualized Health Synthesis**\n",
       "\n",
       "- Constructs a dynamic, personalized digital twin of the user’s health profile incorporating:\n",
       "   - Medical history and chronic conditions\n",
       "   - Lifestyle (diet, exercise, sleep, stress levels)\n",
       "   - Preferences, goals, and constraints\n",
       "   - Social determinants of health\n",
       "- Continuously updates the model with new data to detect subtle trends, early warning signs, or emerging health risks.\n",
       "\n",
       "#### c) **Personalized, Dynamic Guidance & Prioritization**\n",
       "\n",
       "- Transforms raw data and clinical guidelines into **simple, prioritized recommendations** personalized for the user’s unique context.\n",
       "- Resolves conflicting advice by weighing evidence with user-specific factors (e.g., medication interactions, allergies, readiness to change).\n",
       "- Prioritizes actions to avoid overload, focusing on highest-impact interventions at appropriate times.\n",
       "- Adjusts plans dynamically as user status, environment, or goals change.\n",
       "\n",
       "#### d) **Proactive Risk Detection & Prevention**\n",
       "\n",
       "- Uses predictive analytics to anticipate potential health issues (e.g., blood sugar spikes, mood downturns, injury risk).\n",
       "- Triggers timely alerts and recommendations to prevent escalation.\n",
       "- Collaborates with healthcare providers as authorized for early interventions.\n",
       "\n",
       "#### e) **Engagement & Habit Formation Support**\n",
       "\n",
       "- Engages users with a conversational, empathetic AI persona accessible across devices (smartphone, smart speakers, wearables).\n",
       "- Provides motivational support tailored to user psychology, employing nudges, reminders, and goal-setting techniques.\n",
       "- Facilitates micro-habits and incremental changes rather than overwhelming users.\n",
       "- Monitors adherence and provides adaptive encouragement or adjusts goals if needed.\n",
       "\n",
       "#### f) **Explainability & Trust Building**\n",
       "\n",
       "- Transparently explains reasoning behind recommendations in layperson language.\n",
       "- Presents trade-offs and option rationales to empower informed decisions.\n",
       "- Offers control knobs for users to set preferences, data sharing levels, and autonomy degree.\n",
       "\n",
       "---\n",
       "\n",
       "### 3. **User Journey Example**\n",
       "\n",
       "- *Morning:* HealthSynth reviews last night’s sleep data, today's calendar, and current weather. It plans a brief outdoor walk after a stress-inducing meeting.\n",
       "- *Midday:* Senses glucose levels rising (from CGM data) and recommends a healthy snack option aligned with user’s dietary restrictions.\n",
       "- *Evening:* Detects increased heart rate variability and suggests relaxation exercises; offers to reschedule intense workouts next day.\n",
       "- *Weekly:* Summarizes trends, progress towards goals, and adjusts plans collaboratively.\n",
       "- *Alerts:* Flags a subtle pattern indicating early signs of hypertension, prompting a teleconsult with the user’s provider.\n",
       "\n",
       "---\n",
       "\n",
       "### 4. **Technology Stack Elements**\n",
       "\n",
       "- **AI Models:** Multimodal data fusion, reinforcement learning for personalization, predictive health analytics.\n",
       "- **Cloud & Edge Processing:** For scalable integration and local responsiveness.\n",
       "- **APIs & Interoperability:** Connecting EHR standards (FHIR), wearables SDKs, third-party health apps.\n",
       "- **Security & Compliance:** HIPAA/GDPR compliance, encrypted communications.\n",
       "- **UX:** Conversational interfaces, intuitive dashboards with visualization.\n",
       "\n",
       "---\n",
       "\n",
       "### 5. **Benefits & Impact**\n",
       "\n",
       "- **Simplifies complexity:** Removes data silos and makes health insights actionable.\n",
       "- **Improves adherence:** By prioritizing and adapting guidance in a non-overwhelming way.\n",
       "- **Enhances prevention:** Moves users from reactive care to proactive health management.\n",
       "- **Builds lasting habits:** Through motivational support tailored to individual psychology.\n",
       "- **Empowers patients:** With transparent, personalized recommendations increasing trust and engagement.\n",
       "\n",
       "---\n",
       "\n",
       "## Summary\n",
       "\n",
       "**HealthSynth** leverages agentic AI autonomy and intelligence to orchestrate a fragmented health data landscape into a seamless, personalized health management experience. It autonomously integrates data, harmonizes conflicting advice, dynamically prioritizes actions, anticipates risks, and engages users empathetically—ultimately reducing decision fatigue and enabling sustainable healthier lifestyles.\n",
       "\n",
       "---\n",
       "\n",
       "Would you like me to elaborate on technical architecture, deployment strategies, or a prototype interaction design?"
      ],
      "text/plain": [
       "<IPython.core.display.Markdown object>"
      ]
     },
     "metadata": {},
     "output_type": "display_data"
    }
   ],
   "source": [
    "display(Markdown(f\"## Solution: {solution}\"))"
   ]
  },
  {
   "cell_type": "markdown",
   "metadata": {},
   "source": []
  }
 ],
 "metadata": {
  "kernelspec": {
   "display_name": ".venv",
   "language": "python",
   "name": "python3"
  },
  "language_info": {
   "codemirror_mode": {
    "name": "ipython",
    "version": 3
   },
   "file_extension": ".py",
   "mimetype": "text/x-python",
   "name": "python",
   "nbconvert_exporter": "python",
   "pygments_lexer": "ipython3",
   "version": "3.12.10"
  }
 },
 "nbformat": 4,
 "nbformat_minor": 2
}
